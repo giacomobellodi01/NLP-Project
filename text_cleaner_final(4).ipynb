{
 "cells": [
  {
   "cell_type": "code",
   "execution_count": 27,
   "metadata": {},
   "outputs": [],
   "source": [
    "import pandas as pd\n",
    "import matplotlib.pyplot as plt\n",
    "import regex as re\n",
    "from collections import defaultdict\n",
    "import pickle\n",
    "import numpy as np"
   ]
  },
  {
   "cell_type": "code",
   "execution_count": 28,
   "metadata": {},
   "outputs": [],
   "source": [
    "movies = pd.read_json('data/IMDB_movie_details_eng.json')\n",
    "reviews = pd.read_json('data/IMDB_reviews.json', lines = True)\n",
    "\n",
    "movies.movie_id = movies.movie_id.astype('str')\n",
    "reviews.movie_id = reviews.movie_id.astype('str')"
   ]
  },
  {
   "cell_type": "code",
   "execution_count": 29,
   "metadata": {},
   "outputs": [
    {
     "name": "stdout",
     "output_type": "stream",
     "text": [
      "<class 'pandas.core.frame.DataFrame'>\n",
      "Index: 1572 entries, 0 to 1571\n",
      "Data columns (total 8 columns):\n",
      " #   Column         Non-Null Count  Dtype  \n",
      "---  ------         --------------  -----  \n",
      " 0   movie_id       1572 non-null   object \n",
      " 1   plot_summary   1572 non-null   object \n",
      " 2   duration       1572 non-null   object \n",
      " 3   genre          1572 non-null   object \n",
      " 4   rating         1572 non-null   float64\n",
      " 5   release_date   1572 non-null   object \n",
      " 6   plot_synopsis  1572 non-null   object \n",
      " 7   title          1572 non-null   object \n",
      "dtypes: float64(1), object(7)\n",
      "memory usage: 110.5+ KB\n"
     ]
    }
   ],
   "source": [
    "movies.info()"
   ]
  },
  {
   "cell_type": "code",
   "execution_count": 30,
   "metadata": {},
   "outputs": [
    {
     "data": {
      "text/plain": [
       "title\n",
       "Les Misérables                     2\n",
       "Crash                              2\n",
       "Total Recall                       2\n",
       "Hercules                           2\n",
       "Flatliners                         2\n",
       "Oldboy                             2\n",
       "The Three Musketeers               2\n",
       "The Girl with the Dragon Tattoo    2\n",
       "Fantastic Four                     2\n",
       "Spirited Away                      1\n",
       "Name: movie_id, dtype: int64"
      ]
     },
     "execution_count": 30,
     "metadata": {},
     "output_type": "execute_result"
    }
   ],
   "source": [
    "\n",
    "movies.groupby('title').count()['movie_id'].sort_values(ascending = False).head(10)"
   ]
  },
  {
   "cell_type": "code",
   "execution_count": 31,
   "metadata": {},
   "outputs": [
    {
     "data": {
      "text/html": [
       "<div>\n",
       "<style scoped>\n",
       "    .dataframe tbody tr th:only-of-type {\n",
       "        vertical-align: middle;\n",
       "    }\n",
       "\n",
       "    .dataframe tbody tr th {\n",
       "        vertical-align: top;\n",
       "    }\n",
       "\n",
       "    .dataframe thead th {\n",
       "        text-align: right;\n",
       "    }\n",
       "</style>\n",
       "<table border=\"1\" class=\"dataframe\">\n",
       "  <thead>\n",
       "    <tr style=\"text-align: right;\">\n",
       "      <th></th>\n",
       "      <th>movie_id</th>\n",
       "      <th>title</th>\n",
       "      <th>release_date</th>\n",
       "    </tr>\n",
       "  </thead>\n",
       "  <tbody>\n",
       "    <tr>\n",
       "      <th>165</th>\n",
       "      <td>tt0119683</td>\n",
       "      <td>Les Misérables</td>\n",
       "      <td>1998-05-01</td>\n",
       "    </tr>\n",
       "    <tr>\n",
       "      <th>319</th>\n",
       "      <td>tt1267297</td>\n",
       "      <td>Hercules</td>\n",
       "      <td>2014-07-25</td>\n",
       "    </tr>\n",
       "    <tr>\n",
       "      <th>339</th>\n",
       "      <td>tt0100802</td>\n",
       "      <td>Total Recall</td>\n",
       "      <td>1990-06-01</td>\n",
       "    </tr>\n",
       "    <tr>\n",
       "      <th>394</th>\n",
       "      <td>tt1321511</td>\n",
       "      <td>Oldboy</td>\n",
       "      <td>2013-11-27</td>\n",
       "    </tr>\n",
       "    <tr>\n",
       "      <th>432</th>\n",
       "      <td>tt0108333</td>\n",
       "      <td>The Three Musketeers</td>\n",
       "      <td>1993-11-12</td>\n",
       "    </tr>\n",
       "    <tr>\n",
       "      <th>501</th>\n",
       "      <td>tt0099582</td>\n",
       "      <td>Flatliners</td>\n",
       "      <td>1990-08-10</td>\n",
       "    </tr>\n",
       "    <tr>\n",
       "      <th>795</th>\n",
       "      <td>tt1132620</td>\n",
       "      <td>The Girl with the Dragon Tattoo</td>\n",
       "      <td>2010-04-30</td>\n",
       "    </tr>\n",
       "    <tr>\n",
       "      <th>892</th>\n",
       "      <td>tt1509767</td>\n",
       "      <td>The Three Musketeers</td>\n",
       "      <td>2011-10-21</td>\n",
       "    </tr>\n",
       "    <tr>\n",
       "      <th>940</th>\n",
       "      <td>tt0364569</td>\n",
       "      <td>Oldboy</td>\n",
       "      <td>2003-11-21</td>\n",
       "    </tr>\n",
       "    <tr>\n",
       "      <th>1031</th>\n",
       "      <td>tt1386703</td>\n",
       "      <td>Total Recall</td>\n",
       "      <td>2012-08-03</td>\n",
       "    </tr>\n",
       "    <tr>\n",
       "      <th>1108</th>\n",
       "      <td>tt0119282</td>\n",
       "      <td>Hercules</td>\n",
       "      <td>1997-06-27</td>\n",
       "    </tr>\n",
       "    <tr>\n",
       "      <th>1141</th>\n",
       "      <td>tt0375679</td>\n",
       "      <td>Crash</td>\n",
       "      <td>2005-05-06</td>\n",
       "    </tr>\n",
       "    <tr>\n",
       "      <th>1163</th>\n",
       "      <td>tt0120667</td>\n",
       "      <td>Fantastic Four</td>\n",
       "      <td>2005-07-08</td>\n",
       "    </tr>\n",
       "    <tr>\n",
       "      <th>1186</th>\n",
       "      <td>tt1568346</td>\n",
       "      <td>The Girl with the Dragon Tattoo</td>\n",
       "      <td>2011-12-21</td>\n",
       "    </tr>\n",
       "    <tr>\n",
       "      <th>1483</th>\n",
       "      <td>tt2039338</td>\n",
       "      <td>Flatliners</td>\n",
       "      <td>2017-09-29</td>\n",
       "    </tr>\n",
       "    <tr>\n",
       "      <th>1524</th>\n",
       "      <td>tt0115964</td>\n",
       "      <td>Crash</td>\n",
       "      <td>1997-03-21</td>\n",
       "    </tr>\n",
       "    <tr>\n",
       "      <th>1537</th>\n",
       "      <td>tt1707386</td>\n",
       "      <td>Les Misérables</td>\n",
       "      <td>2012-12-25</td>\n",
       "    </tr>\n",
       "    <tr>\n",
       "      <th>1558</th>\n",
       "      <td>tt1502712</td>\n",
       "      <td>Fantastic Four</td>\n",
       "      <td>2015-08-07</td>\n",
       "    </tr>\n",
       "  </tbody>\n",
       "</table>\n",
       "</div>"
      ],
      "text/plain": [
       "       movie_id                            title release_date\n",
       "165   tt0119683                   Les Misérables   1998-05-01\n",
       "319   tt1267297                         Hercules   2014-07-25\n",
       "339   tt0100802                     Total Recall   1990-06-01\n",
       "394   tt1321511                           Oldboy   2013-11-27\n",
       "432   tt0108333             The Three Musketeers   1993-11-12\n",
       "501   tt0099582                       Flatliners   1990-08-10\n",
       "795   tt1132620  The Girl with the Dragon Tattoo   2010-04-30\n",
       "892   tt1509767             The Three Musketeers   2011-10-21\n",
       "940   tt0364569                           Oldboy   2003-11-21\n",
       "1031  tt1386703                     Total Recall   2012-08-03\n",
       "1108  tt0119282                         Hercules   1997-06-27\n",
       "1141  tt0375679                            Crash   2005-05-06\n",
       "1163  tt0120667                   Fantastic Four   2005-07-08\n",
       "1186  tt1568346  The Girl with the Dragon Tattoo   2011-12-21\n",
       "1483  tt2039338                       Flatliners   2017-09-29\n",
       "1524  tt0115964                            Crash   1997-03-21\n",
       "1537  tt1707386                   Les Misérables   2012-12-25\n",
       "1558  tt1502712                   Fantastic Four   2015-08-07"
      ]
     },
     "execution_count": 31,
     "metadata": {},
     "output_type": "execute_result"
    }
   ],
   "source": [
    "movie_doubles = movies.loc[movies.title.isin(['Les Misérables', 'Crash','Total Recall', 'Hercules', 'Flatliners', 'Oldboy', 'The Three Musketeers', 'The Girl with the Dragon Tattoo', 'Fantastic Four']), ['movie_id', 'title', 'release_date']]\n",
    "movie_doubles"
   ]
  },
  {
   "cell_type": "markdown",
   "metadata": {},
   "source": [
    "They have the same title but different release dates => different movies."
   ]
  },
  {
   "cell_type": "code",
   "execution_count": 32,
   "metadata": {},
   "outputs": [
    {
     "data": {
      "text/html": [
       "<div>\n",
       "<style scoped>\n",
       "    .dataframe tbody tr th:only-of-type {\n",
       "        vertical-align: middle;\n",
       "    }\n",
       "\n",
       "    .dataframe tbody tr th {\n",
       "        vertical-align: top;\n",
       "    }\n",
       "\n",
       "    .dataframe thead th {\n",
       "        text-align: right;\n",
       "    }\n",
       "</style>\n",
       "<table border=\"1\" class=\"dataframe\">\n",
       "  <thead>\n",
       "    <tr style=\"text-align: right;\">\n",
       "      <th></th>\n",
       "      <th>movie_id</th>\n",
       "      <th>title</th>\n",
       "      <th>release_date</th>\n",
       "      <th>year</th>\n",
       "      <th>title_year</th>\n",
       "    </tr>\n",
       "  </thead>\n",
       "  <tbody>\n",
       "    <tr>\n",
       "      <th>165</th>\n",
       "      <td>tt0119683</td>\n",
       "      <td>Les Misérables</td>\n",
       "      <td>1998-05-01</td>\n",
       "      <td>1998</td>\n",
       "      <td>Les Misérables (1998)</td>\n",
       "    </tr>\n",
       "    <tr>\n",
       "      <th>319</th>\n",
       "      <td>tt1267297</td>\n",
       "      <td>Hercules</td>\n",
       "      <td>2014-07-25</td>\n",
       "      <td>2014</td>\n",
       "      <td>Hercules (2014)</td>\n",
       "    </tr>\n",
       "    <tr>\n",
       "      <th>339</th>\n",
       "      <td>tt0100802</td>\n",
       "      <td>Total Recall</td>\n",
       "      <td>1990-06-01</td>\n",
       "      <td>1990</td>\n",
       "      <td>Total Recall (1990)</td>\n",
       "    </tr>\n",
       "    <tr>\n",
       "      <th>394</th>\n",
       "      <td>tt1321511</td>\n",
       "      <td>Oldboy</td>\n",
       "      <td>2013-11-27</td>\n",
       "      <td>2013</td>\n",
       "      <td>Oldboy (2013)</td>\n",
       "    </tr>\n",
       "    <tr>\n",
       "      <th>432</th>\n",
       "      <td>tt0108333</td>\n",
       "      <td>The Three Musketeers</td>\n",
       "      <td>1993-11-12</td>\n",
       "      <td>1993</td>\n",
       "      <td>The Three Musketeers (1993)</td>\n",
       "    </tr>\n",
       "    <tr>\n",
       "      <th>501</th>\n",
       "      <td>tt0099582</td>\n",
       "      <td>Flatliners</td>\n",
       "      <td>1990-08-10</td>\n",
       "      <td>1990</td>\n",
       "      <td>Flatliners (1990)</td>\n",
       "    </tr>\n",
       "    <tr>\n",
       "      <th>795</th>\n",
       "      <td>tt1132620</td>\n",
       "      <td>The Girl with the Dragon Tattoo</td>\n",
       "      <td>2010-04-30</td>\n",
       "      <td>2010</td>\n",
       "      <td>The Girl with the Dragon Tattoo (2010)</td>\n",
       "    </tr>\n",
       "    <tr>\n",
       "      <th>892</th>\n",
       "      <td>tt1509767</td>\n",
       "      <td>The Three Musketeers</td>\n",
       "      <td>2011-10-21</td>\n",
       "      <td>2011</td>\n",
       "      <td>The Three Musketeers (2011)</td>\n",
       "    </tr>\n",
       "    <tr>\n",
       "      <th>940</th>\n",
       "      <td>tt0364569</td>\n",
       "      <td>Oldboy</td>\n",
       "      <td>2003-11-21</td>\n",
       "      <td>2003</td>\n",
       "      <td>Oldboy (2003)</td>\n",
       "    </tr>\n",
       "    <tr>\n",
       "      <th>1031</th>\n",
       "      <td>tt1386703</td>\n",
       "      <td>Total Recall</td>\n",
       "      <td>2012-08-03</td>\n",
       "      <td>2012</td>\n",
       "      <td>Total Recall (2012)</td>\n",
       "    </tr>\n",
       "    <tr>\n",
       "      <th>1108</th>\n",
       "      <td>tt0119282</td>\n",
       "      <td>Hercules</td>\n",
       "      <td>1997-06-27</td>\n",
       "      <td>1997</td>\n",
       "      <td>Hercules (1997)</td>\n",
       "    </tr>\n",
       "    <tr>\n",
       "      <th>1141</th>\n",
       "      <td>tt0375679</td>\n",
       "      <td>Crash</td>\n",
       "      <td>2005-05-06</td>\n",
       "      <td>2005</td>\n",
       "      <td>Crash (2005)</td>\n",
       "    </tr>\n",
       "    <tr>\n",
       "      <th>1163</th>\n",
       "      <td>tt0120667</td>\n",
       "      <td>Fantastic Four</td>\n",
       "      <td>2005-07-08</td>\n",
       "      <td>2005</td>\n",
       "      <td>Fantastic Four (2005)</td>\n",
       "    </tr>\n",
       "    <tr>\n",
       "      <th>1186</th>\n",
       "      <td>tt1568346</td>\n",
       "      <td>The Girl with the Dragon Tattoo</td>\n",
       "      <td>2011-12-21</td>\n",
       "      <td>2011</td>\n",
       "      <td>The Girl with the Dragon Tattoo (2011)</td>\n",
       "    </tr>\n",
       "    <tr>\n",
       "      <th>1483</th>\n",
       "      <td>tt2039338</td>\n",
       "      <td>Flatliners</td>\n",
       "      <td>2017-09-29</td>\n",
       "      <td>2017</td>\n",
       "      <td>Flatliners (2017)</td>\n",
       "    </tr>\n",
       "    <tr>\n",
       "      <th>1524</th>\n",
       "      <td>tt0115964</td>\n",
       "      <td>Crash</td>\n",
       "      <td>1997-03-21</td>\n",
       "      <td>1997</td>\n",
       "      <td>Crash (1997)</td>\n",
       "    </tr>\n",
       "    <tr>\n",
       "      <th>1537</th>\n",
       "      <td>tt1707386</td>\n",
       "      <td>Les Misérables</td>\n",
       "      <td>2012-12-25</td>\n",
       "      <td>2012</td>\n",
       "      <td>Les Misérables (2012)</td>\n",
       "    </tr>\n",
       "    <tr>\n",
       "      <th>1558</th>\n",
       "      <td>tt1502712</td>\n",
       "      <td>Fantastic Four</td>\n",
       "      <td>2015-08-07</td>\n",
       "      <td>2015</td>\n",
       "      <td>Fantastic Four (2015)</td>\n",
       "    </tr>\n",
       "  </tbody>\n",
       "</table>\n",
       "</div>"
      ],
      "text/plain": [
       "       movie_id                            title release_date  year  \\\n",
       "165   tt0119683                   Les Misérables   1998-05-01  1998   \n",
       "319   tt1267297                         Hercules   2014-07-25  2014   \n",
       "339   tt0100802                     Total Recall   1990-06-01  1990   \n",
       "394   tt1321511                           Oldboy   2013-11-27  2013   \n",
       "432   tt0108333             The Three Musketeers   1993-11-12  1993   \n",
       "501   tt0099582                       Flatliners   1990-08-10  1990   \n",
       "795   tt1132620  The Girl with the Dragon Tattoo   2010-04-30  2010   \n",
       "892   tt1509767             The Three Musketeers   2011-10-21  2011   \n",
       "940   tt0364569                           Oldboy   2003-11-21  2003   \n",
       "1031  tt1386703                     Total Recall   2012-08-03  2012   \n",
       "1108  tt0119282                         Hercules   1997-06-27  1997   \n",
       "1141  tt0375679                            Crash   2005-05-06  2005   \n",
       "1163  tt0120667                   Fantastic Four   2005-07-08  2005   \n",
       "1186  tt1568346  The Girl with the Dragon Tattoo   2011-12-21  2011   \n",
       "1483  tt2039338                       Flatliners   2017-09-29  2017   \n",
       "1524  tt0115964                            Crash   1997-03-21  1997   \n",
       "1537  tt1707386                   Les Misérables   2012-12-25  2012   \n",
       "1558  tt1502712                   Fantastic Four   2015-08-07  2015   \n",
       "\n",
       "                                  title_year  \n",
       "165                    Les Misérables (1998)  \n",
       "319                          Hercules (2014)  \n",
       "339                      Total Recall (1990)  \n",
       "394                            Oldboy (2013)  \n",
       "432              The Three Musketeers (1993)  \n",
       "501                        Flatliners (1990)  \n",
       "795   The Girl with the Dragon Tattoo (2010)  \n",
       "892              The Three Musketeers (2011)  \n",
       "940                            Oldboy (2003)  \n",
       "1031                     Total Recall (2012)  \n",
       "1108                         Hercules (1997)  \n",
       "1141                            Crash (2005)  \n",
       "1163                   Fantastic Four (2005)  \n",
       "1186  The Girl with the Dragon Tattoo (2011)  \n",
       "1483                       Flatliners (2017)  \n",
       "1524                            Crash (1997)  \n",
       "1537                   Les Misérables (2012)  \n",
       "1558                   Fantastic Four (2015)  "
      ]
     },
     "execution_count": 32,
     "metadata": {},
     "output_type": "execute_result"
    }
   ],
   "source": [
    "movie_doubles.release_date = pd.to_datetime(movie_doubles.release_date)\n",
    "movie_doubles['year'] = movie_doubles.release_date.dt.year\n",
    "\n",
    "# concat title and year to get unique movie identifier like title(yyyy)\n",
    "movie_doubles['title_year'] = movie_doubles.title + ' (' + movie_doubles.year.astype('str') + ')'\n",
    "\n",
    "movie_doubles"
   ]
  },
  {
   "cell_type": "code",
   "execution_count": 33,
   "metadata": {},
   "outputs": [],
   "source": [
    "movies.loc[movies.movie_id.isin(list(movie_doubles.movie_id)), 'title'] = movie_doubles.title_year"
   ]
  },
  {
   "cell_type": "code",
   "execution_count": 34,
   "metadata": {},
   "outputs": [
    {
     "data": {
      "text/plain": [
       "title\n",
       "10 Things I Hate About You           1\n",
       "Spy Kids 2: Island of Lost Dreams    1\n",
       "Spy                                  1\n",
       "Spring Breakers                      1\n",
       "Spotlight                            1\n",
       "Split                                1\n",
       "Spirited Away                        1\n",
       "Spider-Man: Homecoming               1\n",
       "Spider-Man 3                         1\n",
       "Spider-Man 2                         1\n",
       "Name: movie_id, dtype: int64"
      ]
     },
     "execution_count": 34,
     "metadata": {},
     "output_type": "execute_result"
    }
   ],
   "source": [
    "movies.groupby('title').count()['movie_id'].sort_values(ascending = False).head(10)"
   ]
  },
  {
   "cell_type": "code",
   "execution_count": 35,
   "metadata": {},
   "outputs": [],
   "source": [
    "# map to null values the empty strings in the movies dataframe  \n",
    "movies = movies.replace(r'^\\s*$', np.nan, regex=True)"
   ]
  },
  {
   "cell_type": "markdown",
   "metadata": {},
   "source": [
    "First reduce the whole set of reviews"
   ]
  },
  {
   "cell_type": "code",
   "execution_count": 36,
   "metadata": {},
   "outputs": [
    {
     "name": "stderr",
     "output_type": "stream",
     "text": [
      "/var/folders/dr/d_wys8sx6dj_8v6ssg_x0_qc0000gp/T/ipykernel_3916/406249850.py:4: DeprecationWarning: DataFrameGroupBy.apply operated on the grouping columns. This behavior is deprecated, and in a future version of pandas the grouping columns will be excluded from the operation. Either pass `include_groups=False` to exclude the groupings or explicitly select the grouping columns after groupby to silence this warning.\n",
      "  reviews_stratified = reviews.groupby(['movie_id', 'is_spoiler'], group_keys=False).apply(\n"
     ]
    }
   ],
   "source": [
    "reviews.review_date = pd.to_datetime(reviews.review_date)\n",
    "reviews['year'] = reviews.review_date.dt.year\n",
    "reviews = reviews[(reviews.year >= 2004) & (reviews.year <= 2017)]\n",
    "reviews_stratified = reviews.groupby(['movie_id', 'is_spoiler'], group_keys=False).apply(\n",
    "    lambda x: x.sample(frac=0.25, random_state=42)\n",
    ").reset_index(drop=True)\n",
    "\n",
    "# If needed, bring the grouping columns back\n",
    "reviews = reviews_stratified.reset_index()\n"
   ]
  },
  {
   "cell_type": "code",
   "execution_count": 37,
   "metadata": {},
   "outputs": [
    {
     "name": "stdout",
     "output_type": "stream",
     "text": [
      "<class 'pandas.core.frame.DataFrame'>\n",
      "RangeIndex: 117216 entries, 0 to 117215\n",
      "Data columns (total 9 columns):\n",
      " #   Column          Non-Null Count   Dtype         \n",
      "---  ------          --------------   -----         \n",
      " 0   index           117216 non-null  int64         \n",
      " 1   review_date     117216 non-null  datetime64[ns]\n",
      " 2   movie_id        117216 non-null  object        \n",
      " 3   user_id         117216 non-null  object        \n",
      " 4   is_spoiler      117216 non-null  bool          \n",
      " 5   review_text     117216 non-null  object        \n",
      " 6   rating          117216 non-null  int64         \n",
      " 7   review_summary  117216 non-null  object        \n",
      " 8   year            117216 non-null  int32         \n",
      "dtypes: bool(1), datetime64[ns](1), int32(1), int64(2), object(4)\n",
      "memory usage: 6.8+ MB\n"
     ]
    }
   ],
   "source": [
    "reviews.info()"
   ]
  },
  {
   "cell_type": "code",
   "execution_count": 38,
   "metadata": {},
   "outputs": [
    {
     "name": "stdout",
     "output_type": "stream",
     "text": [
      "<class 'pandas.core.frame.DataFrame'>\n",
      "RangeIndex: 117216 entries, 0 to 117215\n",
      "Data columns (total 16 columns):\n",
      " #   Column          Non-Null Count   Dtype         \n",
      "---  ------          --------------   -----         \n",
      " 0   movie_id        117216 non-null  object        \n",
      " 1   plot_summary    117216 non-null  object        \n",
      " 2   duration        117216 non-null  object        \n",
      " 3   genre           117216 non-null  object        \n",
      " 4   rating_movie    117216 non-null  float64       \n",
      " 5   release_date    117216 non-null  object        \n",
      " 6   plot_synopsis   110547 non-null  object        \n",
      " 7   title           117216 non-null  object        \n",
      " 8   index           117216 non-null  int64         \n",
      " 9   review_date     117216 non-null  datetime64[ns]\n",
      " 10  user_id         117216 non-null  object        \n",
      " 11  is_spoiler      117216 non-null  bool          \n",
      " 12  review_text     117216 non-null  object        \n",
      " 13  rating_review   117216 non-null  int64         \n",
      " 14  review_summary  117216 non-null  object        \n",
      " 15  year            117216 non-null  int32         \n",
      "dtypes: bool(1), datetime64[ns](1), float64(1), int32(1), int64(2), object(10)\n",
      "memory usage: 13.1+ MB\n"
     ]
    }
   ],
   "source": [
    "df = pd.merge(movies, reviews, on='movie_id', suffixes=('_movie', '_review'))\n",
    "df.info()"
   ]
  },
  {
   "cell_type": "markdown",
   "metadata": {},
   "source": [
    "## Understand all present characters"
   ]
  },
  {
   "cell_type": "code",
   "execution_count": 39,
   "metadata": {},
   "outputs": [],
   "source": [
    "df['plot_summary'] = df['plot_summary'].astype(str)\n",
    "df['plot_synopsis'] = df['plot_synopsis'].astype(str)\n",
    "df['review_text'] = df['review_text'].astype(str)\n",
    "df['review_summary  '] = df['plot_summary'].astype(str)\n",
    "\n",
    "df['plot_summary'] = df['plot_summary'].apply(lambda x: x.strip())\n",
    "df['plot_synopsis'] = df['plot_synopsis'].apply(lambda x: x.strip())\n",
    "df['review_text'] = df['review_text'].apply(lambda x: x.strip())\n",
    "df['review_summary  '] = df['plot_summary'].apply(lambda x: x.strip())"
   ]
  },
  {
   "cell_type": "markdown",
   "metadata": {},
   "source": [
    "### Create dictionaries with char counts"
   ]
  },
  {
   "cell_type": "markdown",
   "metadata": {},
   "source": [
    "#### Review Text"
   ]
  },
  {
   "cell_type": "code",
   "execution_count": 40,
   "metadata": {},
   "outputs": [],
   "source": [
    "review_text_corpus = ' '.join(df['review_text'].values)"
   ]
  },
  {
   "cell_type": "code",
   "execution_count": 41,
   "metadata": {},
   "outputs": [],
   "source": [
    "review_text_char = defaultdict(int)\n",
    "for char in review_text_corpus:\n",
    "    review_text_char[char] += 1\n"
   ]
  },
  {
   "cell_type": "code",
   "execution_count": 42,
   "metadata": {},
   "outputs": [
    {
     "data": {
      "text/plain": [
       "[('ẻ', 1),\n",
       " ('È', 1),\n",
       " ('😃', 1),\n",
       " ('🤣', 1),\n",
       " ('─', 1),\n",
       " ('К', 1),\n",
       " ('Ε', 1),\n",
       " ('😳', 1),\n",
       " ('¥', 1),\n",
       " ('⁉', 1),\n",
       " ('か', 1),\n",
       " ('た', 1),\n",
       " ('わ', 1),\n",
       " ('れ', 1),\n",
       " ('時', 1),\n",
       " ('😆', 1),\n",
       " ('👽', 1),\n",
       " ('к', 1),\n",
       " ('Ⅵ', 1),\n",
       " ('א', 1)]"
      ]
     },
     "execution_count": 42,
     "metadata": {},
     "output_type": "execute_result"
    }
   ],
   "source": [
    "# show the top 20 dict values in ascending order \n",
    "review_text_char_viz = sorted(review_text_char.items(), key=lambda x: x[1])[:20]\n",
    "review_text_char_viz"
   ]
  },
  {
   "cell_type": "markdown",
   "metadata": {},
   "source": [
    "Full of emojis and non alphanumerical characters!!!"
   ]
  },
  {
   "cell_type": "code",
   "execution_count": 43,
   "metadata": {},
   "outputs": [
    {
     "data": {
      "text/plain": [
       "436"
      ]
     },
     "execution_count": 43,
     "metadata": {},
     "output_type": "execute_result"
    }
   ],
   "source": [
    "len(review_text_char)"
   ]
  },
  {
   "cell_type": "code",
   "execution_count": 44,
   "metadata": {},
   "outputs": [
    {
     "data": {
      "image/png": "[encoded data removed]",
      "text/plain": [
       "<Figure size 1000x800 with 1 Axes>"
      ]
     },
     "metadata": {},
     "output_type": "display_data"
    }
   ],
   "source": [
    "review_text_char_viz = sorted(review_text_char.items(), key=lambda x: x[1], reverse=True)#[1:] #remove the first as it is a space\n",
    "# Extract word ranks and frequencies\n",
    "ranks = np.arange(1, len(review_text_char_viz) + 1)\n",
    "frequencies = [freq for _, freq in review_text_char_viz]\n",
    "\n",
    "# plot the distribution of characters in the review text\n",
    "plt.figure(figsize=(10, 8))\n",
    "plt.bar(ranks, frequencies, label='Word Frequencies')\n",
    "plt.plot(ranks, frequencies[0] / ranks, 'r-', label='Zipf Distribution')\n",
    "plt.xlabel('Character')\n",
    "plt.ylabel('Frequency')\n",
    "plt.xticks(range(len(review_text_char_viz)), [char[0] for char in review_text_char_viz])\n",
    "plt.xlim(-1, 50)\n",
    "plt.legend()\n",
    "plt.show()"
   ]
  },
  {
   "cell_type": "markdown",
   "metadata": {},
   "source": [
    "Doesn't this resamble something??\n",
    "hint. ZIPF!"
   ]
  },
  {
   "cell_type": "markdown",
   "metadata": {},
   "source": [
    "## Cleaned Dataset"
   ]
  },
  {
   "cell_type": "code",
   "execution_count": 45,
   "metadata": {},
   "outputs": [
    {
     "data": {
      "text/html": [
       "<div>\n",
       "<style scoped>\n",
       "    .dataframe tbody tr th:only-of-type {\n",
       "        vertical-align: middle;\n",
       "    }\n",
       "\n",
       "    .dataframe tbody tr th {\n",
       "        vertical-align: top;\n",
       "    }\n",
       "\n",
       "    .dataframe thead th {\n",
       "        text-align: right;\n",
       "    }\n",
       "</style>\n",
       "<table border=\"1\" class=\"dataframe\">\n",
       "  <thead>\n",
       "    <tr style=\"text-align: right;\">\n",
       "      <th></th>\n",
       "      <th>movie_id</th>\n",
       "      <th>review_text</th>\n",
       "      <th>is_spoiler</th>\n",
       "      <th>title</th>\n",
       "    </tr>\n",
       "  </thead>\n",
       "  <tbody>\n",
       "    <tr>\n",
       "      <th>48</th>\n",
       "      <td>tt1204975</td>\n",
       "      <td>Last Vegas is the story of four lifetime frien...</td>\n",
       "      <td>True</td>\n",
       "      <td>Last Vegas</td>\n",
       "    </tr>\n",
       "    <tr>\n",
       "      <th>445</th>\n",
       "      <td>tt0443453</td>\n",
       "      <td>Borat is wonderful; he knows where he's going ...</td>\n",
       "      <td>False</td>\n",
       "      <td>Borat</td>\n",
       "    </tr>\n",
       "    <tr>\n",
       "      <th>548</th>\n",
       "      <td>tt0450259</td>\n",
       "      <td>I saw this on December 2nd in La Canada, CA @ ...</td>\n",
       "      <td>False</td>\n",
       "      <td>Blood Diamond</td>\n",
       "    </tr>\n",
       "    <tr>\n",
       "      <th>647</th>\n",
       "      <td>tt0450259</td>\n",
       "      <td>Just saw this movie last night and I tell you ...</td>\n",
       "      <td>False</td>\n",
       "      <td>Blood Diamond</td>\n",
       "    </tr>\n",
       "    <tr>\n",
       "      <th>791</th>\n",
       "      <td>tt0435625</td>\n",
       "      <td>WOW .. Totally blew me away when i saw it last...</td>\n",
       "      <td>False</td>\n",
       "      <td>The Descent</td>\n",
       "    </tr>\n",
       "    <tr>\n",
       "      <th>...</th>\n",
       "      <td>...</td>\n",
       "      <td>...</td>\n",
       "      <td>...</td>\n",
       "      <td>...</td>\n",
       "    </tr>\n",
       "    <tr>\n",
       "      <th>115833</th>\n",
       "      <td>tt0103644</td>\n",
       "      <td>After the horror filled excellence of Alien, a...</td>\n",
       "      <td>True</td>\n",
       "      <td>Alien 3</td>\n",
       "    </tr>\n",
       "    <tr>\n",
       "      <th>115955</th>\n",
       "      <td>tt0361748</td>\n",
       "      <td>The hyperbole being bandied about regarding th...</td>\n",
       "      <td>False</td>\n",
       "      <td>Inglourious Basterds</td>\n",
       "    </tr>\n",
       "    <tr>\n",
       "      <th>116285</th>\n",
       "      <td>tt1502712</td>\n",
       "      <td>I heard the rumors and read the reviews about ...</td>\n",
       "      <td>False</td>\n",
       "      <td>Fantastic Four (2015)</td>\n",
       "    </tr>\n",
       "    <tr>\n",
       "      <th>117027</th>\n",
       "      <td>tt1723811</td>\n",
       "      <td>Shame is a film about addiction. This is uncom...</td>\n",
       "      <td>True</td>\n",
       "      <td>Shame</td>\n",
       "    </tr>\n",
       "    <tr>\n",
       "      <th>117035</th>\n",
       "      <td>tt5013056</td>\n",
       "      <td>Okay so I just returned home after watching Du...</td>\n",
       "      <td>False</td>\n",
       "      <td>Dunkirk</td>\n",
       "    </tr>\n",
       "  </tbody>\n",
       "</table>\n",
       "<p>460 rows × 4 columns</p>\n",
       "</div>"
      ],
      "text/plain": [
       "         movie_id                                        review_text  \\\n",
       "48      tt1204975  Last Vegas is the story of four lifetime frien...   \n",
       "445     tt0443453  Borat is wonderful; he knows where he's going ...   \n",
       "548     tt0450259  I saw this on December 2nd in La Canada, CA @ ...   \n",
       "647     tt0450259  Just saw this movie last night and I tell you ...   \n",
       "791     tt0435625  WOW .. Totally blew me away when i saw it last...   \n",
       "...           ...                                                ...   \n",
       "115833  tt0103644  After the horror filled excellence of Alien, a...   \n",
       "115955  tt0361748  The hyperbole being bandied about regarding th...   \n",
       "116285  tt1502712  I heard the rumors and read the reviews about ...   \n",
       "117027  tt1723811  Shame is a film about addiction. This is uncom...   \n",
       "117035  tt5013056  Okay so I just returned home after watching Du...   \n",
       "\n",
       "        is_spoiler                  title  \n",
       "48            True             Last Vegas  \n",
       "445          False                  Borat  \n",
       "548          False          Blood Diamond  \n",
       "647          False          Blood Diamond  \n",
       "791          False            The Descent  \n",
       "...            ...                    ...  \n",
       "115833        True                Alien 3  \n",
       "115955       False   Inglourious Basterds  \n",
       "116285       False  Fantastic Four (2015)  \n",
       "117027        True                  Shame  \n",
       "117035       False                Dunkirk  \n",
       "\n",
       "[460 rows x 4 columns]"
      ]
     },
     "execution_count": 45,
     "metadata": {},
     "output_type": "execute_result"
    }
   ],
   "source": [
    "new_df = df.loc[:, ['movie_id', 'review_text', 'is_spoiler', 'title']]\n",
    "new_df.head()\n",
    "new_df.loc[df['review_text'].str.contains('@'), :]"
   ]
  },
  {
   "cell_type": "code",
   "execution_count": 46,
   "metadata": {},
   "outputs": [],
   "source": [
    "def remove_meta(text):\n",
    "    text = re.sub(r'\\S*@\\S*\\s?', '', text)\n",
    "    text = re.sub(r'http\\S+', '', text)\n",
    "    text = re.sub(r'www\\S+', '', text)\n",
    "    text = re.sub(r'\\S*\\.com\\b', '', text)\n",
    "    return text\n",
    "import re"
   ]
  },
  {
   "cell_type": "code",
   "execution_count": 47,
   "metadata": {},
   "outputs": [],
   "source": [
    "def decontracted(phrase, apostrophes = [\"\\'\", \"`\", \"´\", \"‘\", \"’\", \"′\", \"ʻ\", \"ˈ\"]):\n",
    "    # specific\n",
    "    apos = '(' + '|'.join(apostrophes) + ')'\n",
    "    phrase = re.sub(fr\"won{apos}t\", \"will not\", phrase)\n",
    "    phrase = re.sub(fr\"can{apos}t\", \"can not\", phrase)\n",
    "\n",
    "    # general\n",
    "    phrase = re.sub(fr\"n{apos}t\", \" not\", phrase)\n",
    "    phrase = re.sub(fr\"{apos}re\", \" are\", phrase)\n",
    "    phrase = re.sub(fr\"{apos}s\", \" is\", phrase)\n",
    "    phrase = re.sub(fr\"{apos}d\", \" would\", phrase)\n",
    "    phrase = re.sub(fr\"{apos}ll\", \" will\", phrase)\n",
    "    phrase = re.sub(fr\"{apos}ve\", \" have\", phrase)\n",
    "    phrase = re.sub(fr\"{apos}m\", \" am\", phrase)\n",
    "    return phrase"
   ]
  },
  {
   "cell_type": "code",
   "execution_count": 48,
   "metadata": {},
   "outputs": [],
   "source": [
    "new_df['clean_text'] = new_df['review_text'].apply(remove_meta)\n",
    "new_df['clean_text'] = new_df['clean_text'].apply(decontracted)"
   ]
  },
  {
   "cell_type": "code",
   "execution_count": 49,
   "metadata": {},
   "outputs": [],
   "source": [
    "def keep_alfanumeric(text):\n",
    "    return re.sub(r'[^a-zA-Z0-9 ]', ' ', text)"
   ]
  },
  {
   "cell_type": "code",
   "execution_count": 50,
   "metadata": {},
   "outputs": [
    {
     "data": {
      "text/plain": [
       "array(['Patriot Games is a more than serviceable thriller  perhaps a bit out of date when viewing it now  but still a very effective good against evil piece  The source material is so dense and intricate it was always going to be hard to condense that into a 2 hour movie but I feel the makers manage to keep it fleshy whilst making the respective characters interesting and watchable  The acting on show is more than adequate  Harrison Ford is great in the role of Jack Ryan  he manages to portray him as a sensitive family man who can step up to the plate when things get ugly  and Anne Archer is solid enough as the wife and mother caught up in the web of nastiness unfolding The baddies are led by the brooding Sean Bean who is a little under written  whilst Richard Harris is sadly underused  but the action set pieces make their mark and thankfully we get a riveting final reel that cements the steady ride we have under taken  It is formulaic to a degree  but that is OK if the combined efforts of all involved are spot on  and here they are  7 10 ',\n",
       "       'I have read all of the Tom Clancy fiction books and the first time I saw the Patriot Games I was very disappointed that the movie did not follow the book more closely  I feel that the incident in England  the way it happened in the book is much more exciting and entertaining than the movie and it carries over to the gathering at the Ryan is home later in the movie and the ending in the book is even more dramatic  But  after watching the movie a few more times and reading the book several more times I realized that because there is so much that happens in the book  there is no way to fit it in the movie  I have come to the conclusion that the story line in the movie has captured the basic tale involved showing the type of person Jack Ryan is and the principals that he stands for throughout all of Tom Clancy is books ',\n",
       "       'When CIA analyst Jack Ryan  Harrison Ford  interferes with an IRA assassination  a renegade faction targets him and his family for revenge The actors who played Jack and Caroline Ryan in  The Hunt for Red October   Alec Baldwin and Gates McFadden  were unavailable  Baldwin had committed to perform in  A Streetcar Named Desire  on Broadway  In 2011  Baldwin says he did not appear because of  sleazy Hollywood tools   I just want to take this time to say that Harrison Ford is the definitive Jack Ryan  No offense to Baldwin  and no offense to Ben Affleck  who are both being excellent actors in their own right  But Ford just has the right look of an experienced agent  and someone you expect to get in combat with another spy ',\n",
       "       ...,\n",
       "       'Dunkirk is not a good film  Christopher Nolan has tried to create a a classic and has failed  he concentrated more on Flying  and the Sea instead of the real battle on the beaches There were no character development  no real story  and he messed with history  there were lines of soldiers and the rest of the beaches were clear  only a small part of the film were given over to the 100 a of small boats who helped take of the troops I look forward to seeing the new Gary Oldman film about Churchill  who was never mentioned in this film  how can you make a film about Dunkirk and not have Churchill in it  my advice is to watch the 1957 film of the same name  far better with a story  a middle and an ending ',\n",
       "       'Best war movie ever made  not by far  The only good thing about this movie is a few great cinematic camera shots and that is it  Lets see where to start  spoliers coming  1  Apparently German Army participated in the battle of Dunkirk  with 2 Henschel Hs 129 bombers  3 dive bombers Junkers Ju 87  Stuka is  and 3 Messerschmitt Bf 109 fighters  which were all apparently shot down by 3 RAF Spitfires  As that is the only German troops you will see the whole movie  Myabe they were not there  Batman got them on time  2  You have two genius actors Sir Kenneth Branagh and Tom Hardy  but you write a scenario where both of them have 10 lines in the whole movie  I do not believe that Tom had more then 2 lines that lasted for 1 min  Now people will say  you don t understand the story it self is a main character  That is all fine  but then I can watch Denkirk documentary  it is more intense then this  3  Harry Styles should stick to music  as his acting is very One Direction  I mean everything is so predictable  you just look at him and know its a movie  There is no suspense in his acting  there is no character build up what so ever  etc I could go on and on  many more things are bad about this movie  but I would be in danger to write more words than what are in screenplay of Dunkirk Wait to come on Netflix  DVD or something  do not waist your money in cinema  PS I gave it a 3  it will probably end up around 7 when all hype dies  but I expected a historical intense masterpiece  and got nothing   ',\n",
       "       'Tinto Brass is usually referred to as either a misunderstood genius or a talentless hack  Cosi fan tutte   All Ladies Do It   proves that he is neither one  When he does not take himself too seriously  which  unfortunately  he does quite often  the man is perfectly capable of creating fun  well polished  strict entertainment  Cosi fan tutte certainly slips into the realm of pornography on occasion  but it has a sense of lightness and fun that breaks the ice and avoids real discomfort  and even  in some ways  a certain feminist sensibility  though the moral of the story should not be taken as a very serious statement   It is a funny  sexy  beautifully shot erotic comedy that does not drag along too much and should be quite a lot of fun for open minded couples to watch together '],\n",
       "      dtype=object)"
      ]
     },
     "execution_count": 50,
     "metadata": {},
     "output_type": "execute_result"
    }
   ],
   "source": [
    "new_df['clean_text'] = new_df['clean_text'].apply(keep_alfanumeric)\n",
    "new_df['clean_text'].values"
   ]
  },
  {
   "cell_type": "code",
   "execution_count": 51,
   "metadata": {},
   "outputs": [],
   "source": [
    "while new_df['clean_text'].str.contains('  ').any():\n",
    "    new_df['clean_text'] = new_df['clean_text'].str.replace('  ', ' ')"
   ]
  },
  {
   "cell_type": "code",
   "execution_count": 52,
   "metadata": {},
   "outputs": [],
   "source": [
    "cleaned_reviews = new_df.loc[:, ['movie_id', 'clean_text', 'is_spoiler', 'title' ]]\n",
    "cleaned_reviews.to_json('data/reduced_cleaned_reviews.json')"
   ]
  }
 ],
 "metadata": {
  "kernelspec": {
   "display_name": "Python 3",
   "language": "python",
   "name": "python3"
  },
  "language_info": {
   "codemirror_mode": {
    "name": "ipython",
    "version": 3
   },
   "file_extension": ".py",
   "mimetype": "text/x-python",
   "name": "python",
   "nbconvert_exporter": "python",
   "pygments_lexer": "ipython3",
   "version": "3.11.8"
  }
 },
 "nbformat": 4,
 "nbformat_minor": 2
}
