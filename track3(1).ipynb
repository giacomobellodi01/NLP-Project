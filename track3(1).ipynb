{
  "metadata": {
    "accelerator": "GPU",
    "colab": {
      "collapsed_sections": [
        "xT4s1vcFbLIC",
        "VLZnX37maxrk",
        "IpvbIUNJaxrq",
        "xD0dVc2caxrn",
        "EKvGX9wTjwhh",
        "YmhwEjtHfJGq",
        "a61oj5ZHaxrr",
        "hK40jPBgjFL8",
        "VOJRWwANu-ID",
        "-9LvMSfycOFw",
        "zPUosatpiZNF",
        "uRD3nUNe9Oiy",
        "dQ0Df4sW9Oiz",
        "Ajc7Xsy39Oi0",
        "yH4qZl9iHSmG"
      ],
      "gpuType": "A100",
      "provenance": []
    },
    "kernelspec": {
      "name": "python3",
      "display_name": "Python 3"
    },
    "language_info": {
      "name": "python",
      "version": "3.10.13",
      "mimetype": "text/x-python",
      "codemirror_mode": {
        "name": "ipython",
        "version": 3
      },
      "pygments_lexer": "ipython3",
      "nbconvert_exporter": "python",
      "file_extension": ".py"
    },
    "kaggle": {
      "accelerator": "gpu",
      "dataSources": [
        {
          "sourceId": 8468807,
          "sourceType": "datasetVersion",
          "datasetId": 5049485
        }
      ],
      "dockerImageVersionId": 30699,
      "isInternetEnabled": true,
      "language": "python",
      "sourceType": "notebook",
      "isGpuEnabled": true
    },
    "widgets": {
      "application/vnd.jupyter.widget-state+json": {
        "5388a101722c40fbb42996759b2b701d": {
          "model_module": "@jupyter-widgets/controls",
          "model_name": "HBoxModel",
          "model_module_version": "1.5.0",
          "state": {
            "_dom_classes": [],
            "_model_module": "@jupyter-widgets/controls",
            "_model_module_version": "1.5.0",
            "_model_name": "HBoxModel",
            "_view_count": null,
            "_view_module": "@jupyter-widgets/controls",
            "_view_module_version": "1.5.0",
            "_view_name": "HBoxView",
            "box_style": "",
            "children": [
              "IPY_MODEL_bdb0ac76b8ef4961975442dd38b9b8d2",
              "IPY_MODEL_54b0aa2d88124a6e8d68f5e74de549e5",
              "IPY_MODEL_5406422795f4462bb9f3c53061485f06"
            ],
            "layout": "IPY_MODEL_ba762f769ae04e26afc1e58a090613b1"
          }
        },
        "bdb0ac76b8ef4961975442dd38b9b8d2": {
          "model_module": "@jupyter-widgets/controls",
          "model_name": "HTMLModel",
          "model_module_version": "1.5.0",
          "state": {
            "_dom_classes": [],
            "_model_module": "@jupyter-widgets/controls",
            "_model_module_version": "1.5.0",
            "_model_name": "HTMLModel",
            "_view_count": null,
            "_view_module": "@jupyter-widgets/controls",
            "_view_module_version": "1.5.0",
            "_view_name": "HTMLView",
            "description": "",
            "description_tooltip": null,
            "layout": "IPY_MODEL_ff9ed53c27f844dab4ed3fdccc48168b",
            "placeholder": "​",
            "style": "IPY_MODEL_15b73daa213e4636b8c9e79b016b1d8b",
            "value": "Batches: 100%"
          }
        },
        "54b0aa2d88124a6e8d68f5e74de549e5": {
          "model_module": "@jupyter-widgets/controls",
          "model_name": "FloatProgressModel",
          "model_module_version": "1.5.0",
          "state": {
            "_dom_classes": [],
            "_model_module": "@jupyter-widgets/controls",
            "_model_module_version": "1.5.0",
            "_model_name": "FloatProgressModel",
            "_view_count": null,
            "_view_module": "@jupyter-widgets/controls",
            "_view_module_version": "1.5.0",
            "_view_name": "ProgressView",
            "bar_style": "success",
            "description": "",
            "description_tooltip": null,
            "layout": "IPY_MODEL_5f5b4edc5eba4837ba502eab3498b66e",
            "max": 6,
            "min": 0,
            "orientation": "horizontal",
            "style": "IPY_MODEL_c2e4f78ccf3c4656a36ecd81c02d47be",
            "value": 6
          }
        },
        "5406422795f4462bb9f3c53061485f06": {
          "model_module": "@jupyter-widgets/controls",
          "model_name": "HTMLModel",
          "model_module_version": "1.5.0",
          "state": {
            "_dom_classes": [],
            "_model_module": "@jupyter-widgets/controls",
            "_model_module_version": "1.5.0",
            "_model_name": "HTMLModel",
            "_view_count": null,
            "_view_module": "@jupyter-widgets/controls",
            "_view_module_version": "1.5.0",
            "_view_name": "HTMLView",
            "description": "",
            "description_tooltip": null,
            "layout": "IPY_MODEL_8a86258ef73347229201eadb6ead5408",
            "placeholder": "​",
            "style": "IPY_MODEL_a0288ec1f06748819bfe0ee16e4871ac",
            "value": " 6/6 [00:00&lt;00:00,  8.72it/s]"
          }
        },
        "ba762f769ae04e26afc1e58a090613b1": {
          "model_module": "@jupyter-widgets/base",
          "model_name": "LayoutModel",
          "model_module_version": "1.2.0",
          "state": {
            "_model_module": "@jupyter-widgets/base",
            "_model_module_version": "1.2.0",
            "_model_name": "LayoutModel",
            "_view_count": null,
            "_view_module": "@jupyter-widgets/base",
            "_view_module_version": "1.2.0",
            "_view_name": "LayoutView",
            "align_content": null,
            "align_items": null,
            "align_self": null,
            "border": null,
            "bottom": null,
            "display": null,
            "flex": null,
            "flex_flow": null,
            "grid_area": null,
            "grid_auto_columns": null,
            "grid_auto_flow": null,
            "grid_auto_rows": null,
            "grid_column": null,
            "grid_gap": null,
            "grid_row": null,
            "grid_template_areas": null,
            "grid_template_columns": null,
            "grid_template_rows": null,
            "height": null,
            "justify_content": null,
            "justify_items": null,
            "left": null,
            "margin": null,
            "max_height": null,
            "max_width": null,
            "min_height": null,
            "min_width": null,
            "object_fit": null,
            "object_position": null,
            "order": null,
            "overflow": null,
            "overflow_x": null,
            "overflow_y": null,
            "padding": null,
            "right": null,
            "top": null,
            "visibility": null,
            "width": null
          }
        },
        "ff9ed53c27f844dab4ed3fdccc48168b": {
          "model_module": "@jupyter-widgets/base",
          "model_name": "LayoutModel",
          "model_module_version": "1.2.0",
          "state": {
            "_model_module": "@jupyter-widgets/base",
            "_model_module_version": "1.2.0",
            "_model_name": "LayoutModel",
            "_view_count": null,
            "_view_module": "@jupyter-widgets/base",
            "_view_module_version": "1.2.0",
            "_view_name": "LayoutView",
            "align_content": null,
            "align_items": null,
            "align_self": null,
            "border": null,
            "bottom": null,
            "display": null,
            "flex": null,
            "flex_flow": null,
            "grid_area": null,
            "grid_auto_columns": null,
            "grid_auto_flow": null,
            "grid_auto_rows": null,
            "grid_column": null,
            "grid_gap": null,
            "grid_row": null,
            "grid_template_areas": null,
            "grid_template_columns": null,
            "grid_template_rows": null,
            "height": null,
            "justify_content": null,
            "justify_items": null,
            "left": null,
            "margin": null,
            "max_height": null,
            "max_width": null,
            "min_height": null,
            "min_width": null,
            "object_fit": null,
            "object_position": null,
            "order": null,
            "overflow": null,
            "overflow_x": null,
            "overflow_y": null,
            "padding": null,
            "right": null,
            "top": null,
            "visibility": null,
            "width": null
          }
        },
        "15b73daa213e4636b8c9e79b016b1d8b": {
          "model_module": "@jupyter-widgets/controls",
          "model_name": "DescriptionStyleModel",
          "model_module_version": "1.5.0",
          "state": {
            "_model_module": "@jupyter-widgets/controls",
            "_model_module_version": "1.5.0",
            "_model_name": "DescriptionStyleModel",
            "_view_count": null,
            "_view_module": "@jupyter-widgets/base",
            "_view_module_version": "1.2.0",
            "_view_name": "StyleView",
            "description_width": ""
          }
        },
        "5f5b4edc5eba4837ba502eab3498b66e": {
          "model_module": "@jupyter-widgets/base",
          "model_name": "LayoutModel",
          "model_module_version": "1.2.0",
          "state": {
            "_model_module": "@jupyter-widgets/base",
            "_model_module_version": "1.2.0",
            "_model_name": "LayoutModel",
            "_view_count": null,
            "_view_module": "@jupyter-widgets/base",
            "_view_module_version": "1.2.0",
            "_view_name": "LayoutView",
            "align_content": null,
            "align_items": null,
            "align_self": null,
            "border": null,
            "bottom": null,
            "display": null,
            "flex": null,
            "flex_flow": null,
            "grid_area": null,
            "grid_auto_columns": null,
            "grid_auto_flow": null,
            "grid_auto_rows": null,
            "grid_column": null,
            "grid_gap": null,
            "grid_row": null,
            "grid_template_areas": null,
            "grid_template_columns": null,
            "grid_template_rows": null,
            "height": null,
            "justify_content": null,
            "justify_items": null,
            "left": null,
            "margin": null,
            "max_height": null,
            "max_width": null,
            "min_height": null,
            "min_width": null,
            "object_fit": null,
            "object_position": null,
            "order": null,
            "overflow": null,
            "overflow_x": null,
            "overflow_y": null,
            "padding": null,
            "right": null,
            "top": null,
            "visibility": null,
            "width": null
          }
        },
        "c2e4f78ccf3c4656a36ecd81c02d47be": {
          "model_module": "@jupyter-widgets/controls",
          "model_name": "ProgressStyleModel",
          "model_module_version": "1.5.0",
          "state": {
            "_model_module": "@jupyter-widgets/controls",
            "_model_module_version": "1.5.0",
            "_model_name": "ProgressStyleModel",
            "_view_count": null,
            "_view_module": "@jupyter-widgets/base",
            "_view_module_version": "1.2.0",
            "_view_name": "StyleView",
            "bar_color": null,
            "description_width": ""
          }
        },
        "8a86258ef73347229201eadb6ead5408": {
          "model_module": "@jupyter-widgets/base",
          "model_name": "LayoutModel",
          "model_module_version": "1.2.0",
          "state": {
            "_model_module": "@jupyter-widgets/base",
            "_model_module_version": "1.2.0",
            "_model_name": "LayoutModel",
            "_view_count": null,
            "_view_module": "@jupyter-widgets/base",
            "_view_module_version": "1.2.0",
            "_view_name": "LayoutView",
            "align_content": null,
            "align_items": null,
            "align_self": null,
            "border": null,
            "bottom": null,
            "display": null,
            "flex": null,
            "flex_flow": null,
            "grid_area": null,
            "grid_auto_columns": null,
            "grid_auto_flow": null,
            "grid_auto_rows": null,
            "grid_column": null,
            "grid_gap": null,
            "grid_row": null,
            "grid_template_areas": null,
            "grid_template_columns": null,
            "grid_template_rows": null,
            "height": null,
            "justify_content": null,
            "justify_items": null,
            "left": null,
            "margin": null,
            "max_height": null,
            "max_width": null,
            "min_height": null,
            "min_width": null,
            "object_fit": null,
            "object_position": null,
            "order": null,
            "overflow": null,
            "overflow_x": null,
            "overflow_y": null,
            "padding": null,
            "right": null,
            "top": null,
            "visibility": null,
            "width": null
          }
        },
        "a0288ec1f06748819bfe0ee16e4871ac": {
          "model_module": "@jupyter-widgets/controls",
          "model_name": "DescriptionStyleModel",
          "model_module_version": "1.5.0",
          "state": {
            "_model_module": "@jupyter-widgets/controls",
            "_model_module_version": "1.5.0",
            "_model_name": "DescriptionStyleModel",
            "_view_count": null,
            "_view_module": "@jupyter-widgets/base",
            "_view_module_version": "1.2.0",
            "_view_name": "StyleView",
            "description_width": ""
          }
        }
      }
    }
  },
  "nbformat_minor": 0,
  "nbformat": 4,
  "cells": [
    {
      "cell_type": "markdown",
      "source": [
        "Importing libraries"
      ],
      "metadata": {
        "id": "BXqsZcBtBdSo"
      }
    },
    {
      "cell_type": "code",
      "source": [
        "import pandas as pd\n",
        "import nltk\n",
        "from nltk.tokenize import word_tokenize\n",
        "from textblob import TextBlob\n",
        "import numpy as np\n",
        "import matplotlib.pyplot as plt\n",
        "import seaborn as sns\n",
        "import os\n",
        "\n",
        "from sklearn.model_selection import train_test_split"
      ],
      "metadata": {
        "id": "kKmu5JdUaxrg",
        "execution": {
          "iopub.status.busy": "2024-05-20T15:36:01.748645Z",
          "iopub.execute_input": "2024-05-20T15:36:01.749120Z",
          "iopub.status.idle": "2024-05-20T15:36:02.425429Z",
          "shell.execute_reply.started": "2024-05-20T15:36:01.749088Z",
          "shell.execute_reply": "2024-05-20T15:36:02.424650Z"
        },
        "trusted": true
      },
      "execution_count": null,
      "outputs": []
    },
    {
      "cell_type": "code",
      "source": [
        "%%capture\n",
        "! pip install -U sentence-transformers"
      ],
      "metadata": {
        "id": "_yCN84Wbaxrr"
      },
      "execution_count": null,
      "outputs": []
    },
    {
      "cell_type": "markdown",
      "source": [
        "## Dataset loading (GOOGLE COLAB CODE)"
      ],
      "metadata": {
        "id": "xT4s1vcFbLIC"
      }
    },
    {
      "cell_type": "code",
      "source": [
        "from google.colab import drive\n",
        "drive.mount('/content/drive')\n",
        "path = '/content/drive/MyDrive/NLP_Bocconi/NLP_spoiler'"
      ],
      "metadata": {
        "colab": {
          "base_uri": "https://localhost:8080/"
        },
        "id": "4iEiqAJ7bQg3",
        "outputId": "0cd702ac-b94f-49d3-a297-ae1c97883344"
      },
      "execution_count": null,
      "outputs": [
        {
          "output_type": "stream",
          "name": "stdout",
          "text": [
            "Mounted at /content/drive\n"
          ]
        }
      ]
    },
    {
      "cell_type": "code",
      "source": [
        "cl_rev = pd.read_json(f'{path}/data/reduced_cleaned_reviews.json')\n",
        "cl_rev.head()"
      ],
      "metadata": {
        "colab": {
          "base_uri": "https://localhost:8080/"
        },
        "id": "vHbARjGabRdf",
        "outputId": "75cad860-dd64-4de4-af76-996ab9bfca8b"
      },
      "execution_count": null,
      "outputs": [
        {
          "output_type": "execute_result",
          "data": {
            "text/plain": [
              "    movie_id                                         clean_text  is_spoiler  \\\n",
              "0  tt0105112  Patriot Games is a more than serviceable thril...       False   \n",
              "1  tt0105112  I have read all of the Tom Clancy fiction book...       False   \n",
              "2  tt0105112  When CIA analyst Jack Ryan Harrison Ford inter...       False   \n",
              "3  tt0105112  Phillip Noyce is Patriot Games is a superb fil...       False   \n",
              "4  tt0105112  Hello First I do not own a copy of the Patriot...       False   \n",
              "\n",
              "           title  \n",
              "0  Patriot Games  \n",
              "1  Patriot Games  \n",
              "2  Patriot Games  \n",
              "3  Patriot Games  \n",
              "4  Patriot Games  "
            ],
            "text/html": [
              "\n",
              "  <div id=\"df-0f4fe99f-4f9a-4e7f-b75a-e09fb936541f\" class=\"colab-df-container\">\n",
              "    <div>\n",
              "<style scoped>\n",
              "    .dataframe tbody tr th:only-of-type {\n",
              "        vertical-align: middle;\n",
              "    }\n",
              "\n",
              "    .dataframe tbody tr th {\n",
              "        vertical-align: top;\n",
              "    }\n",
              "\n",
              "    .dataframe thead th {\n",
              "        text-align: right;\n",
              "    }\n",
              "</style>\n",
              "<table border=\"1\" class=\"dataframe\">\n",
              "  <thead>\n",
              "    <tr style=\"text-align: right;\">\n",
              "      <th></th>\n",
              "      <th>movie_id</th>\n",
              "      <th>clean_text</th>\n",
              "      <th>is_spoiler</th>\n",
              "      <th>title</th>\n",
              "    </tr>\n",
              "  </thead>\n",
              "  <tbody>\n",
              "    <tr>\n",
              "      <th>0</th>\n",
              "      <td>tt0105112</td>\n",
              "      <td>Patriot Games is a more than serviceable thril...</td>\n",
              "      <td>False</td>\n",
              "      <td>Patriot Games</td>\n",
              "    </tr>\n",
              "    <tr>\n",
              "      <th>1</th>\n",
              "      <td>tt0105112</td>\n",
              "      <td>I have read all of the Tom Clancy fiction book...</td>\n",
              "      <td>False</td>\n",
              "      <td>Patriot Games</td>\n",
              "    </tr>\n",
              "    <tr>\n",
              "      <th>2</th>\n",
              "      <td>tt0105112</td>\n",
              "      <td>When CIA analyst Jack Ryan Harrison Ford inter...</td>\n",
              "      <td>False</td>\n",
              "      <td>Patriot Games</td>\n",
              "    </tr>\n",
              "    <tr>\n",
              "      <th>3</th>\n",
              "      <td>tt0105112</td>\n",
              "      <td>Phillip Noyce is Patriot Games is a superb fil...</td>\n",
              "      <td>False</td>\n",
              "      <td>Patriot Games</td>\n",
              "    </tr>\n",
              "    <tr>\n",
              "      <th>4</th>\n",
              "      <td>tt0105112</td>\n",
              "      <td>Hello First I do not own a copy of the Patriot...</td>\n",
              "      <td>False</td>\n",
              "      <td>Patriot Games</td>\n",
              "    </tr>\n",
              "  </tbody>\n",
              "</table>\n",
              "</div>\n",
              "    <div class=\"colab-df-buttons\">\n",
              "\n",
              "  <div class=\"colab-df-container\">\n",
              "    <button class=\"colab-df-convert\" onclick=\"convertToInteractive('df-0f4fe99f-4f9a-4e7f-b75a-e09fb936541f')\"\n",
              "            title=\"Convert this dataframe to an interactive table.\"\n",
              "            style=\"display:none;\">\n",
              "\n",
              "  <svg xmlns=\"http://www.w3.org/2000/svg\" height=\"24px\" viewBox=\"0 -960 960 960\">\n",
              "    <path d=\"M120-120v-720h720v720H120Zm60-500h600v-160H180v160Zm220 220h160v-160H400v160Zm0 220h160v-160H400v160ZM180-400h160v-160H180v160Zm440 0h160v-160H620v160ZM180-180h160v-160H180v160Zm440 0h160v-160H620v160Z\"/>\n",
              "  </svg>\n",
              "    </button>\n",
              "\n",
              "  <style>\n",
              "    .colab-df-container {\n",
              "      display:flex;\n",
              "      gap: 12px;\n",
              "    }\n",
              "\n",
              "    .colab-df-convert {\n",
              "      background-color: #E8F0FE;\n",
              "      border: none;\n",
              "      border-radius: 50%;\n",
              "      cursor: pointer;\n",
              "      display: none;\n",
              "      fill: #1967D2;\n",
              "      height: 32px;\n",
              "      padding: 0 0 0 0;\n",
              "      width: 32px;\n",
              "    }\n",
              "\n",
              "    .colab-df-convert:hover {\n",
              "      background-color: #E2EBFA;\n",
              "      box-shadow: 0px 1px 2px rgba(60, 64, 67, 0.3), 0px 1px 3px 1px rgba(60, 64, 67, 0.15);\n",
              "      fill: #174EA6;\n",
              "    }\n",
              "\n",
              "    .colab-df-buttons div {\n",
              "      margin-bottom: 4px;\n",
              "    }\n",
              "\n",
              "    [theme=dark] .colab-df-convert {\n",
              "      background-color: #3B4455;\n",
              "      fill: #D2E3FC;\n",
              "    }\n",
              "\n",
              "    [theme=dark] .colab-df-convert:hover {\n",
              "      background-color: #434B5C;\n",
              "      box-shadow: 0px 1px 3px 1px rgba(0, 0, 0, 0.15);\n",
              "      filter: drop-shadow(0px 1px 2px rgba(0, 0, 0, 0.3));\n",
              "      fill: #FFFFFF;\n",
              "    }\n",
              "  </style>\n",
              "\n",
              "    <script>\n",
              "      const buttonEl =\n",
              "        document.querySelector('#df-0f4fe99f-4f9a-4e7f-b75a-e09fb936541f button.colab-df-convert');\n",
              "      buttonEl.style.display =\n",
              "        google.colab.kernel.accessAllowed ? 'block' : 'none';\n",
              "\n",
              "      async function convertToInteractive(key) {\n",
              "        const element = document.querySelector('#df-0f4fe99f-4f9a-4e7f-b75a-e09fb936541f');\n",
              "        const dataTable =\n",
              "          await google.colab.kernel.invokeFunction('convertToInteractive',\n",
              "                                                    [key], {});\n",
              "        if (!dataTable) return;\n",
              "\n",
              "        const docLinkHtml = 'Like what you see? Visit the ' +\n",
              "          '<a target=\"_blank\" href=https://colab.research.google.com/notebooks/data_table.ipynb>data table notebook</a>'\n",
              "          + ' to learn more about interactive tables.';\n",
              "        element.innerHTML = '';\n",
              "        dataTable['output_type'] = 'display_data';\n",
              "        await google.colab.output.renderOutput(dataTable, element);\n",
              "        const docLink = document.createElement('div');\n",
              "        docLink.innerHTML = docLinkHtml;\n",
              "        element.appendChild(docLink);\n",
              "      }\n",
              "    </script>\n",
              "  </div>\n",
              "\n",
              "\n",
              "<div id=\"df-7e10bd48-f000-4cca-85b1-42d5fda9ee9c\">\n",
              "  <button class=\"colab-df-quickchart\" onclick=\"quickchart('df-7e10bd48-f000-4cca-85b1-42d5fda9ee9c')\"\n",
              "            title=\"Suggest charts\"\n",
              "            style=\"display:none;\">\n",
              "\n",
              "<svg xmlns=\"http://www.w3.org/2000/svg\" height=\"24px\"viewBox=\"0 0 24 24\"\n",
              "     width=\"24px\">\n",
              "    <g>\n",
              "        <path d=\"M19 3H5c-1.1 0-2 .9-2 2v14c0 1.1.9 2 2 2h14c1.1 0 2-.9 2-2V5c0-1.1-.9-2-2-2zM9 17H7v-7h2v7zm4 0h-2V7h2v10zm4 0h-2v-4h2v4z\"/>\n",
              "    </g>\n",
              "</svg>\n",
              "  </button>\n",
              "\n",
              "<style>\n",
              "  .colab-df-quickchart {\n",
              "      --bg-color: #E8F0FE;\n",
              "      --fill-color: #1967D2;\n",
              "      --hover-bg-color: #E2EBFA;\n",
              "      --hover-fill-color: #174EA6;\n",
              "      --disabled-fill-color: #AAA;\n",
              "      --disabled-bg-color: #DDD;\n",
              "  }\n",
              "\n",
              "  [theme=dark] .colab-df-quickchart {\n",
              "      --bg-color: #3B4455;\n",
              "      --fill-color: #D2E3FC;\n",
              "      --hover-bg-color: #434B5C;\n",
              "      --hover-fill-color: #FFFFFF;\n",
              "      --disabled-bg-color: #3B4455;\n",
              "      --disabled-fill-color: #666;\n",
              "  }\n",
              "\n",
              "  .colab-df-quickchart {\n",
              "    background-color: var(--bg-color);\n",
              "    border: none;\n",
              "    border-radius: 50%;\n",
              "    cursor: pointer;\n",
              "    display: none;\n",
              "    fill: var(--fill-color);\n",
              "    height: 32px;\n",
              "    padding: 0;\n",
              "    width: 32px;\n",
              "  }\n",
              "\n",
              "  .colab-df-quickchart:hover {\n",
              "    background-color: var(--hover-bg-color);\n",
              "    box-shadow: 0 1px 2px rgba(60, 64, 67, 0.3), 0 1px 3px 1px rgba(60, 64, 67, 0.15);\n",
              "    fill: var(--button-hover-fill-color);\n",
              "  }\n",
              "\n",
              "  .colab-df-quickchart-complete:disabled,\n",
              "  .colab-df-quickchart-complete:disabled:hover {\n",
              "    background-color: var(--disabled-bg-color);\n",
              "    fill: var(--disabled-fill-color);\n",
              "    box-shadow: none;\n",
              "  }\n",
              "\n",
              "  .colab-df-spinner {\n",
              "    border: 2px solid var(--fill-color);\n",
              "    border-color: transparent;\n",
              "    border-bottom-color: var(--fill-color);\n",
              "    animation:\n",
              "      spin 1s steps(1) infinite;\n",
              "  }\n",
              "\n",
              "  @keyframes spin {\n",
              "    0% {\n",
              "      border-color: transparent;\n",
              "      border-bottom-color: var(--fill-color);\n",
              "      border-left-color: var(--fill-color);\n",
              "    }\n",
              "    20% {\n",
              "      border-color: transparent;\n",
              "      border-left-color: var(--fill-color);\n",
              "      border-top-color: var(--fill-color);\n",
              "    }\n",
              "    30% {\n",
              "      border-color: transparent;\n",
              "      border-left-color: var(--fill-color);\n",
              "      border-top-color: var(--fill-color);\n",
              "      border-right-color: var(--fill-color);\n",
              "    }\n",
              "    40% {\n",
              "      border-color: transparent;\n",
              "      border-right-color: var(--fill-color);\n",
              "      border-top-color: var(--fill-color);\n",
              "    }\n",
              "    60% {\n",
              "      border-color: transparent;\n",
              "      border-right-color: var(--fill-color);\n",
              "    }\n",
              "    80% {\n",
              "      border-color: transparent;\n",
              "      border-right-color: var(--fill-color);\n",
              "      border-bottom-color: var(--fill-color);\n",
              "    }\n",
              "    90% {\n",
              "      border-color: transparent;\n",
              "      border-bottom-color: var(--fill-color);\n",
              "    }\n",
              "  }\n",
              "</style>\n",
              "\n",
              "  <script>\n",
              "    async function quickchart(key) {\n",
              "      const quickchartButtonEl =\n",
              "        document.querySelector('#' + key + ' button');\n",
              "      quickchartButtonEl.disabled = true;  // To prevent multiple clicks.\n",
              "      quickchartButtonEl.classList.add('colab-df-spinner');\n",
              "      try {\n",
              "        const charts = await google.colab.kernel.invokeFunction(\n",
              "            'suggestCharts', [key], {});\n",
              "      } catch (error) {\n",
              "        console.error('Error during call to suggestCharts:', error);\n",
              "      }\n",
              "      quickchartButtonEl.classList.remove('colab-df-spinner');\n",
              "      quickchartButtonEl.classList.add('colab-df-quickchart-complete');\n",
              "    }\n",
              "    (() => {\n",
              "      let quickchartButtonEl =\n",
              "        document.querySelector('#df-7e10bd48-f000-4cca-85b1-42d5fda9ee9c button');\n",
              "      quickchartButtonEl.style.display =\n",
              "        google.colab.kernel.accessAllowed ? 'block' : 'none';\n",
              "    })();\n",
              "  </script>\n",
              "</div>\n",
              "    </div>\n",
              "  </div>\n"
            ],
            "application/vnd.google.colaboratory.intrinsic+json": {
              "type": "dataframe",
              "variable_name": "cl_rev"
            }
          },
          "metadata": {},
          "execution_count": 3
        }
      ]
    },
    {
      "cell_type": "markdown",
      "source": [
        "## Dataset loading (VS Studio)"
      ],
      "metadata": {
        "id": "VLZnX37maxrk"
      }
    },
    {
      "cell_type": "code",
      "source": [
        "cl_rev = pd.read_json('data/reduced_cleaned_reviews.json')\n",
        "cl_rev.head()"
      ],
      "metadata": {
        "id": "teWJXPqBaxrn",
        "outputId": "a2735191-e0d2-4afc-901c-e06c0841459a"
      },
      "execution_count": null,
      "outputs": [
        {
          "execution_count": 2,
          "output_type": "execute_result",
          "data": {
            "text/html": [
              "<div>\n",
              "<style scoped>\n",
              "    .dataframe tbody tr th:only-of-type {\n",
              "        vertical-align: middle;\n",
              "    }\n",
              "\n",
              "    .dataframe tbody tr th {\n",
              "        vertical-align: top;\n",
              "    }\n",
              "\n",
              "    .dataframe thead th {\n",
              "        text-align: right;\n",
              "    }\n",
              "</style>\n",
              "<table border=\"1\" class=\"dataframe\">\n",
              "  <thead>\n",
              "    <tr style=\"text-align: right;\">\n",
              "      <th></th>\n",
              "      <th>movie_id</th>\n",
              "      <th>clean_text</th>\n",
              "      <th>is_spoiler</th>\n",
              "      <th>title</th>\n",
              "    </tr>\n",
              "  </thead>\n",
              "  <tbody>\n",
              "    <tr>\n",
              "      <th>0</th>\n",
              "      <td>tt0105112</td>\n",
              "      <td>Patriot Games is a more than serviceable thril...</td>\n",
              "      <td>False</td>\n",
              "      <td>Patriot Games</td>\n",
              "    </tr>\n",
              "    <tr>\n",
              "      <th>1</th>\n",
              "      <td>tt0105112</td>\n",
              "      <td>I have read all of the Tom Clancy fiction book...</td>\n",
              "      <td>False</td>\n",
              "      <td>Patriot Games</td>\n",
              "    </tr>\n",
              "    <tr>\n",
              "      <th>2</th>\n",
              "      <td>tt0105112</td>\n",
              "      <td>When CIA analyst Jack Ryan Harrison Ford inter...</td>\n",
              "      <td>False</td>\n",
              "      <td>Patriot Games</td>\n",
              "    </tr>\n",
              "    <tr>\n",
              "      <th>3</th>\n",
              "      <td>tt0105112</td>\n",
              "      <td>Phillip Noyce is Patriot Games is a superb fil...</td>\n",
              "      <td>False</td>\n",
              "      <td>Patriot Games</td>\n",
              "    </tr>\n",
              "    <tr>\n",
              "      <th>4</th>\n",
              "      <td>tt0105112</td>\n",
              "      <td>Hello First I do not own a copy of the Patriot...</td>\n",
              "      <td>False</td>\n",
              "      <td>Patriot Games</td>\n",
              "    </tr>\n",
              "  </tbody>\n",
              "</table>\n",
              "</div>"
            ],
            "text/plain": [
              "    movie_id                                         clean_text  is_spoiler  \\\n",
              "0  tt0105112  Patriot Games is a more than serviceable thril...       False   \n",
              "1  tt0105112  I have read all of the Tom Clancy fiction book...       False   \n",
              "2  tt0105112  When CIA analyst Jack Ryan Harrison Ford inter...       False   \n",
              "3  tt0105112  Phillip Noyce is Patriot Games is a superb fil...       False   \n",
              "4  tt0105112  Hello First I do not own a copy of the Patriot...       False   \n",
              "\n",
              "           title  \n",
              "0  Patriot Games  \n",
              "1  Patriot Games  \n",
              "2  Patriot Games  \n",
              "3  Patriot Games  \n",
              "4  Patriot Games  "
            ]
          },
          "metadata": {}
        }
      ]
    },
    {
      "cell_type": "markdown",
      "source": [
        "## Feature Engineering already computed, please start running from Train-dev-test split"
      ],
      "metadata": {
        "id": "IpvbIUNJaxrq"
      }
    },
    {
      "cell_type": "markdown",
      "source": [
        "### Resources NLTK"
      ],
      "metadata": {
        "id": "xD0dVc2caxrn"
      }
    },
    {
      "cell_type": "code",
      "source": [
        "import nltk\n",
        "nltk.download('averaged_perceptron_tagger')"
      ],
      "metadata": {
        "colab": {
          "base_uri": "https://localhost:8080/"
        },
        "id": "dQQB0aEOaxro",
        "outputId": "46b8b09d-6cec-47eb-963c-1f237b7035fe"
      },
      "execution_count": null,
      "outputs": [
        {
          "name": "stderr",
          "output_type": "stream",
          "text": "[nltk_data] Downloading package averaged_perceptron_tagger to\n\n[nltk_data]     /Users/mattia/nltk_data...\n\n[nltk_data]   Package averaged_perceptron_tagger is already up-to-\n\n[nltk_data]       date!\n"
        },
        {
          "execution_count": 3,
          "output_type": "execute_result",
          "data": {
            "text/plain": [
              "True"
            ]
          },
          "metadata": {}
        }
      ]
    },
    {
      "cell_type": "code",
      "source": [
        "nltk.download('maxent_ne_chunker')"
      ],
      "metadata": {
        "colab": {
          "base_uri": "https://localhost:8080/"
        },
        "id": "v46NPeQNaxro",
        "outputId": "bb1b848a-9a2c-4db2-aaca-71773fbc2183"
      },
      "execution_count": null,
      "outputs": [
        {
          "name": "stderr",
          "output_type": "stream",
          "text": "[nltk_data] Downloading package maxent_ne_chunker to\n\n[nltk_data]     /Users/mattia/nltk_data...\n\n[nltk_data]   Package maxent_ne_chunker is already up-to-date!\n"
        },
        {
          "execution_count": 4,
          "output_type": "execute_result",
          "data": {
            "text/plain": [
              "True"
            ]
          },
          "metadata": {}
        }
      ]
    },
    {
      "cell_type": "code",
      "source": [
        "nltk.download('words')"
      ],
      "metadata": {
        "colab": {
          "base_uri": "https://localhost:8080/"
        },
        "id": "3GZjGyeQaxro",
        "outputId": "60b255b4-4145-4be7-f8b0-2c53c1739527"
      },
      "execution_count": null,
      "outputs": [
        {
          "name": "stderr",
          "output_type": "stream",
          "text": "[nltk_data] Downloading package words to /Users/mattia/nltk_data...\n\n[nltk_data]   Package words is already up-to-date!\n"
        },
        {
          "execution_count": 5,
          "output_type": "execute_result",
          "data": {
            "text/plain": [
              "True"
            ]
          },
          "metadata": {}
        }
      ]
    },
    {
      "cell_type": "code",
      "source": [
        "nltk.download('punkt')"
      ],
      "metadata": {
        "colab": {
          "base_uri": "https://localhost:8080/"
        },
        "id": "kcNszD2Fc5tK",
        "outputId": "40e7fff8-3f00-43e0-dce2-619899e7b1b3"
      },
      "execution_count": null,
      "outputs": [
        {
          "name": "stderr",
          "output_type": "stream",
          "text": "[nltk_data] Downloading package punkt to /Users/mattia/nltk_data...\n\n[nltk_data]   Package punkt is already up-to-date!\n"
        },
        {
          "execution_count": 6,
          "output_type": "execute_result",
          "data": {
            "text/plain": [
              "True"
            ]
          },
          "metadata": {}
        }
      ]
    },
    {
      "cell_type": "markdown",
      "source": [
        "### Features"
      ],
      "metadata": {
        "id": "EKvGX9wTjwhh"
      }
    },
    {
      "cell_type": "markdown",
      "source": [
        "Review length"
      ],
      "metadata": {
        "id": "geYsRViqez_A"
      }
    },
    {
      "cell_type": "code",
      "source": [
        "# Review length (number of words and characters)\n",
        "cl_rev['review_length_words'] = np.nan\n",
        "cl_rev['review_length_chars'] = np.nan\n",
        "for i in range(len(cl_rev)):\n",
        "    review = cl_rev['clean_text'][i]\n",
        "    words = word_tokenize(review)\n",
        "    cl_rev.iloc[i, cl_rev.columns.get_loc('review_length_words')] = len(words)\n",
        "    cl_rev.iloc[i, cl_rev.columns.get_loc('review_length_chars')] = len(review)"
      ],
      "metadata": {
        "id": "OvOmr1VGaxrq"
      },
      "execution_count": null,
      "outputs": []
    },
    {
      "cell_type": "markdown",
      "source": [
        "Sentiment score"
      ],
      "metadata": {
        "id": "b-2BVdTVe2lr"
      }
    },
    {
      "cell_type": "code",
      "source": [
        "# Sentiment score\n",
        "cl_rev['sentiment_polarity'] = np.nan\n",
        "cl_rev['sentiment_subjectivity'] = np.nan\n",
        "for i in range(len(cl_rev)):\n",
        "    review = cl_rev['clean_text'][i]\n",
        "    sentiment = TextBlob(review).sentiment\n",
        "    cl_rev.iloc[i, cl_rev.columns.get_loc('sentiment_polarity')] = sentiment.polarity\n",
        "    cl_rev.iloc[i, cl_rev.columns.get_loc('sentiment_subjectivity')] = sentiment.subjectivity"
      ],
      "metadata": {
        "id": "GzFE7bh8axrq"
      },
      "execution_count": null,
      "outputs": []
    },
    {
      "cell_type": "markdown",
      "source": [
        "Keywords"
      ],
      "metadata": {
        "id": "dgZY_J_pe6jU"
      }
    },
    {
      "cell_type": "code",
      "source": [
        "# Presence of keywords\n",
        "keywords = [\"plot twist\", \"ending\", \"finale\"]\n",
        "for keyword in keywords:\n",
        "    cl_rev[f'keyword_{keyword.replace(\" \", \"_\")}'] = np.nan\n",
        "for i in range(len(cl_rev)):\n",
        "    review = cl_rev['clean_text'][i]\n",
        "    for keyword in keywords:\n",
        "        cl_rev.iloc[i, cl_rev.columns.get_loc(f'keyword_{keyword.replace(\" \", \"_\")}')] = int(keyword in review.lower())"
      ],
      "metadata": {
        "id": "sZNt3uA2axrr"
      },
      "execution_count": null,
      "outputs": []
    },
    {
      "cell_type": "markdown",
      "source": [
        "NER"
      ],
      "metadata": {
        "id": "UiqmK3W_fFMO"
      }
    },
    {
      "cell_type": "code",
      "source": [
        "from nltk import tree2conlltags\n",
        "\n",
        "# Named Entity Recognition (NER)\n",
        "cl_rev['ner_count'] = np.nan\n",
        "\n",
        "for i in range(len(cl_rev)):\n",
        "    review = cl_rev['clean_text'][i]\n",
        "    words = word_tokenize(review)\n",
        "    entities = nltk.ne_chunk(nltk.pos_tag(words))\n",
        "    iob_tagged = tree2conlltags(entities)\n",
        "    tagged_text = []\n",
        "    for word, pos, ne_tag in iob_tagged:\n",
        "        if ne_tag != 'O':  # If the word is part of a named entity\n",
        "            tagged_word = f\"{word}_{ne_tag[2:]}\"\n",
        "        else:\n",
        "            tagged_word = word\n",
        "        tagged_text.append(tagged_word)\n",
        "\n",
        "    # Join the tagged words into a single string\n",
        "    tagged_text_str = ' '.join(tagged_text)\n",
        "    cl_rev.loc[i, 'ner_count'] = sum(1 for chunk in entities if hasattr(chunk, 'label'))\n",
        "    cl_rev.loc[i, 'ner_text'] = tagged_text_str"
      ],
      "metadata": {
        "id": "YO7jYlyufEME"
      },
      "execution_count": null,
      "outputs": []
    },
    {
      "cell_type": "code",
      "source": [
        "# cl_rev.to_csv(f'{path}/data/reduced_reviews_meta_features_NER.csv')\n",
        "cl_rev.to_csv('data/reduced_reviews_meta_features_NER.csv')"
      ],
      "metadata": {
        "id": "qxJ_-nJ0IuVu"
      },
      "execution_count": null,
      "outputs": []
    },
    {
      "cell_type": "markdown",
      "source": [
        "## Train - Dev - Test Split"
      ],
      "metadata": {
        "id": "YmhwEjtHfJGq"
      }
    },
    {
      "cell_type": "code",
      "source": [
        "cl_rev = pd.read_csv(f'{path}/data/reduced_reviews_meta_features_NER.csv')"
      ],
      "metadata": {
        "id": "t3IFNj9jMq0U"
      },
      "execution_count": null,
      "outputs": []
    },
    {
      "cell_type": "code",
      "source": [
        "X = cl_rev[['clean_text', 'is_spoiler', 'review_length_words', 'review_length_chars',\n",
        "            'sentiment_polarity', 'sentiment_subjectivity', 'keyword_plot_twist',\n",
        "            'keyword_ending', 'keyword_finale', 'ner_count', 'ner_text']]\n",
        "train, testing = train_test_split(X, test_size=0.2, random_state=42)\n",
        "dev, test = train_test_split(testing, test_size=0.5, random_state=42)"
      ],
      "metadata": {
        "id": "YxvrJ199fN5D"
      },
      "execution_count": null,
      "outputs": []
    },
    {
      "cell_type": "code",
      "source": [
        "train['dataset'] = 'train'\n",
        "dev['dataset'] = 'dev'\n",
        "test['dataset'] = 'test'\n",
        "\n",
        "# Combine the dataframes\n",
        "combined_data = pd.concat([train, dev, test])\n",
        "# Calculate percentage\n",
        "percentage_data = combined_data.groupby('dataset')['is_spoiler'].value_counts(normalize=True).mul(100).rename('percentage').reset_index()\n",
        "\n",
        "# Plotting\n",
        "plt.figure(figsize=(10,6))\n",
        "sns.barplot(x='is_spoiler', y='percentage', hue='dataset', data=percentage_data, palette='viridis')\n",
        "plt.title('Distribution of Spoiler Reviews Across Datasets')\n",
        "plt.show()"
      ],
      "metadata": {
        "colab": {
          "base_uri": "https://localhost:8080/"
        },
        "id": "7dxmWOK_f7OR",
        "outputId": "2910a4cb-a986-41cb-a24c-611543c1712e"
      },
      "execution_count": null,
      "outputs": [
        {
          "output_type": "display_data",
          "data": {
            "text/plain": [
              "<Figure size 1000x600 with 1 Axes>"
            ],
            "image/png": "[encoded data removed]"
          },
          "metadata": {}
        }
      ]
    },
    {
      "cell_type": "code",
      "source": [
        "train = pd.DataFrame(train).reset_index(drop=True)\n",
        "dev = pd.DataFrame(dev).reset_index(drop=True)\n",
        "test = pd.DataFrame(test).reset_index(drop=True)"
      ],
      "metadata": {
        "id": "GO0bX0VAgFxa"
      },
      "execution_count": null,
      "outputs": []
    },
    {
      "cell_type": "markdown",
      "source": [
        "## Embeddings T5"
      ],
      "metadata": {
        "id": "a61oj5ZHaxrr"
      }
    },
    {
      "cell_type": "markdown",
      "source": [
        "computes the t5 embeddings if not available otherwise it loads the existing ones\n",
        "\n",
        "\n"
      ],
      "metadata": {
        "id": "Z0vpD_J_Bl34"
      }
    },
    {
      "cell_type": "code",
      "source": [
        "from sentence_transformers import SentenceTransformer\n",
        "\n",
        "def embed_text():\n",
        "\n",
        "  if not os.path.exists(f'{path}/data/embedding_cache_path_NER.npy'):\n",
        "    print('Start calculating embeddings...')\n",
        "    model = SentenceTransformer('sentence-transformers/sentence-t5-base')\n",
        "\n",
        "    print(f'... using {model}')\n",
        "    embeddings = model.encode(train['ner_text'], show_progress_bar = True)\n",
        "    val_embeddings = model.encode(dev['ner_text'], show_progress_bar = True)\n",
        "    test_embeddings = model.encode(test['ner_text'], show_progress_bar = True)\n",
        "\n",
        "    emb = np.concatenate((embeddings, val_embeddings, test_embeddings))\n",
        "    np.save(f'{path}/data/embedding_cache_path_NER.npy', emb)\n",
        "  else:\n",
        "    print('Loading existing embeddings...')\n",
        "    emb = np.load(f'{path}/data/embedding_cache_path_NER.npy')\n",
        "    embeddings, val_embeddings, test_embeddings = emb[:len(train)], emb[len(train):len(train) + len(dev)], emb[len(train) + len(dev) : ]\n",
        "  return embeddings, val_embeddings, test_embeddings"
      ],
      "metadata": {
        "id": "aVrTvt9Qe5yh"
      },
      "execution_count": null,
      "outputs": []
    },
    {
      "cell_type": "code",
      "source": [
        "embeddings, val_embeddings, test_embeddings = embed_text()"
      ],
      "metadata": {
        "colab": {
          "base_uri": "https://localhost:8080/"
        },
        "id": "f6MVTQZyg4nW",
        "outputId": "b553857e-dc7e-4301-e722-645ea18501be"
      },
      "execution_count": null,
      "outputs": [
        {
          "output_type": "stream",
          "name": "stdout",
          "text": [
            "Loading existing embeddings...\n"
          ]
        }
      ]
    },
    {
      "cell_type": "markdown",
      "source": [
        "## T5 - Logistic"
      ],
      "metadata": {
        "id": "hK40jPBgjFL8"
      }
    },
    {
      "cell_type": "code",
      "source": [
        "from sklearn.linear_model import LogisticRegression\n",
        "from sklearn.metrics import classification_report, f1_score\n",
        "from sklearn.preprocessing import StandardScaler\n",
        "\n",
        "cls = LogisticRegression(n_jobs=-1, random_state=42, max_iter = 5000,class_weight = 'balanced')#, C = 0.9)\n",
        "\n",
        "tr = train[['review_length_words', 'review_length_chars',\n",
        "            'sentiment_polarity', 'sentiment_subjectivity', 'keyword_plot_twist',\n",
        "            'keyword_ending', 'keyword_finale', 'ner_count']].to_numpy()\n",
        "d = dev[['review_length_words', 'review_length_chars',\n",
        "            'sentiment_polarity', 'sentiment_subjectivity', 'keyword_plot_twist',\n",
        "            'keyword_ending', 'keyword_finale', 'ner_count']].to_numpy()\n",
        "te = test[['review_length_words', 'review_length_chars',\n",
        "            'sentiment_polarity', 'sentiment_subjectivity', 'keyword_plot_twist',\n",
        "            'keyword_ending', 'keyword_finale', 'ner_count']].to_numpy()\n",
        "\n",
        "X_train = np.hstack((tr, embeddings))\n",
        "X_dev = np.hstack((d, val_embeddings))\n",
        "X_test = np.hstack((te, test_embeddings))\n",
        "\n",
        "y_train = train['is_spoiler'].to_numpy()\n",
        "y_dev = dev['is_spoiler'].to_numpy()\n",
        "y_test = test['is_spoiler'].to_numpy()\n",
        "\n",
        "#scaling features\n",
        "scaler = StandardScaler()\n",
        "X_train = scaler.fit_transform(X_train)\n",
        "X_dev = scaler.transform(X_dev)\n",
        "X_test = scaler.transform(X_test)\n",
        "\n",
        "cls.fit(X_train, y_train)\n",
        "\n",
        "train_predictions = cls.predict(X_train)\n",
        "print('Train performance:')\n",
        "print(classification_report(y_train, train_predictions))\n",
        "\n",
        "predictions = cls.predict(X_dev)\n",
        "\n",
        "# performance report\n",
        "print('Dev performance:')\n",
        "print(classification_report(y_dev, predictions))\n",
        "print(f1_score(y_dev, predictions, average='macro'))"
      ],
      "metadata": {
        "colab": {
          "base_uri": "https://localhost:8080/"
        },
        "id": "PwC5LuSWhCeR",
        "outputId": "5fb79bd4-8e95-44c8-d3c8-612345541a85"
      },
      "execution_count": null,
      "outputs": [
        {
          "output_type": "stream",
          "name": "stderr",
          "text": [
            "/usr/local/lib/python3.10/dist-packages/joblib/externals/loky/backend/fork_exec.py:38: RuntimeWarning: os.fork() was called. os.fork() is incompatible with multithreaded code, and JAX is multithreaded, so this will likely lead to a deadlock.\n",
            "  pid = os.fork()\n"
          ]
        },
        {
          "output_type": "stream",
          "name": "stdout",
          "text": [
            "Train performance:\n",
            "              precision    recall  f1-score   support\n",
            "\n",
            "       False       0.82      0.68      0.74     64810\n",
            "        True       0.48      0.66      0.55     28962\n",
            "\n",
            "    accuracy                           0.67     93772\n",
            "   macro avg       0.65      0.67      0.65     93772\n",
            "weighted avg       0.71      0.67      0.68     93772\n",
            "\n",
            "Dev performance:\n",
            "              precision    recall  f1-score   support\n",
            "\n",
            "       False       0.82      0.68      0.74      8104\n",
            "        True       0.48      0.66      0.56      3618\n",
            "\n",
            "    accuracy                           0.68     11722\n",
            "   macro avg       0.65      0.67      0.65     11722\n",
            "weighted avg       0.71      0.68      0.69     11722\n",
            "\n",
            "0.6496474920067212\n"
          ]
        }
      ]
    },
    {
      "cell_type": "code",
      "source": [
        "predictions = cls.predict(X_test)\n",
        "\n",
        "# performance report\n",
        "print('Test performance:')\n",
        "print(classification_report(y_test, predictions))\n",
        "print(f1_score(y_test, predictions, average='macro'))"
      ],
      "metadata": {
        "colab": {
          "base_uri": "https://localhost:8080/"
        },
        "id": "IMBsBSgKrfLh",
        "outputId": "91e1a4a7-3efc-43f3-e67c-066d25649c32"
      },
      "execution_count": null,
      "outputs": [
        {
          "output_type": "stream",
          "name": "stdout",
          "text": [
            "Test performance:\n",
            "              precision    recall  f1-score   support\n",
            "\n",
            "       False       0.81      0.68      0.74      8196\n",
            "        True       0.46      0.63      0.53      3526\n",
            "\n",
            "    accuracy                           0.67     11722\n",
            "   macro avg       0.63      0.66      0.64     11722\n",
            "weighted avg       0.70      0.67      0.68     11722\n",
            "\n",
            "0.6355070467553101\n"
          ]
        }
      ]
    },
    {
      "cell_type": "code",
      "source": [
        "from sklearn.metrics import roc_auc_score\n",
        "auc = roc_auc_score(y_test, predictions)\n",
        "print(f\"The AUC is: {auc}\")"
      ],
      "metadata": {
        "colab": {
          "base_uri": "https://localhost:8080/"
        },
        "id": "9gkJOJIe5Jan",
        "outputId": "f1d47186-9295-4e31-b596-d99c34bedb48"
      },
      "execution_count": null,
      "outputs": [
        {
          "output_type": "stream",
          "name": "stdout",
          "text": [
            "The AUC is: 0.6553956566669075\n"
          ]
        }
      ]
    },
    {
      "cell_type": "markdown",
      "source": [
        "## T5 - XGBoost"
      ],
      "metadata": {
        "id": "VOJRWwANu-ID"
      }
    },
    {
      "cell_type": "code",
      "source": [
        "%%capture\n",
        "!pip install xgboost"
      ],
      "metadata": {
        "id": "Npnesnp5yz49"
      },
      "execution_count": null,
      "outputs": []
    },
    {
      "cell_type": "code",
      "source": [
        "tr = train[['review_length_words', 'review_length_chars',\n",
        "            'sentiment_polarity', 'sentiment_subjectivity', 'keyword_plot_twist',\n",
        "            'keyword_ending', 'keyword_finale', 'ner_count']].to_numpy()\n",
        "d = dev[['review_length_words', 'review_length_chars',\n",
        "            'sentiment_polarity', 'sentiment_subjectivity', 'keyword_plot_twist',\n",
        "            'keyword_ending', 'keyword_finale', 'ner_count']].to_numpy()\n",
        "te = test[['review_length_words', 'review_length_chars',\n",
        "            'sentiment_polarity', 'sentiment_subjectivity', 'keyword_plot_twist',\n",
        "            'keyword_ending', 'keyword_finale', 'ner_count']].to_numpy()\n",
        "\n",
        "X_train = np.hstack((tr, embeddings))\n",
        "X_dev = np.hstack((d, val_embeddings))\n",
        "X_test = np.hstack((te, test_embeddings))\n",
        "\n",
        "y_train = train['is_spoiler'].to_numpy()\n",
        "y_dev = dev['is_spoiler'].to_numpy()\n",
        "y_test = test['is_spoiler'].to_numpy()\n",
        "\n",
        "# scaling features\n",
        "scaler = StandardScaler()\n",
        "X_train = scaler.fit_transform(X_train)\n",
        "X_dev = scaler.transform(X_dev)\n",
        "X_test = scaler.transform(X_test)"
      ],
      "metadata": {
        "id": "SzmFoWMK1VF9"
      },
      "execution_count": null,
      "outputs": []
    },
    {
      "cell_type": "code",
      "source": [
        "import xgboost as xgb\n",
        "from sklearn.metrics import classification_report, f1_score, recall_score, precision_score\n",
        "from sklearn.preprocessing import StandardScaler\n",
        "\n",
        "cls = xgb.XGBClassifier(n_estimators=500, max_depth=3, learning_rate=0.1,\n",
        "                        subsample=0.8, colsample_bytree=0.8, n_jobs=-1,\n",
        "                        random_state=42, use_label_encoder=False, eval_metric='logloss')\n",
        "\n",
        "cls.fit(X_train, y_train, eval_set=[(X_dev, y_dev)], early_stopping_rounds=10, verbose=False)\n",
        "\n",
        "\n",
        "# performance report on validation\n",
        "predictions = cls.predict(X_dev)\n",
        "print('Dev performance:')\n",
        "print(classification_report(y_dev, predictions))\n",
        "print(f1_score(y_dev, predictions, average='macro'))\n",
        "\n",
        "# performance report on validation\n",
        "predictions = cls.predict(X_test)\n",
        "print('Test performance:')\n",
        "print(classification_report(y_test, predictions))\n",
        "print(f1_score(y_test, predictions, average='macro'))"
      ],
      "metadata": {
        "colab": {
          "base_uri": "https://localhost:8080/"
        },
        "id": "gr4UnnPwr1dG",
        "outputId": "64424ac5-0403-4be8-930e-bd26edaa1ce8"
      },
      "execution_count": null,
      "outputs": [
        {
          "output_type": "stream",
          "name": "stderr",
          "text": [
            "/usr/local/lib/python3.10/dist-packages/xgboost/sklearn.py:889: UserWarning: `early_stopping_rounds` in `fit` method is deprecated for better compatibility with scikit-learn, use `early_stopping_rounds` in constructor or`set_params` instead.\n",
            "  warnings.warn(\n"
          ]
        },
        {
          "output_type": "stream",
          "name": "stdout",
          "text": [
            "Dev performance:\n",
            "              precision    recall  f1-score   support\n",
            "\n",
            "       False       0.74      0.93      0.82      8104\n",
            "        True       0.62      0.25      0.36      3618\n",
            "\n",
            "    accuracy                           0.72     11722\n",
            "   macro avg       0.68      0.59      0.59     11722\n",
            "weighted avg       0.70      0.72      0.68     11722\n",
            "\n",
            "0.5888153706401035\n",
            "Dev performance:\n",
            "              precision    recall  f1-score   support\n",
            "\n",
            "       False       0.74      0.93      0.82      8196\n",
            "        True       0.59      0.23      0.34      3526\n",
            "\n",
            "    accuracy                           0.72     11722\n",
            "   macro avg       0.67      0.58      0.58     11722\n",
            "weighted avg       0.69      0.72      0.68     11722\n",
            "\n",
            "0.5792934384073698\n"
          ]
        }
      ]
    },
    {
      "cell_type": "markdown",
      "source": [
        "# Bidirectional GRU"
      ],
      "metadata": {
        "id": "-9LvMSfycOFw"
      }
    },
    {
      "cell_type": "code",
      "source": [
        "import keras\n",
        "from tensorflow.keras.preprocessing.text import Tokenizer\n",
        "from tensorflow.keras.preprocessing.sequence import pad_sequences\n",
        "from tensorflow.keras.models import Sequential\n",
        "from tensorflow.keras.layers import Embedding, Bidirectional, GRU, Dense, Dropout, LSTM\n",
        "from tensorflow.keras.regularizers import l2\n",
        "from sklearn.utils.class_weight import compute_class_weight\n",
        "from tensorflow.keras.callbacks import EarlyStopping\n",
        "import tensorflow as tf"
      ],
      "metadata": {
        "id": "bFsDNxD_cNPx"
      },
      "execution_count": null,
      "outputs": []
    },
    {
      "cell_type": "code",
      "source": [
        "cl_rev = pd.read_csv(f'{path}/data/reduced_reviews_meta_features_NER.csv')\n",
        "cl_rev.head()"
      ],
      "metadata": {
        "colab": {
          "base_uri": "https://localhost:8080/",
          "height": 539
        },
        "id": "Lkq-ampadRWS",
        "outputId": "fffeaf69-9e7a-4f91-a12f-e011f0fdd62d"
      },
      "execution_count": null,
      "outputs": [
        {
          "output_type": "execute_result",
          "data": {
            "text/plain": [
              "   Unnamed: 0   movie_id                                         clean_text  \\\n",
              "0           0  tt0105112  Patriot Games is a more than serviceable thril...   \n",
              "1           1  tt0105112  I have read all of the Tom Clancy fiction book...   \n",
              "2           2  tt0105112  When CIA analyst Jack Ryan Harrison Ford inter...   \n",
              "3           3  tt0105112  Phillip Noyce is Patriot Games is a superb fil...   \n",
              "4           4  tt0105112  Hello First I do not own a copy of the Patriot...   \n",
              "\n",
              "   is_spoiler          title  review_length_words  review_length_chars  \\\n",
              "0       False  Patriot Games                198.0               1034.0   \n",
              "1       False  Patriot Games                162.0                821.0   \n",
              "2       False  Patriot Games                127.0                709.0   \n",
              "3       False  Patriot Games                156.0                854.0   \n",
              "4       False  Patriot Games                119.0                601.0   \n",
              "\n",
              "   sentiment_polarity  sentiment_subjectivity  keyword_plot_twist  \\\n",
              "0            0.121775                0.561957                 0.0   \n",
              "1            0.158854                0.420833                 0.0   \n",
              "2            0.495238                0.661905                 0.0   \n",
              "3            0.388889                0.628241                 0.0   \n",
              "4            0.136762                0.606913                 0.0   \n",
              "\n",
              "   keyword_ending  keyword_finale  ner_count  \\\n",
              "0             0.0             0.0        6.0   \n",
              "1             1.0             0.0        6.0   \n",
              "2             0.0             0.0       16.0   \n",
              "3             0.0             0.0       17.0   \n",
              "4             0.0             0.0        7.0   \n",
              "\n",
              "                                            ner_text  \n",
              "0  Patriot_PERSON Games is a more than serviceabl...  \n",
              "1  I have read all of the Tom_ORGANIZATION Clancy...  \n",
              "2  When CIA_ORGANIZATION analyst Jack_PERSON Ryan...  \n",
              "3  Phillip_PERSON Noyce_ORGANIZATION is Patriot_O...  \n",
              "4  Hello_PERSON First I do not own a copy of the ...  "
            ],
            "text/html": [
              "\n",
              "  <div id=\"df-7c1f2173-cd5e-43e4-b49f-0422be10f324\" class=\"colab-df-container\">\n",
              "    <div>\n",
              "<style scoped>\n",
              "    .dataframe tbody tr th:only-of-type {\n",
              "        vertical-align: middle;\n",
              "    }\n",
              "\n",
              "    .dataframe tbody tr th {\n",
              "        vertical-align: top;\n",
              "    }\n",
              "\n",
              "    .dataframe thead th {\n",
              "        text-align: right;\n",
              "    }\n",
              "</style>\n",
              "<table border=\"1\" class=\"dataframe\">\n",
              "  <thead>\n",
              "    <tr style=\"text-align: right;\">\n",
              "      <th></th>\n",
              "      <th>Unnamed: 0</th>\n",
              "      <th>movie_id</th>\n",
              "      <th>clean_text</th>\n",
              "      <th>is_spoiler</th>\n",
              "      <th>title</th>\n",
              "      <th>review_length_words</th>\n",
              "      <th>review_length_chars</th>\n",
              "      <th>sentiment_polarity</th>\n",
              "      <th>sentiment_subjectivity</th>\n",
              "      <th>keyword_plot_twist</th>\n",
              "      <th>keyword_ending</th>\n",
              "      <th>keyword_finale</th>\n",
              "      <th>ner_count</th>\n",
              "      <th>ner_text</th>\n",
              "    </tr>\n",
              "  </thead>\n",
              "  <tbody>\n",
              "    <tr>\n",
              "      <th>0</th>\n",
              "      <td>0</td>\n",
              "      <td>tt0105112</td>\n",
              "      <td>Patriot Games is a more than serviceable thril...</td>\n",
              "      <td>False</td>\n",
              "      <td>Patriot Games</td>\n",
              "      <td>198.0</td>\n",
              "      <td>1034.0</td>\n",
              "      <td>0.121775</td>\n",
              "      <td>0.561957</td>\n",
              "      <td>0.0</td>\n",
              "      <td>0.0</td>\n",
              "      <td>0.0</td>\n",
              "      <td>6.0</td>\n",
              "      <td>Patriot_PERSON Games is a more than serviceabl...</td>\n",
              "    </tr>\n",
              "    <tr>\n",
              "      <th>1</th>\n",
              "      <td>1</td>\n",
              "      <td>tt0105112</td>\n",
              "      <td>I have read all of the Tom Clancy fiction book...</td>\n",
              "      <td>False</td>\n",
              "      <td>Patriot Games</td>\n",
              "      <td>162.0</td>\n",
              "      <td>821.0</td>\n",
              "      <td>0.158854</td>\n",
              "      <td>0.420833</td>\n",
              "      <td>0.0</td>\n",
              "      <td>1.0</td>\n",
              "      <td>0.0</td>\n",
              "      <td>6.0</td>\n",
              "      <td>I have read all of the Tom_ORGANIZATION Clancy...</td>\n",
              "    </tr>\n",
              "    <tr>\n",
              "      <th>2</th>\n",
              "      <td>2</td>\n",
              "      <td>tt0105112</td>\n",
              "      <td>When CIA analyst Jack Ryan Harrison Ford inter...</td>\n",
              "      <td>False</td>\n",
              "      <td>Patriot Games</td>\n",
              "      <td>127.0</td>\n",
              "      <td>709.0</td>\n",
              "      <td>0.495238</td>\n",
              "      <td>0.661905</td>\n",
              "      <td>0.0</td>\n",
              "      <td>0.0</td>\n",
              "      <td>0.0</td>\n",
              "      <td>16.0</td>\n",
              "      <td>When CIA_ORGANIZATION analyst Jack_PERSON Ryan...</td>\n",
              "    </tr>\n",
              "    <tr>\n",
              "      <th>3</th>\n",
              "      <td>3</td>\n",
              "      <td>tt0105112</td>\n",
              "      <td>Phillip Noyce is Patriot Games is a superb fil...</td>\n",
              "      <td>False</td>\n",
              "      <td>Patriot Games</td>\n",
              "      <td>156.0</td>\n",
              "      <td>854.0</td>\n",
              "      <td>0.388889</td>\n",
              "      <td>0.628241</td>\n",
              "      <td>0.0</td>\n",
              "      <td>0.0</td>\n",
              "      <td>0.0</td>\n",
              "      <td>17.0</td>\n",
              "      <td>Phillip_PERSON Noyce_ORGANIZATION is Patriot_O...</td>\n",
              "    </tr>\n",
              "    <tr>\n",
              "      <th>4</th>\n",
              "      <td>4</td>\n",
              "      <td>tt0105112</td>\n",
              "      <td>Hello First I do not own a copy of the Patriot...</td>\n",
              "      <td>False</td>\n",
              "      <td>Patriot Games</td>\n",
              "      <td>119.0</td>\n",
              "      <td>601.0</td>\n",
              "      <td>0.136762</td>\n",
              "      <td>0.606913</td>\n",
              "      <td>0.0</td>\n",
              "      <td>0.0</td>\n",
              "      <td>0.0</td>\n",
              "      <td>7.0</td>\n",
              "      <td>Hello_PERSON First I do not own a copy of the ...</td>\n",
              "    </tr>\n",
              "  </tbody>\n",
              "</table>\n",
              "</div>\n",
              "    <div class=\"colab-df-buttons\">\n",
              "\n",
              "  <div class=\"colab-df-container\">\n",
              "    <button class=\"colab-df-convert\" onclick=\"convertToInteractive('df-7c1f2173-cd5e-43e4-b49f-0422be10f324')\"\n",
              "            title=\"Convert this dataframe to an interactive table.\"\n",
              "            style=\"display:none;\">\n",
              "\n",
              "  <svg xmlns=\"http://www.w3.org/2000/svg\" height=\"24px\" viewBox=\"0 -960 960 960\">\n",
              "    <path d=\"M120-120v-720h720v720H120Zm60-500h600v-160H180v160Zm220 220h160v-160H400v160Zm0 220h160v-160H400v160ZM180-400h160v-160H180v160Zm440 0h160v-160H620v160ZM180-180h160v-160H180v160Zm440 0h160v-160H620v160Z\"/>\n",
              "  </svg>\n",
              "    </button>\n",
              "\n",
              "  <style>\n",
              "    .colab-df-container {\n",
              "      display:flex;\n",
              "      gap: 12px;\n",
              "    }\n",
              "\n",
              "    .colab-df-convert {\n",
              "      background-color: #E8F0FE;\n",
              "      border: none;\n",
              "      border-radius: 50%;\n",
              "      cursor: pointer;\n",
              "      display: none;\n",
              "      fill: #1967D2;\n",
              "      height: 32px;\n",
              "      padding: 0 0 0 0;\n",
              "      width: 32px;\n",
              "    }\n",
              "\n",
              "    .colab-df-convert:hover {\n",
              "      background-color: #E2EBFA;\n",
              "      box-shadow: 0px 1px 2px rgba(60, 64, 67, 0.3), 0px 1px 3px 1px rgba(60, 64, 67, 0.15);\n",
              "      fill: #174EA6;\n",
              "    }\n",
              "\n",
              "    .colab-df-buttons div {\n",
              "      margin-bottom: 4px;\n",
              "    }\n",
              "\n",
              "    [theme=dark] .colab-df-convert {\n",
              "      background-color: #3B4455;\n",
              "      fill: #D2E3FC;\n",
              "    }\n",
              "\n",
              "    [theme=dark] .colab-df-convert:hover {\n",
              "      background-color: #434B5C;\n",
              "      box-shadow: 0px 1px 3px 1px rgba(0, 0, 0, 0.15);\n",
              "      filter: drop-shadow(0px 1px 2px rgba(0, 0, 0, 0.3));\n",
              "      fill: #FFFFFF;\n",
              "    }\n",
              "  </style>\n",
              "\n",
              "    <script>\n",
              "      const buttonEl =\n",
              "        document.querySelector('#df-7c1f2173-cd5e-43e4-b49f-0422be10f324 button.colab-df-convert');\n",
              "      buttonEl.style.display =\n",
              "        google.colab.kernel.accessAllowed ? 'block' : 'none';\n",
              "\n",
              "      async function convertToInteractive(key) {\n",
              "        const element = document.querySelector('#df-7c1f2173-cd5e-43e4-b49f-0422be10f324');\n",
              "        const dataTable =\n",
              "          await google.colab.kernel.invokeFunction('convertToInteractive',\n",
              "                                                    [key], {});\n",
              "        if (!dataTable) return;\n",
              "\n",
              "        const docLinkHtml = 'Like what you see? Visit the ' +\n",
              "          '<a target=\"_blank\" href=https://colab.research.google.com/notebooks/data_table.ipynb>data table notebook</a>'\n",
              "          + ' to learn more about interactive tables.';\n",
              "        element.innerHTML = '';\n",
              "        dataTable['output_type'] = 'display_data';\n",
              "        await google.colab.output.renderOutput(dataTable, element);\n",
              "        const docLink = document.createElement('div');\n",
              "        docLink.innerHTML = docLinkHtml;\n",
              "        element.appendChild(docLink);\n",
              "      }\n",
              "    </script>\n",
              "  </div>\n",
              "\n",
              "\n",
              "<div id=\"df-8546aa79-8468-42f2-bfd6-efa181bbfe90\">\n",
              "  <button class=\"colab-df-quickchart\" onclick=\"quickchart('df-8546aa79-8468-42f2-bfd6-efa181bbfe90')\"\n",
              "            title=\"Suggest charts\"\n",
              "            style=\"display:none;\">\n",
              "\n",
              "<svg xmlns=\"http://www.w3.org/2000/svg\" height=\"24px\"viewBox=\"0 0 24 24\"\n",
              "     width=\"24px\">\n",
              "    <g>\n",
              "        <path d=\"M19 3H5c-1.1 0-2 .9-2 2v14c0 1.1.9 2 2 2h14c1.1 0 2-.9 2-2V5c0-1.1-.9-2-2-2zM9 17H7v-7h2v7zm4 0h-2V7h2v10zm4 0h-2v-4h2v4z\"/>\n",
              "    </g>\n",
              "</svg>\n",
              "  </button>\n",
              "\n",
              "<style>\n",
              "  .colab-df-quickchart {\n",
              "      --bg-color: #E8F0FE;\n",
              "      --fill-color: #1967D2;\n",
              "      --hover-bg-color: #E2EBFA;\n",
              "      --hover-fill-color: #174EA6;\n",
              "      --disabled-fill-color: #AAA;\n",
              "      --disabled-bg-color: #DDD;\n",
              "  }\n",
              "\n",
              "  [theme=dark] .colab-df-quickchart {\n",
              "      --bg-color: #3B4455;\n",
              "      --fill-color: #D2E3FC;\n",
              "      --hover-bg-color: #434B5C;\n",
              "      --hover-fill-color: #FFFFFF;\n",
              "      --disabled-bg-color: #3B4455;\n",
              "      --disabled-fill-color: #666;\n",
              "  }\n",
              "\n",
              "  .colab-df-quickchart {\n",
              "    background-color: var(--bg-color);\n",
              "    border: none;\n",
              "    border-radius: 50%;\n",
              "    cursor: pointer;\n",
              "    display: none;\n",
              "    fill: var(--fill-color);\n",
              "    height: 32px;\n",
              "    padding: 0;\n",
              "    width: 32px;\n",
              "  }\n",
              "\n",
              "  .colab-df-quickchart:hover {\n",
              "    background-color: var(--hover-bg-color);\n",
              "    box-shadow: 0 1px 2px rgba(60, 64, 67, 0.3), 0 1px 3px 1px rgba(60, 64, 67, 0.15);\n",
              "    fill: var(--button-hover-fill-color);\n",
              "  }\n",
              "\n",
              "  .colab-df-quickchart-complete:disabled,\n",
              "  .colab-df-quickchart-complete:disabled:hover {\n",
              "    background-color: var(--disabled-bg-color);\n",
              "    fill: var(--disabled-fill-color);\n",
              "    box-shadow: none;\n",
              "  }\n",
              "\n",
              "  .colab-df-spinner {\n",
              "    border: 2px solid var(--fill-color);\n",
              "    border-color: transparent;\n",
              "    border-bottom-color: var(--fill-color);\n",
              "    animation:\n",
              "      spin 1s steps(1) infinite;\n",
              "  }\n",
              "\n",
              "  @keyframes spin {\n",
              "    0% {\n",
              "      border-color: transparent;\n",
              "      border-bottom-color: var(--fill-color);\n",
              "      border-left-color: var(--fill-color);\n",
              "    }\n",
              "    20% {\n",
              "      border-color: transparent;\n",
              "      border-left-color: var(--fill-color);\n",
              "      border-top-color: var(--fill-color);\n",
              "    }\n",
              "    30% {\n",
              "      border-color: transparent;\n",
              "      border-left-color: var(--fill-color);\n",
              "      border-top-color: var(--fill-color);\n",
              "      border-right-color: var(--fill-color);\n",
              "    }\n",
              "    40% {\n",
              "      border-color: transparent;\n",
              "      border-right-color: var(--fill-color);\n",
              "      border-top-color: var(--fill-color);\n",
              "    }\n",
              "    60% {\n",
              "      border-color: transparent;\n",
              "      border-right-color: var(--fill-color);\n",
              "    }\n",
              "    80% {\n",
              "      border-color: transparent;\n",
              "      border-right-color: var(--fill-color);\n",
              "      border-bottom-color: var(--fill-color);\n",
              "    }\n",
              "    90% {\n",
              "      border-color: transparent;\n",
              "      border-bottom-color: var(--fill-color);\n",
              "    }\n",
              "  }\n",
              "</style>\n",
              "\n",
              "  <script>\n",
              "    async function quickchart(key) {\n",
              "      const quickchartButtonEl =\n",
              "        document.querySelector('#' + key + ' button');\n",
              "      quickchartButtonEl.disabled = true;  // To prevent multiple clicks.\n",
              "      quickchartButtonEl.classList.add('colab-df-spinner');\n",
              "      try {\n",
              "        const charts = await google.colab.kernel.invokeFunction(\n",
              "            'suggestCharts', [key], {});\n",
              "      } catch (error) {\n",
              "        console.error('Error during call to suggestCharts:', error);\n",
              "      }\n",
              "      quickchartButtonEl.classList.remove('colab-df-spinner');\n",
              "      quickchartButtonEl.classList.add('colab-df-quickchart-complete');\n",
              "    }\n",
              "    (() => {\n",
              "      let quickchartButtonEl =\n",
              "        document.querySelector('#df-8546aa79-8468-42f2-bfd6-efa181bbfe90 button');\n",
              "      quickchartButtonEl.style.display =\n",
              "        google.colab.kernel.accessAllowed ? 'block' : 'none';\n",
              "    })();\n",
              "  </script>\n",
              "</div>\n",
              "    </div>\n",
              "  </div>\n"
            ],
            "application/vnd.google.colaboratory.intrinsic+json": {
              "type": "dataframe",
              "variable_name": "cl_rev"
            }
          },
          "metadata": {},
          "execution_count": 5
        }
      ]
    },
    {
      "cell_type": "code",
      "source": [
        "import numpy as np\n",
        "import pandas as pd\n",
        "from tensorflow.keras.preprocessing.text import Tokenizer\n",
        "from tensorflow.keras.preprocessing.sequence import pad_sequences\n",
        "from tensorflow.keras.models import Model\n",
        "from tensorflow.keras.layers import Input, Embedding, Bidirectional, GRU, Dense, Dropout, Concatenate\n",
        "from tensorflow.keras.callbacks import EarlyStopping\n",
        "from sklearn.model_selection import train_test_split\n",
        "from sklearn.utils.class_weight import compute_class_weight\n",
        "from sklearn.metrics import classification_report\n",
        "import tensorflow as tf\n",
        "from tensorflow import keras\n",
        "from keras.layers import GlobalMaxPooling1D\n",
        "from tensorflow.keras.metrics import Precision, Recall\n",
        "from sklearn.preprocessing import StandardScaler\n",
        "# Sample data\n",
        "texts = cl_rev.ner_text\n",
        "labels = cl_rev.is_spoiler\n",
        "movie_titles = cl_rev.title\n",
        "\n",
        "# Tokenization\n",
        "max_vocab_size = 20000\n",
        "max_sequence_length = 200\n",
        "max_title_length = 20\n",
        "\n",
        "tokenizer = Tokenizer(num_words=max_vocab_size)\n",
        "tokenizer.fit_on_texts(texts)\n",
        "sequences = tokenizer.texts_to_sequences(texts)\n",
        "word_index = tokenizer.word_index\n",
        "\n",
        "# Padding\n",
        "data = pad_sequences(sequences, maxlen=max_sequence_length)\n",
        "\n",
        "# Tokenize and pad movie title data\n",
        "title_tokenizer = Tokenizer(num_words=max_vocab_size)\n",
        "title_tokenizer.fit_on_texts(movie_titles)\n",
        "title_sequences = title_tokenizer.texts_to_sequences(movie_titles)\n",
        "title_data = pad_sequences(title_sequences, maxlen=max_title_length)\n",
        "\n",
        "# Define meta features\n",
        "meta_features = cl_rev[['review_length_words', 'review_length_chars',\n",
        "            'sentiment_polarity', 'sentiment_subjectivity', 'keyword_plot_twist',\n",
        "            'keyword_ending', 'keyword_finale', 'ner_count']].to_numpy()\n",
        "\n",
        "# Standardize the meta features in the datasets\n",
        "scaler = StandardScaler()\n",
        "scaler.fit_transform(meta_features)\n",
        "\n",
        "# Train-test split\n",
        "X_train, X_test, title_train, title_test, meta_train, meta_test, y_train, y_test = train_test_split(\n",
        "    data, title_data, meta_features, labels, test_size=0.2, random_state=42)\n",
        "\n",
        "# Prepare labels\n",
        "y_train = np.array(y_train).astype(int)\n",
        "y_test = np.array(y_test).astype(int)\n",
        "\n",
        "class_weights = compute_class_weight('balanced', classes=np.unique(y_train), y=y_train)\n",
        "class_weights_dict = {i : class_weights[i] for i in range(len(class_weights))}\n",
        "\n",
        "y_train = np.array(y_train).astype('float32')\n",
        "y_test = np.array(y_test).astype('float32')\n",
        "\n",
        "# Reshape labels\n",
        "y_train = y_train.reshape(-1, 1)\n",
        "y_test = y_test.reshape(-1, 1)"
      ],
      "metadata": {
        "id": "a7dkQ0wktjVW",
        "execution": {
          "iopub.status.busy": "2024-05-20T16:23:26.537506Z",
          "iopub.execute_input": "2024-05-20T16:23:26.538217Z",
          "iopub.status.idle": "2024-05-20T16:24:18.061148Z",
          "shell.execute_reply.started": "2024-05-20T16:23:26.538186Z",
          "shell.execute_reply": "2024-05-20T16:24:18.060290Z"
        },
        "trusted": true
      },
      "execution_count": null,
      "outputs": []
    },
    {
      "cell_type": "code",
      "source": [
        "print(\"Num GPUs Available: \", len(tf.config.list_physical_devices('GPU')))\n",
        "if tf.config.list_physical_devices('GPU'):\n",
        "    print(\"TensorFlow will run on GPU\")\n",
        "else:\n",
        "    print(\"TensorFlow will run on CPU\")"
      ],
      "metadata": {
        "colab": {
          "base_uri": "https://localhost:8080/"
        },
        "id": "9m8bqu_55OiK",
        "outputId": "8177f1e6-8abe-494a-8bca-740afaa628b3"
      },
      "execution_count": null,
      "outputs": [
        {
          "output_type": "stream",
          "name": "stdout",
          "text": [
            "Num GPUs Available:  1\n",
            "TensorFlow will run on GPU\n"
          ]
        }
      ]
    },
    {
      "cell_type": "code",
      "source": [
        "# Model definition\n",
        "embedding_dim = 300\n",
        "\n",
        "# Text input\n",
        "text_input = Input(shape=(max_sequence_length,), name='text_input')\n",
        "embedding_layer = Embedding(input_dim=max_vocab_size, output_dim=embedding_dim)(text_input)\n",
        "bi_gru = Bidirectional(GRU(128, return_sequences=True))(embedding_layer)\n",
        "dropout_1 = Dropout(0.4)(bi_gru)\n",
        "gru_output = GRU(64)(dropout_1)\n",
        "\n",
        "# Meta features input\n",
        "meta_input = Input(shape=(meta_features.shape[1],), name='meta_input')\n",
        "\n",
        "# Movie title input\n",
        "title_input = Input(shape=(max_title_length,), name='title_input')\n",
        "title_embedding_layer = Embedding(input_dim=max_vocab_size, output_dim=embedding_dim)(title_input)\n",
        "title_embedding = GlobalMaxPooling1D()(title_embedding_layer)\n",
        "\n",
        "# Concatenate text, title, and meta features\n",
        "concatenated = Concatenate()([gru_output, title_embedding, meta_input])\n",
        "\n",
        "# Fully connected layers\n",
        "dense_1 = Dense(64, activation='relu')(concatenated)\n",
        "dropout_2 = Dropout(0.3)(dense_1)\n",
        "dense_2 = Dense(64, activation='relu')(concatenated)\n",
        "output = Dense(1, activation='sigmoid')(dropout_2)\n",
        "\n",
        "# Define and compile the model\n",
        "gru_model = Model(inputs=[text_input, title_input, meta_input], outputs=output)\n",
        "\n",
        "# Compile the model\n",
        "gru_model.compile(optimizer=keras.optimizers.Adam(1e-4),\n",
        "              loss='binary_crossentropy',\n",
        "              metrics=[tf.keras.metrics.F1Score( average='macro', threshold=0.5), Recall(), Precision()])\n",
        "\n",
        "# Compute class weights\n",
        "class_weights = compute_class_weight('balanced', classes=np.unique(y_train), y=y_train.flatten())\n",
        "class_weights_dict = {i: class_weights[i] for i in range(len(class_weights))}\n",
        "\n",
        "# Implement early stopping\n",
        "early_stopping = EarlyStopping(monitor='val_loss', patience=4, restore_best_weights=True)\n",
        "\n",
        "# Train the model\n",
        "history = gru_model.fit(\n",
        "    {'text_input': X_train, 'title_input' : title_train, 'meta_input': meta_train},\n",
        "    y_train,\n",
        "    epochs=15,\n",
        "    batch_size=16,\n",
        "    validation_split=0.1,\n",
        "    class_weight=class_weights_dict,\n",
        "    callbacks=[early_stopping])\n",
        "\n",
        "# Evaluate model performance\n",
        "loss, f1, precision, recall = gru_model.evaluate({'text_input': X_test, 'title_input' : title_test, 'meta_input': meta_test}, y_test)\n",
        "print(f\"Test Loss: {loss}\")\n",
        "print(f\"Test F1-Score: {f1}, Test Precision: {precision}, Test Recall: {recall}\")\n",
        "\n",
        "# Make predictions\n",
        "predictions = gru_model.predict({'text_input': X_test,  'title_input' : title_test, 'meta_input': meta_test})\n",
        "binary_predictions = (predictions >= 0.5).astype(int)\n",
        "\n",
        "# Generate classification report\n",
        "class_report = classification_report(y_test, binary_predictions)\n",
        "print(\"\\nClassification Report:\")\n",
        "print(class_report)"
      ],
      "metadata": {
        "colab": {
          "base_uri": "https://localhost:8080/"
        },
        "id": "dBbemndKV92o",
        "execution": {
          "iopub.status.busy": "2024-05-20T16:27:09.086257Z",
          "iopub.execute_input": "2024-05-20T16:27:09.086628Z"
        },
        "trusted": true,
        "outputId": "1aecc433-bb5f-48bb-cd1c-8f57b1335edb"
      },
      "execution_count": null,
      "outputs": [
        {
          "output_type": "stream",
          "name": "stdout",
          "text": [
            "Epoch 1/15\n",
            "5275/5275 [==============================] - 185s 34ms/step - loss: 13.2989 - f1_score: 0.4000 - recall: 0.5112 - precision: 0.3286 - val_loss: 0.7099 - val_f1_score: 0.4757 - val_recall: 0.6363 - val_precision: 0.3798\n",
            "Epoch 2/15\n",
            "5275/5275 [==============================] - 128s 24ms/step - loss: 0.6770 - f1_score: 0.4623 - recall: 0.5815 - precision: 0.3837 - val_loss: 0.7033 - val_f1_score: 0.4942 - val_recall: 0.7496 - val_precision: 0.3686\n",
            "Epoch 3/15\n",
            "5275/5275 [==============================] - 129s 24ms/step - loss: 0.6739 - f1_score: 0.4748 - recall: 0.6219 - precision: 0.3840 - val_loss: 0.6780 - val_f1_score: 0.4742 - val_recall: 0.5944 - val_precision: 0.3944\n",
            "Epoch 4/15\n",
            "5275/5275 [==============================] - 127s 24ms/step - loss: 0.6725 - f1_score: 0.4772 - recall: 0.6267 - precision: 0.3853 - val_loss: 0.6581 - val_f1_score: 0.4680 - val_recall: 0.5535 - val_precision: 0.4054\n",
            "Epoch 5/15\n",
            "5275/5275 [==============================] - 129s 24ms/step - loss: 0.6674 - f1_score: 0.4888 - recall: 0.6397 - precision: 0.3954 - val_loss: 0.6272 - val_f1_score: 0.4447 - val_recall: 0.4742 - val_precision: 0.4187\n",
            "Epoch 6/15\n",
            "5275/5275 [==============================] - 122s 23ms/step - loss: 0.6554 - f1_score: 0.5077 - recall: 0.6722 - precision: 0.4079 - val_loss: 0.6410 - val_f1_score: 0.4778 - val_recall: 0.5591 - val_precision: 0.4172\n",
            "Epoch 7/15\n",
            "5275/5275 [==============================] - 121s 23ms/step - loss: 0.6197 - f1_score: 0.5469 - recall: 0.6762 - precision: 0.4590 - val_loss: 0.6642 - val_f1_score: 0.5268 - val_recall: 0.6751 - val_precision: 0.4319\n",
            "Epoch 8/15\n",
            "5275/5275 [==============================] - 119s 23ms/step - loss: 0.5785 - f1_score: 0.5926 - recall: 0.6995 - precision: 0.5140 - val_loss: 0.6166 - val_f1_score: 0.5083 - val_recall: 0.5487 - val_precision: 0.4735\n",
            "Epoch 9/15\n",
            "5275/5275 [==============================] - 120s 23ms/step - loss: 0.5401 - f1_score: 0.6311 - recall: 0.7335 - precision: 0.5538 - val_loss: 0.6204 - val_f1_score: 0.5046 - val_recall: 0.5216 - val_precision: 0.4886\n",
            "Epoch 10/15\n",
            "5275/5275 [==============================] - 119s 23ms/step - loss: 0.5048 - f1_score: 0.6661 - recall: 0.7440 - precision: 0.6029 - val_loss: 0.6679 - val_f1_score: 0.5034 - val_recall: 0.5570 - val_precision: 0.4592\n",
            "Epoch 11/15\n",
            "5275/5275 [==============================] - 120s 23ms/step - loss: 0.4661 - f1_score: 0.7000 - recall: 0.7682 - precision: 0.6429 - val_loss: 0.7464 - val_f1_score: 0.5122 - val_recall: 0.6325 - val_precision: 0.4304\n",
            "Epoch 12/15\n",
            "5275/5275 [==============================] - 121s 23ms/step - loss: 0.4301 - f1_score: 0.7309 - recall: 0.7941 - precision: 0.6771 - val_loss: 0.7175 - val_f1_score: 0.4817 - val_recall: 0.4905 - val_precision: 0.4733\n",
            "733/733 [==============================] - 8s 11ms/step - loss: 0.6188 - f1_score: 0.4995 - recall: 0.5395 - precision: 0.4650\n",
            "Test Loss: 0.6188293099403381\n",
            "Test F1-Score: 0.4994816184043884, Test Precision: 0.5394737124443054, Test Recall: 0.4650096595287323\n",
            "733/733 [==============================] - 8s 9ms/step\n",
            "\n",
            "Classification Report:\n",
            "              precision    recall  f1-score   support\n",
            "\n",
            "         0.0       0.78      0.73      0.75     16300\n",
            "         1.0       0.47      0.54      0.50      7144\n",
            "\n",
            "    accuracy                           0.67     23444\n",
            "   macro avg       0.62      0.63      0.63     23444\n",
            "weighted avg       0.69      0.67      0.68     23444\n",
            "\n"
          ]
        }
      ]
    },
    {
      "cell_type": "code",
      "source": [
        "gru_model.save(f'{path}/data/GRU_meta_features')"
      ],
      "metadata": {
        "trusted": true,
        "id": "4jj5VIvV33ZB"
      },
      "execution_count": null,
      "outputs": []
    },
    {
      "cell_type": "code",
      "source": [
        "from tensorflow.keras.models import load_model\n",
        "\n",
        "gru_model = load_model(f'{path}/data/GRU_meta_features')\n"
      ],
      "metadata": {
        "id": "S4ms_Vc-33ZB"
      },
      "execution_count": null,
      "outputs": []
    },
    {
      "cell_type": "markdown",
      "source": [
        "# Custom DistilBert"
      ],
      "metadata": {
        "id": "zPUosatpiZNF"
      }
    },
    {
      "cell_type": "code",
      "source": [
        "cl_rev = pd.read_csv(f'{path}/data/reduced_reviews_meta_features_NER.csv')"
      ],
      "metadata": {
        "execution": {
          "iopub.status.busy": "2024-05-20T15:36:30.110317Z",
          "iopub.execute_input": "2024-05-20T15:36:30.110670Z",
          "iopub.status.idle": "2024-05-20T15:36:37.766051Z",
          "shell.execute_reply.started": "2024-05-20T15:36:30.110642Z",
          "shell.execute_reply": "2024-05-20T15:36:37.765037Z"
        },
        "trusted": true,
        "id": "VNxJT1uF33ZB"
      },
      "execution_count": null,
      "outputs": []
    },
    {
      "cell_type": "code",
      "source": [
        "%%capture\n",
        "!pip uninstall accelerate -U\n",
        "!pip install --upgrade accelerate -U\n",
        "! pip install transformers"
      ],
      "metadata": {
        "id": "f77qGkwGQ00U"
      },
      "execution_count": null,
      "outputs": []
    },
    {
      "cell_type": "markdown",
      "source": [
        "Incorporate title into the review"
      ],
      "metadata": {
        "id": "opro41CsdBh8"
      }
    },
    {
      "cell_type": "code",
      "source": [
        "cl_rev['review'] = 'Movie title: ' + cl_rev[\"title\"] + '\\n' + cl_rev['clean_text']\n"
      ],
      "metadata": {
        "id": "Zl4EBsR4dA9h"
      },
      "execution_count": null,
      "outputs": []
    },
    {
      "cell_type": "code",
      "source": [
        "import torch\n",
        "from torch.utils.data import Dataset, random_split\n",
        "from transformers import DistilBertTokenizer, DistilBertModel, Trainer, TrainingArguments\n",
        "from transformers.modeling_outputs import SequenceClassifierOutput\n",
        "import torch.nn as nn\n",
        "from sklearn.metrics import f1_score, precision_recall_fscore_support\n",
        "from collections import Counter\n",
        "import random\n",
        "from sklearn.preprocessing import StandardScaler\n",
        "\n",
        "class SpoilerDataset(Dataset):\n",
        "    def __init__(self, reviews, labels, additional_features, tokenizer, review_max_length=512):\n",
        "        self.reviews = reviews\n",
        "        self.labels = labels\n",
        "        self.additional_features = additional_features\n",
        "        self.tokenizer = tokenizer\n",
        "        self.review_max_length = review_max_length\n",
        "\n",
        "    def __len__(self):\n",
        "        return len(self.labels)\n",
        "\n",
        "    def __getitem__(self, idx):\n",
        "        review = self.reviews[idx]\n",
        "\n",
        "        review_tokens = self.tokenizer(review, max_length=self.review_max_length, truncation=True, padding='max_length', return_tensors=\"pt\")\n",
        "\n",
        "        input_ids = review_tokens['input_ids'].squeeze(0)\n",
        "        attention_mask = review_tokens['attention_mask'].squeeze(0)\n",
        "\n",
        "        item = {\n",
        "            'input_ids': input_ids,\n",
        "            'attention_mask': attention_mask,\n",
        "            'additional_features': torch.tensor(self.additional_features[idx], dtype=torch.float32),\n",
        "            'labels': torch.tensor(self.labels[idx], dtype=torch.float32)\n",
        "        }\n",
        "        return item\n",
        "\n",
        "# Example usage\n",
        "tokenizer = DistilBertTokenizer.from_pretrained('distilbert-base-uncased')\n",
        "distilbert = DistilBertModel.from_pretrained('distilbert-base-uncased')\n",
        "\n",
        "\n",
        "\n",
        "# Assuming cl_rev is a DataFrame, ensure additional_features is a list of lists\n",
        "reviews = cl_rev.review.tolist()\n",
        "labels = cl_rev.is_spoiler.tolist()\n",
        "additional_features = cl_rev[['review_length_words', 'review_length_chars', 'sentiment_polarity',\n",
        "                              'sentiment_subjectivity', 'keyword_plot_twist', 'keyword_ending',\n",
        "                              'keyword_finale', 'ner_count']].values.tolist()\n",
        "\n",
        "# Create dataset\n",
        "dataset = SpoilerDataset(reviews, labels, additional_features, tokenizer, review_max_length=512)\n",
        "train_size = int(0.8 * len(dataset))\n",
        "val_size = len(dataset) - train_size\n",
        "generator1 = torch.Generator().manual_seed(42)\n",
        "train_dataset, validation = random_split(dataset, [train_size, val_size], generator=generator1)\n",
        "val_dataset, test_dataset = random_split(validation, [0.5,0.5], generator=generator1)\n",
        "\n",
        "# Extract additional features from the training dataset\n",
        "additional_features_train = [item['additional_features'] for item in train_dataset]\n",
        "# Fit the scaler\n",
        "scaler = StandardScaler()\n",
        "scaler.fit(additional_features_train)\n",
        "# Standardize additional features for training data\n",
        "for item in train_dataset:\n",
        "    item['additional_features'] = scaler.transform([item['additional_features']])[0]\n",
        "# Standardize additional features for validation data\n",
        "for item in val_dataset:\n",
        "    item['additional_features'] = scaler.transform([item['additional_features']])[0]\n",
        "# Standardize additional features for test data\n",
        "for item in test_dataset:\n",
        "    item['additional_features'] = scaler.transform([item['additional_features']])[0]\n",
        "\n",
        "device = torch.device('cuda') if torch.cuda.is_available() else torch.device('cpu')\n",
        "print(f'Running on device {device}')\n",
        "\n",
        "# Extract labels from the training dataset\n",
        "train_labels = [train_dataset[i]['labels'].item() for i in range(len(train_dataset))]\n",
        "\n",
        "# Compute class frequencies\n",
        "label_counts = Counter(train_labels)\n",
        "total_samples = len(train_labels)\n",
        "\n",
        "# Calculate class weights as the inverse of class frequencies\n",
        "class_weights = {label: total_samples / count for label, count in label_counts.items()}\n",
        "\n",
        "# Convert class weights to list\n",
        "class_weights_list = [class_weights[0], class_weights[1]]\n",
        "\n",
        "print(\"Class Weights:\", class_weights_list)"
      ],
      "metadata": {
        "id": "bgYtNup0c_Ok",
        "colab": {
          "base_uri": "https://localhost:8080/"
        },
        "outputId": "ba368590-4dc2-4d12-fe58-8d9ab4132200"
      },
      "execution_count": null,
      "outputs": [
        {
          "output_type": "stream",
          "name": "stdout",
          "text": [
            "Running on device cuda\n",
            "Class Weights: [1.4471880980307426, 3.236195472114854]\n"
          ]
        }
      ]
    },
    {
      "cell_type": "code",
      "source": [
        "import torch\n",
        "import torch.nn as nn\n",
        "from transformers import DistilBertModel, Trainer, TrainingArguments\n",
        "from sklearn.metrics import f1_score, precision_recall_fscore_support\n",
        "\n",
        "class SpoilerClassifier(nn.Module):\n",
        "    def __init__(self, distilbert_model, additional_feature_count, class_weights):\n",
        "        super(SpoilerClassifier, self).__init__()\n",
        "        self.distilbert = distilbert_model\n",
        "        self.dropout = nn.Dropout(0.1)\n",
        "        self.classifier = nn.Sequential(\n",
        "            nn.Linear(768 + additional_feature_count, 128),\n",
        "            nn.ReLU(),  # ReLU activation\n",
        "            nn.BatchNorm1d(128),  #  Batch Normalization\n",
        "            nn.Dropout(0.5),  #   dropout layer\n",
        "            )\n",
        "        self.output = nn.Linear(128, 1)\n",
        "        self.class_weights = class_weights\n",
        "\n",
        "    def forward(self, input_ids, attention_mask, additional_features=None, labels=None):\n",
        "        outputs = self.distilbert(input_ids=input_ids, attention_mask=attention_mask)\n",
        "        pooled_output = outputs.last_hidden_state[:, 0, :]  # Get the CLS token output\n",
        "\n",
        "        combined_features = torch.cat((pooled_output, additional_features), dim=1)\n",
        "\n",
        "        #combined_features = self.dropout(combined_features)\n",
        "        logits = self.classifier(combined_features)\n",
        "        logits_drop = self.dropout(logits)\n",
        "        out = self.output(logits_drop).squeeze(-1)\n",
        "\n",
        "        loss = None\n",
        "        if labels is not None:\n",
        "            class_weights = torch.tensor(self.class_weights, dtype=torch.float).to(input_ids.device)\n",
        "            loss_fct = nn.BCEWithLogitsLoss(pos_weight=class_weights[1])\n",
        "            loss = loss_fct(out, labels.float())\n",
        "\n",
        "        return SequenceClassifierOutput(\n",
        "            loss=loss,\n",
        "            logits=out\n",
        "        )\n",
        "\n",
        "class DataCollator:\n",
        "    def __call__(self, batch):\n",
        "        input_ids = torch.stack([item['input_ids'] for item in batch])\n",
        "        attention_mask = torch.stack([item['attention_mask'] for item in batch])\n",
        "        additional_features = torch.stack([item['additional_features'] for item in batch]) if 'additional_features' in batch[0] else None\n",
        "        labels = torch.stack([item['labels'] for item in batch])\n",
        "        return {\n",
        "            'input_ids': input_ids,\n",
        "            'attention_mask': attention_mask,\n",
        "            'additional_features': additional_features,\n",
        "            'labels': labels\n",
        "        }\n",
        "\n",
        "data_collator = DataCollator()\n",
        "training_args = TrainingArguments(\n",
        "    output_dir='./results',\n",
        "    num_train_epochs=5,\n",
        "    per_device_train_batch_size=16,\n",
        "    per_device_eval_batch_size=16,\n",
        "    weight_decay=0.01,\n",
        "    gradient_accumulation_steps=4\n",
        ")\n",
        "def compute_metrics(predictions_in):\n",
        "    labels = predictions_in.label_ids\n",
        "    logits = predictions_in.predictions\n",
        "    probs = torch.sigmoid(torch.tensor(logits)).numpy()\n",
        "    preds_binary = (probs > 0.5).astype(int)\n",
        "\n",
        "    macro_f1 = f1_score(y_true=labels, y_pred=preds_binary, average='macro')\n",
        "    precision, recall, _, _ = precision_recall_fscore_support(y_true=labels, y_pred=preds_binary, average='macro')\n",
        "\n",
        "    print(f'F1-score: {macro_f1}, Recall: {recall}')\n",
        "\n",
        "    return {'macro_f1': macro_f1, 'recall': recall}\n",
        "\n",
        "# Define the model\n",
        "distilbert = DistilBertModel.from_pretrained('distilbert-base-uncased')\n",
        "model = SpoilerClassifier(distilbert, 8, class_weights_list)\n",
        "device = torch.device(\"cuda\" if torch.cuda.is_available() else \"cpu\")\n",
        "model.to(device)\n",
        "\n",
        "trainer = Trainer(\n",
        "    model=model,\n",
        "    args=training_args,\n",
        "    train_dataset=train_dataset,\n",
        "    eval_dataset=val_dataset,\n",
        "    compute_metrics=compute_metrics,\n",
        "    data_collator=data_collator)\n",
        "\n",
        "# Train the model\n",
        "trainer.train()"
      ],
      "metadata": {
        "colab": {
          "base_uri": "https://localhost:8080/",
          "height": 550
        },
        "id": "9_5X_iZQrpOr",
        "outputId": "92992c2d-57e0-4349-8559-115a9eff7395"
      },
      "execution_count": null,
      "outputs": [
        {
          "output_type": "display_data",
          "data": {
            "text/plain": [
              "<IPython.core.display.HTML object>"
            ],
            "text/html": [
              "\n",
              "    <div>\n",
              "      \n",
              "      <progress value='7325' max='7325' style='width:300px; height:20px; vertical-align: middle;'></progress>\n",
              "      [7325/7325 2:16:33, Epoch 4/5]\n",
              "    </div>\n",
              "    <table border=\"1\" class=\"dataframe\">\n",
              "  <thead>\n",
              " <tr style=\"text-align: left;\">\n",
              "      <th>Step</th>\n",
              "      <th>Training Loss</th>\n",
              "    </tr>\n",
              "  </thead>\n",
              "  <tbody>\n",
              "    <tr>\n",
              "      <td>500</td>\n",
              "      <td>1.108300</td>\n",
              "    </tr>\n",
              "    <tr>\n",
              "      <td>1000</td>\n",
              "      <td>1.039800</td>\n",
              "    </tr>\n",
              "    <tr>\n",
              "      <td>1500</td>\n",
              "      <td>1.028300</td>\n",
              "    </tr>\n",
              "    <tr>\n",
              "      <td>2000</td>\n",
              "      <td>0.980100</td>\n",
              "    </tr>\n",
              "    <tr>\n",
              "      <td>2500</td>\n",
              "      <td>0.976400</td>\n",
              "    </tr>\n",
              "    <tr>\n",
              "      <td>3000</td>\n",
              "      <td>0.955700</td>\n",
              "    </tr>\n",
              "    <tr>\n",
              "      <td>3500</td>\n",
              "      <td>0.861900</td>\n",
              "    </tr>\n",
              "    <tr>\n",
              "      <td>4000</td>\n",
              "      <td>0.852400</td>\n",
              "    </tr>\n",
              "    <tr>\n",
              "      <td>4500</td>\n",
              "      <td>0.821900</td>\n",
              "    </tr>\n",
              "    <tr>\n",
              "      <td>5000</td>\n",
              "      <td>0.683100</td>\n",
              "    </tr>\n",
              "    <tr>\n",
              "      <td>5500</td>\n",
              "      <td>0.669500</td>\n",
              "    </tr>\n",
              "    <tr>\n",
              "      <td>6000</td>\n",
              "      <td>0.625700</td>\n",
              "    </tr>\n",
              "    <tr>\n",
              "      <td>6500</td>\n",
              "      <td>0.511700</td>\n",
              "    </tr>\n",
              "    <tr>\n",
              "      <td>7000</td>\n",
              "      <td>0.503000</td>\n",
              "    </tr>\n",
              "  </tbody>\n",
              "</table><p>"
            ]
          },
          "metadata": {}
        },
        {
          "output_type": "execute_result",
          "data": {
            "text/plain": [
              "TrainOutput(global_step=7325, training_loss=0.81546318809327, metrics={'train_runtime': 8194.4421, 'train_samples_per_second': 57.217, 'train_steps_per_second': 0.894, 'total_flos': 0.0, 'train_loss': 0.81546318809327, 'epoch': 4.999146903258829})"
            ]
          },
          "metadata": {},
          "execution_count": 86
        }
      ]
    },
    {
      "cell_type": "code",
      "source": [
        "torch.save(model, f'{path}/data/distilbert_w_features3')"
      ],
      "metadata": {
        "id": "ECn3eTwjJPHY"
      },
      "execution_count": null,
      "outputs": []
    },
    {
      "cell_type": "code",
      "source": [
        "model_trial = torch.load(f'{path}/data/distilbert_w_features3')"
      ],
      "metadata": {
        "id": "CA3K9zI7P4iC"
      },
      "execution_count": null,
      "outputs": []
    },
    {
      "cell_type": "code",
      "source": [
        "# Define the trainer for evaluation\n",
        "eval_trainer = Trainer(\n",
        "    model=model_trial,\n",
        "    data_collator=data_collator\n",
        ")\n",
        "\n",
        "# Make predictions on the test dataset\n",
        "predictions = eval_trainer.predict(val_dataset)\n",
        "logits = predictions.predictions\n",
        "\n",
        "# Convert logits to probabilities using sigmoid and then to binary values\n",
        "probs = torch.sigmoid(torch.tensor(logits)).numpy()\n",
        "preds_binary = (probs > 0.5).astype(int)\n",
        "\n",
        "# Compute and print metrics\n",
        "labels = predictions.label_ids\n",
        "\n",
        "# Compute classification report\n",
        "report = classification_report(labels, preds_binary)\n",
        "print(report)"
      ],
      "metadata": {
        "colab": {
          "base_uri": "https://localhost:8080/",
          "height": 178
        },
        "id": "j2L_q8tiGlX-",
        "outputId": "ea2afc51-0b0d-4f41-e871-a3235ebd560d"
      },
      "execution_count": null,
      "outputs": [
        {
          "output_type": "display_data",
          "data": {
            "text/plain": [
              "<IPython.core.display.HTML object>"
            ],
            "text/html": []
          },
          "metadata": {}
        },
        {
          "output_type": "stream",
          "name": "stdout",
          "text": [
            "              precision    recall  f1-score   support\n",
            "\n",
            "         0.0       0.80      0.72      0.76      8126\n",
            "         1.0       0.49      0.60      0.54      3596\n",
            "\n",
            "    accuracy                           0.68     11722\n",
            "   macro avg       0.64      0.66      0.65     11722\n",
            "weighted avg       0.71      0.68      0.69     11722\n",
            "\n"
          ]
        }
      ]
    },
    {
      "cell_type": "code",
      "source": [
        "\n",
        "# Define the trainer for evaluation\n",
        "eval_trainer = Trainer(\n",
        "    model=model_trial,\n",
        "    data_collator=data_collator\n",
        ")\n",
        "\n",
        "# Make predictions on the test dataset\n",
        "predictions = eval_trainer.predict(test_dataset)\n",
        "logits = predictions.predictions\n",
        "\n",
        "# Convert logits to probabilities using sigmoid and then to binary values\n",
        "probs = torch.sigmoid(torch.tensor(logits)).numpy()\n",
        "preds_binary = (probs > 0.5).astype(int)\n",
        "\n",
        "# Compute and print metrics\n",
        "labels = predictions.label_ids\n",
        "\n",
        "# Compute classification report\n",
        "report = classification_report(labels, preds_binary)\n",
        "print(report)\n"
      ],
      "metadata": {
        "colab": {
          "base_uri": "https://localhost:8080/",
          "height": 178
        },
        "id": "e3WQwRZ1sglT",
        "outputId": "87c60c83-0f8a-41ef-83a7-a007de5d6165"
      },
      "execution_count": null,
      "outputs": [
        {
          "output_type": "display_data",
          "data": {
            "text/plain": [
              "<IPython.core.display.HTML object>"
            ],
            "text/html": []
          },
          "metadata": {}
        },
        {
          "output_type": "stream",
          "name": "stdout",
          "text": [
            "              precision    recall  f1-score   support\n",
            "\n",
            "         0.0       0.80      0.73      0.76      8188\n",
            "         1.0       0.48      0.58      0.53      3534\n",
            "\n",
            "    accuracy                           0.68     11722\n",
            "   macro avg       0.64      0.65      0.64     11722\n",
            "weighted avg       0.70      0.68      0.69     11722\n",
            "\n"
          ]
        }
      ]
    },
    {
      "cell_type": "markdown",
      "source": [
        "# GPT-rephrased reviews prediction"
      ],
      "metadata": {
        "id": "Q_mYNMXHo5-D"
      }
    },
    {
      "cell_type": "code",
      "source": [
        "gpt_reviews = pd.read_csv(f'{path}/data/openai_reviews_backup.csv').reset_index(drop = True)\n",
        "gpt_reviews.head()"
      ],
      "metadata": {
        "colab": {
          "base_uri": "https://localhost:8080/",
          "height": 504
        },
        "id": "KLuH8pyCo5vO",
        "outputId": "0d14fed9-ce69-4eee-9b09-475ada061d5d"
      },
      "execution_count": null,
      "outputs": [
        {
          "output_type": "execute_result",
          "data": {
            "text/plain": [
              "    movie_id                                       plot_summary  \\\n",
              "0  tt0105112  Former CIA analyst, Jack Ryan is in England wi...   \n",
              "1  tt1204975  Billy (Michael Douglas), Paddy (Robert De Niro...   \n",
              "2  tt0243655  The setting is Camp Firewood, the year 1981. I...   \n",
              "3  tt0040897  Fred C. Dobbs and Bob Curtin, both down on the...   \n",
              "4  tt0126886  Tracy Flick is running unopposed for this year...   \n",
              "\n",
              "                               genre release_date  \\\n",
              "0             ['Action', 'Thriller']   1992-06-05   \n",
              "1                         ['Comedy']   2013-11-01   \n",
              "2              ['Comedy', 'Romance']   2002-04-11   \n",
              "3  ['Adventure', 'Drama', 'Western']   1948-01-24   \n",
              "4     ['Comedy', 'Drama', 'Romance']   1999-05-07   \n",
              "\n",
              "                                       plot_synopsis  \\\n",
              "0  Jack Ryan (Ford) is on a \"working vacation\" in...   \n",
              "1  Four boys around the age of 10 are friends in ...   \n",
              "2                                                NaN   \n",
              "3  Fred Dobbs (Humphrey Bogart) and Bob Curtin (T...   \n",
              "4  Jim McAllister (Matthew Broderick) is a much-a...   \n",
              "\n",
              "                          title      review_date     user_id  is_spoiler  \\\n",
              "0              Giochi di potere     5 March 2008  ur16517420        True   \n",
              "1                    Last Vegas      2 June 2014   ur5291991        True   \n",
              "2       Wet Hot American Summer     28 July 2015   ur3728510        True   \n",
              "3  Il tesoro della Sierra Madre     27 June 2004   ur1406078        True   \n",
              "4                      Election  16 January 2009   ur8239592        True   \n",
              "\n",
              "                                         review_text  \\\n",
              "0  The second Tom Clancy novel made into a film (...   \n",
              "1  Last Vegas is a comedy that features an ensemb...   \n",
              "2  \"Not ANOTHER 'Another Teen Movie,'\" is the acc...   \n",
              "3  John Huston's genius as a director is undeniab...   \n",
              "4  Popular, but frustrated high school civics tea...   \n",
              "\n",
              "                                    rephrased_review  \\\n",
              "0  In the second film adaptation of a Tom Clancy ...   \n",
              "1  \"Last Vegas\" is a comedy featuring a star-stud...   \n",
              "2  \"Wet Hot American Summer\" is a film that defie...   \n",
              "3  John Huston's talent as a director shines thro...   \n",
              "4  In this sharp and witty high school comedy, a ...   \n",
              "\n",
              "                                       masked_review  \\\n",
              "0  The second Tom Clancy novel made into a film (...   \n",
              "1  Last Vegas is a comedy that features an ensemb...   \n",
              "2  \"Not ANOTHER 'Another Teen Movie,'\" is the acc...   \n",
              "3  John Huston's genius as a director is undeniab...   \n",
              "4  Popular, but frustrated high school civics tea...   \n",
              "\n",
              "                                   non_masked_review  \n",
              "0  The second Tom Clancy novel made into a film (...  \n",
              "1  Last Vegas is a comedy that features an ensemb...  \n",
              "2  \"Not ANOTHER 'Another Teen Movie,'\" is the acc...  \n",
              "3  John Huston's genius as a director is undeniab...  \n",
              "4  Popular, but frustrated high school civics tea...  "
            ],
            "text/html": [
              "\n",
              "  <div id=\"df-9bce320f-eff4-4bd3-b797-daff60cae4a2\" class=\"colab-df-container\">\n",
              "    <div>\n",
              "<style scoped>\n",
              "    .dataframe tbody tr th:only-of-type {\n",
              "        vertical-align: middle;\n",
              "    }\n",
              "\n",
              "    .dataframe tbody tr th {\n",
              "        vertical-align: top;\n",
              "    }\n",
              "\n",
              "    .dataframe thead th {\n",
              "        text-align: right;\n",
              "    }\n",
              "</style>\n",
              "<table border=\"1\" class=\"dataframe\">\n",
              "  <thead>\n",
              "    <tr style=\"text-align: right;\">\n",
              "      <th></th>\n",
              "      <th>movie_id</th>\n",
              "      <th>plot_summary</th>\n",
              "      <th>genre</th>\n",
              "      <th>release_date</th>\n",
              "      <th>plot_synopsis</th>\n",
              "      <th>title</th>\n",
              "      <th>review_date</th>\n",
              "      <th>user_id</th>\n",
              "      <th>is_spoiler</th>\n",
              "      <th>review_text</th>\n",
              "      <th>rephrased_review</th>\n",
              "      <th>masked_review</th>\n",
              "      <th>non_masked_review</th>\n",
              "    </tr>\n",
              "  </thead>\n",
              "  <tbody>\n",
              "    <tr>\n",
              "      <th>0</th>\n",
              "      <td>tt0105112</td>\n",
              "      <td>Former CIA analyst, Jack Ryan is in England wi...</td>\n",
              "      <td>['Action', 'Thriller']</td>\n",
              "      <td>1992-06-05</td>\n",
              "      <td>Jack Ryan (Ford) is on a \"working vacation\" in...</td>\n",
              "      <td>Giochi di potere</td>\n",
              "      <td>5 March 2008</td>\n",
              "      <td>ur16517420</td>\n",
              "      <td>True</td>\n",
              "      <td>The second Tom Clancy novel made into a film (...</td>\n",
              "      <td>In the second film adaptation of a Tom Clancy ...</td>\n",
              "      <td>The second Tom Clancy novel made into a film (...</td>\n",
              "      <td>The second Tom Clancy novel made into a film (...</td>\n",
              "    </tr>\n",
              "    <tr>\n",
              "      <th>1</th>\n",
              "      <td>tt1204975</td>\n",
              "      <td>Billy (Michael Douglas), Paddy (Robert De Niro...</td>\n",
              "      <td>['Comedy']</td>\n",
              "      <td>2013-11-01</td>\n",
              "      <td>Four boys around the age of 10 are friends in ...</td>\n",
              "      <td>Last Vegas</td>\n",
              "      <td>2 June 2014</td>\n",
              "      <td>ur5291991</td>\n",
              "      <td>True</td>\n",
              "      <td>Last Vegas is a comedy that features an ensemb...</td>\n",
              "      <td>\"Last Vegas\" is a comedy featuring a star-stud...</td>\n",
              "      <td>Last Vegas is a comedy that features an ensemb...</td>\n",
              "      <td>Last Vegas is a comedy that features an ensemb...</td>\n",
              "    </tr>\n",
              "    <tr>\n",
              "      <th>2</th>\n",
              "      <td>tt0243655</td>\n",
              "      <td>The setting is Camp Firewood, the year 1981. I...</td>\n",
              "      <td>['Comedy', 'Romance']</td>\n",
              "      <td>2002-04-11</td>\n",
              "      <td>NaN</td>\n",
              "      <td>Wet Hot American Summer</td>\n",
              "      <td>28 July 2015</td>\n",
              "      <td>ur3728510</td>\n",
              "      <td>True</td>\n",
              "      <td>\"Not ANOTHER 'Another Teen Movie,'\" is the acc...</td>\n",
              "      <td>\"Wet Hot American Summer\" is a film that defie...</td>\n",
              "      <td>\"Not ANOTHER 'Another Teen Movie,'\" is the acc...</td>\n",
              "      <td>\"Not ANOTHER 'Another Teen Movie,'\" is the acc...</td>\n",
              "    </tr>\n",
              "    <tr>\n",
              "      <th>3</th>\n",
              "      <td>tt0040897</td>\n",
              "      <td>Fred C. Dobbs and Bob Curtin, both down on the...</td>\n",
              "      <td>['Adventure', 'Drama', 'Western']</td>\n",
              "      <td>1948-01-24</td>\n",
              "      <td>Fred Dobbs (Humphrey Bogart) and Bob Curtin (T...</td>\n",
              "      <td>Il tesoro della Sierra Madre</td>\n",
              "      <td>27 June 2004</td>\n",
              "      <td>ur1406078</td>\n",
              "      <td>True</td>\n",
              "      <td>John Huston's genius as a director is undeniab...</td>\n",
              "      <td>John Huston's talent as a director shines thro...</td>\n",
              "      <td>John Huston's genius as a director is undeniab...</td>\n",
              "      <td>John Huston's genius as a director is undeniab...</td>\n",
              "    </tr>\n",
              "    <tr>\n",
              "      <th>4</th>\n",
              "      <td>tt0126886</td>\n",
              "      <td>Tracy Flick is running unopposed for this year...</td>\n",
              "      <td>['Comedy', 'Drama', 'Romance']</td>\n",
              "      <td>1999-05-07</td>\n",
              "      <td>Jim McAllister (Matthew Broderick) is a much-a...</td>\n",
              "      <td>Election</td>\n",
              "      <td>16 January 2009</td>\n",
              "      <td>ur8239592</td>\n",
              "      <td>True</td>\n",
              "      <td>Popular, but frustrated high school civics tea...</td>\n",
              "      <td>In this sharp and witty high school comedy, a ...</td>\n",
              "      <td>Popular, but frustrated high school civics tea...</td>\n",
              "      <td>Popular, but frustrated high school civics tea...</td>\n",
              "    </tr>\n",
              "  </tbody>\n",
              "</table>\n",
              "</div>\n",
              "    <div class=\"colab-df-buttons\">\n",
              "\n",
              "  <div class=\"colab-df-container\">\n",
              "    <button class=\"colab-df-convert\" onclick=\"convertToInteractive('df-9bce320f-eff4-4bd3-b797-daff60cae4a2')\"\n",
              "            title=\"Convert this dataframe to an interactive table.\"\n",
              "            style=\"display:none;\">\n",
              "\n",
              "  <svg xmlns=\"http://www.w3.org/2000/svg\" height=\"24px\" viewBox=\"0 -960 960 960\">\n",
              "    <path d=\"M120-120v-720h720v720H120Zm60-500h600v-160H180v160Zm220 220h160v-160H400v160Zm0 220h160v-160H400v160ZM180-400h160v-160H180v160Zm440 0h160v-160H620v160ZM180-180h160v-160H180v160Zm440 0h160v-160H620v160Z\"/>\n",
              "  </svg>\n",
              "    </button>\n",
              "\n",
              "  <style>\n",
              "    .colab-df-container {\n",
              "      display:flex;\n",
              "      gap: 12px;\n",
              "    }\n",
              "\n",
              "    .colab-df-convert {\n",
              "      background-color: #E8F0FE;\n",
              "      border: none;\n",
              "      border-radius: 50%;\n",
              "      cursor: pointer;\n",
              "      display: none;\n",
              "      fill: #1967D2;\n",
              "      height: 32px;\n",
              "      padding: 0 0 0 0;\n",
              "      width: 32px;\n",
              "    }\n",
              "\n",
              "    .colab-df-convert:hover {\n",
              "      background-color: #E2EBFA;\n",
              "      box-shadow: 0px 1px 2px rgba(60, 64, 67, 0.3), 0px 1px 3px 1px rgba(60, 64, 67, 0.15);\n",
              "      fill: #174EA6;\n",
              "    }\n",
              "\n",
              "    .colab-df-buttons div {\n",
              "      margin-bottom: 4px;\n",
              "    }\n",
              "\n",
              "    [theme=dark] .colab-df-convert {\n",
              "      background-color: #3B4455;\n",
              "      fill: #D2E3FC;\n",
              "    }\n",
              "\n",
              "    [theme=dark] .colab-df-convert:hover {\n",
              "      background-color: #434B5C;\n",
              "      box-shadow: 0px 1px 3px 1px rgba(0, 0, 0, 0.15);\n",
              "      filter: drop-shadow(0px 1px 2px rgba(0, 0, 0, 0.3));\n",
              "      fill: #FFFFFF;\n",
              "    }\n",
              "  </style>\n",
              "\n",
              "    <script>\n",
              "      const buttonEl =\n",
              "        document.querySelector('#df-9bce320f-eff4-4bd3-b797-daff60cae4a2 button.colab-df-convert');\n",
              "      buttonEl.style.display =\n",
              "        google.colab.kernel.accessAllowed ? 'block' : 'none';\n",
              "\n",
              "      async function convertToInteractive(key) {\n",
              "        const element = document.querySelector('#df-9bce320f-eff4-4bd3-b797-daff60cae4a2');\n",
              "        const dataTable =\n",
              "          await google.colab.kernel.invokeFunction('convertToInteractive',\n",
              "                                                    [key], {});\n",
              "        if (!dataTable) return;\n",
              "\n",
              "        const docLinkHtml = 'Like what you see? Visit the ' +\n",
              "          '<a target=\"_blank\" href=https://colab.research.google.com/notebooks/data_table.ipynb>data table notebook</a>'\n",
              "          + ' to learn more about interactive tables.';\n",
              "        element.innerHTML = '';\n",
              "        dataTable['output_type'] = 'display_data';\n",
              "        await google.colab.output.renderOutput(dataTable, element);\n",
              "        const docLink = document.createElement('div');\n",
              "        docLink.innerHTML = docLinkHtml;\n",
              "        element.appendChild(docLink);\n",
              "      }\n",
              "    </script>\n",
              "  </div>\n",
              "\n",
              "\n",
              "<div id=\"df-9c16f576-ea2f-4129-a654-c00d5e3d50d9\">\n",
              "  <button class=\"colab-df-quickchart\" onclick=\"quickchart('df-9c16f576-ea2f-4129-a654-c00d5e3d50d9')\"\n",
              "            title=\"Suggest charts\"\n",
              "            style=\"display:none;\">\n",
              "\n",
              "<svg xmlns=\"http://www.w3.org/2000/svg\" height=\"24px\"viewBox=\"0 0 24 24\"\n",
              "     width=\"24px\">\n",
              "    <g>\n",
              "        <path d=\"M19 3H5c-1.1 0-2 .9-2 2v14c0 1.1.9 2 2 2h14c1.1 0 2-.9 2-2V5c0-1.1-.9-2-2-2zM9 17H7v-7h2v7zm4 0h-2V7h2v10zm4 0h-2v-4h2v4z\"/>\n",
              "    </g>\n",
              "</svg>\n",
              "  </button>\n",
              "\n",
              "<style>\n",
              "  .colab-df-quickchart {\n",
              "      --bg-color: #E8F0FE;\n",
              "      --fill-color: #1967D2;\n",
              "      --hover-bg-color: #E2EBFA;\n",
              "      --hover-fill-color: #174EA6;\n",
              "      --disabled-fill-color: #AAA;\n",
              "      --disabled-bg-color: #DDD;\n",
              "  }\n",
              "\n",
              "  [theme=dark] .colab-df-quickchart {\n",
              "      --bg-color: #3B4455;\n",
              "      --fill-color: #D2E3FC;\n",
              "      --hover-bg-color: #434B5C;\n",
              "      --hover-fill-color: #FFFFFF;\n",
              "      --disabled-bg-color: #3B4455;\n",
              "      --disabled-fill-color: #666;\n",
              "  }\n",
              "\n",
              "  .colab-df-quickchart {\n",
              "    background-color: var(--bg-color);\n",
              "    border: none;\n",
              "    border-radius: 50%;\n",
              "    cursor: pointer;\n",
              "    display: none;\n",
              "    fill: var(--fill-color);\n",
              "    height: 32px;\n",
              "    padding: 0;\n",
              "    width: 32px;\n",
              "  }\n",
              "\n",
              "  .colab-df-quickchart:hover {\n",
              "    background-color: var(--hover-bg-color);\n",
              "    box-shadow: 0 1px 2px rgba(60, 64, 67, 0.3), 0 1px 3px 1px rgba(60, 64, 67, 0.15);\n",
              "    fill: var(--button-hover-fill-color);\n",
              "  }\n",
              "\n",
              "  .colab-df-quickchart-complete:disabled,\n",
              "  .colab-df-quickchart-complete:disabled:hover {\n",
              "    background-color: var(--disabled-bg-color);\n",
              "    fill: var(--disabled-fill-color);\n",
              "    box-shadow: none;\n",
              "  }\n",
              "\n",
              "  .colab-df-spinner {\n",
              "    border: 2px solid var(--fill-color);\n",
              "    border-color: transparent;\n",
              "    border-bottom-color: var(--fill-color);\n",
              "    animation:\n",
              "      spin 1s steps(1) infinite;\n",
              "  }\n",
              "\n",
              "  @keyframes spin {\n",
              "    0% {\n",
              "      border-color: transparent;\n",
              "      border-bottom-color: var(--fill-color);\n",
              "      border-left-color: var(--fill-color);\n",
              "    }\n",
              "    20% {\n",
              "      border-color: transparent;\n",
              "      border-left-color: var(--fill-color);\n",
              "      border-top-color: var(--fill-color);\n",
              "    }\n",
              "    30% {\n",
              "      border-color: transparent;\n",
              "      border-left-color: var(--fill-color);\n",
              "      border-top-color: var(--fill-color);\n",
              "      border-right-color: var(--fill-color);\n",
              "    }\n",
              "    40% {\n",
              "      border-color: transparent;\n",
              "      border-right-color: var(--fill-color);\n",
              "      border-top-color: var(--fill-color);\n",
              "    }\n",
              "    60% {\n",
              "      border-color: transparent;\n",
              "      border-right-color: var(--fill-color);\n",
              "    }\n",
              "    80% {\n",
              "      border-color: transparent;\n",
              "      border-right-color: var(--fill-color);\n",
              "      border-bottom-color: var(--fill-color);\n",
              "    }\n",
              "    90% {\n",
              "      border-color: transparent;\n",
              "      border-bottom-color: var(--fill-color);\n",
              "    }\n",
              "  }\n",
              "</style>\n",
              "\n",
              "  <script>\n",
              "    async function quickchart(key) {\n",
              "      const quickchartButtonEl =\n",
              "        document.querySelector('#' + key + ' button');\n",
              "      quickchartButtonEl.disabled = true;  // To prevent multiple clicks.\n",
              "      quickchartButtonEl.classList.add('colab-df-spinner');\n",
              "      try {\n",
              "        const charts = await google.colab.kernel.invokeFunction(\n",
              "            'suggestCharts', [key], {});\n",
              "      } catch (error) {\n",
              "        console.error('Error during call to suggestCharts:', error);\n",
              "      }\n",
              "      quickchartButtonEl.classList.remove('colab-df-spinner');\n",
              "      quickchartButtonEl.classList.add('colab-df-quickchart-complete');\n",
              "    }\n",
              "    (() => {\n",
              "      let quickchartButtonEl =\n",
              "        document.querySelector('#df-9c16f576-ea2f-4129-a654-c00d5e3d50d9 button');\n",
              "      quickchartButtonEl.style.display =\n",
              "        google.colab.kernel.accessAllowed ? 'block' : 'none';\n",
              "    })();\n",
              "  </script>\n",
              "</div>\n",
              "    </div>\n",
              "  </div>\n"
            ],
            "application/vnd.google.colaboratory.intrinsic+json": {
              "type": "dataframe",
              "variable_name": "gpt_reviews",
              "summary": "{\n  \"name\": \"gpt_reviews\",\n  \"rows\": 237,\n  \"fields\": [\n    {\n      \"column\": \"movie_id\",\n      \"properties\": {\n        \"dtype\": \"string\",\n        \"num_unique_values\": 237,\n        \"samples\": [\n          \"tt0478304\",\n          \"tt1951264\",\n          \"tt0457430\"\n        ],\n        \"semantic_type\": \"\",\n        \"description\": \"\"\n      }\n    },\n    {\n      \"column\": \"plot_summary\",\n      \"properties\": {\n        \"dtype\": \"string\",\n        \"num_unique_values\": 237,\n        \"samples\": [\n          \"The impressionistic story of a Texas family in the 1950s. The film follows the life journey of the eldest son, Jack, through the innocence of childhood to his disillusioned adult years as he tries to reconcile a complicated relationship with his father (Brad Pitt). Jack (played as an adult by Sean Penn) finds himself a lost soul in the modern world, seeking answers to the origins and meaning of life while questioning the existence of faith.                Written by\\nalfiehitchie\",\n          \"Twelve months after winning the 74th Hunger Games, Katniss Everdeen and her partner Peeta Mellark must go on what is known as the Victor's Tour, wherein they visit all the districts, but before leaving, Katniss is visited by President Snow who fears that Katniss defied him a year ago during the games when she chose to die with Peeta. With both Katniss and Peeta declared the winners, it is fueling a possible uprising. He tells Katniss that while on tour she better try to make sure that she puts out the flames or else everyone she cares about will be in danger.                Written by\\nrcs0411@yahoo.com\",\n          \"In 1944 falangist Spain, a girl, fascinated with fairy-tales, is sent along with her pregnant mother to live with her new stepfather, a ruthless captain of the Spanish army. During the night, she meets a fairy who takes her to an old faun in the center of the labyrinth. He tells her she's a princess, but must prove her royalty by surviving three gruesome tasks. If she fails, she will never prove herself to be the the true princess and will never see her real father, the king, again.                Written by\\nTim\"\n        ],\n        \"semantic_type\": \"\",\n        \"description\": \"\"\n      }\n    },\n    {\n      \"column\": \"genre\",\n      \"properties\": {\n        \"dtype\": \"string\",\n        \"num_unique_values\": 237,\n        \"samples\": [\n          \"['Drama', 'Fantasy']\",\n          \"['Action', 'Adventure', 'Mystery']\",\n          \"['Drama', 'Fantasy', 'War']\"\n        ],\n        \"semantic_type\": \"\",\n        \"description\": \"\"\n      }\n    },\n    {\n      \"column\": \"release_date\",\n      \"properties\": {\n        \"dtype\": \"string\",\n        \"num_unique_values\": 224,\n        \"samples\": [\n          \"1994-10-14\",\n          \"2000-09-29\",\n          \"1993-10-08\"\n        ],\n        \"semantic_type\": \"\",\n        \"description\": \"\"\n      }\n    },\n    {\n      \"column\": \"plot_synopsis\",\n      \"properties\": {\n        \"dtype\": \"string\",\n        \"num_unique_values\": 198,\n        \"samples\": [\n          \"An idealistic reporter, Ward Jansen (McConaughey) and his younger brother, Jack Jansen (Efron) investigate the events surrounding a murder to exonerate a man on death row, Hillary Van Wetter (Cusack). Wetter has been jailed for the alleged murder of an unscrupulous local sheriff, Thurmond Call. Call had previously stomped Wetter's handcuffed cousin to death. Wetter is now on death row and awaiting execution. The Jensen brothers are helped by Ward's colleague, the ambitious black British man Yardley Acheman (Oyelowo) and the seductive Charlotte Bless (Kidman), a woman Wetter has never met but who has fallen in love with him and is determined that he should be released and that they should marry. In prison Wetter receives correspondence from her consistently.Charlotte tries to prove Wetter's innocence by requesting the help of Ward and Yardley, who are both investigative reporters from the Miami Times and are hungry for a salacious story. Ward returns to his hometown to investigate the case but has mixed feelings about returning home to his estranged father (Glenn),and his new girlfriend, Ellen (Gordon) who distribute the Miami Times in their town. Both the Jansen brothers dislike their father's new girlfriend. Jack is the paperboy after having been expelled from college for vandalism. His only real friend is his black maid, Anita (Gray) who narrates the story.The evidence against Wetter is inconsistent and the writers are confident that if they can expose Wetter as a victim of redneck justice then their story will benefit them greatly. Meanwhile, Jack has fallen in love with Charlotte who only desires Wetter. Anita realizes that Jack can never stop thinking of Charlotte as she is his first love. One day, with some information from Wetter, the Jansen brothers travel to the swamp to meet Wetter's uncle (Bellamy) who has evidence that he did not commit the crime.Ward is soon revealed to be a closeted homosexual when he approaches a pair of sadistic gay men who rape and torture him. During Ward's time in the hospital, Yardley prints the news article despite not getting all the facts right. Jack tries to convince Yardley to stop, but instead discovers that Yardley is actually American, but had to pretend to be British because local black men could not be successful unless they lied about their backgrounds. Yardley had also given Ward sexual favors in return for position in the paper.Wetter is eventually released from prison and takes Charlotte away to the swamp to live with him. She is unhappy and sends a letter to Jack telling how much she hates her new life. During their father's wedding, a recently recovered Ward and Jack go to save Charlotte. However, the escape plan is flawed and Charlotte and Ward are killed by Wetter, who is then arrested for their murder and executed on the electric chair as planned originally. Towards the end of the story, Anita reveals that Jack never forgot his first love.\",\n          \"Dewey Finn (Jack Black) is a depressed rock musician that was kicked out of his own band. Dewey is sharing an apartment with an old band member, Ned Schneebly (Mike White), who is now a substitute teacher. Dewey is 4 months behind in his share of the rent, and Ned is about to kick him out. Needing money and a job, Dewey answers a phone call for Ned, and then he pretends to be Ned Schneebly. Dewey accepts a job as a 5th grade substitute teacher at a snobbish private school. Dewey forms a rock band with the kids in his class in an effort to win the $10,000 prize money offered by a local band contest. He must do this in secret so that the school principal (Joan Cusack) and the kid's parents know nothing of his plan. If Dewey can win the battle of the bands competition, it will solve his financial problems, and put him back in rock. Douglas Young (the-movie-guy)\",\n          \"BASED ON A TRUE STORY.We hear Alan Turing saying, \\\"Are you paying attention? Good. If you're not listening carefully, you will miss things. Important things. I will not pause, I will not repeat myself, and you will not interrupt me. You think that because you're sitting where you are and I am sitting where I am, that you are in control of what is about to happen. You are mistaken. I am in control. Because I know things that you do not know. What I need from you now is a commitment. You will listen closely and you will not judge me until I am finished. If you cannot commit to this, then please leave the room. But if you choose to stay, remember that you chose to be here. What happens from this moment forward is not my responsibility. It's yours. Pay attention.\\\"It is 1951, in Manchester, England. Secret Intelligence Service (MI6) Headquarters intercepts a message that Alan Turing has been robbed at his place. Alan, now known as a professor at Cambridge, is visited by the police inquiring about his burglary. They find him in his home but he is dismissive towards them. They mention that he is an insufferable person and are suspicious that he is hiding something.In a flashback to September 1939 in London, War has been declared with 800,000 people being evacuated from their homes. On the train, a 27-year-old Alan Turing (Benedict Cumberbatch) admires a kid doing crossword puzzles. He arrives at Bletchley Park, guarded by Royal Naval officers. He waits in the office of Commander Denniston (Charles Dance). When the Commander arrives, Alan is cold and seems to lack humour. The Commander asks why Alan wants to work for the government; he replies he doesn't. He mentions that he's not very political and the Commander says it may be the shortest job interview ever. Alan mentions he doesn't speak German but tells the Commander that he's one of the best mathematicians in the world. He considers German codes to be like puzzles, which he enjoys solving. The Commander calls for Alan to be removed by his secretary so Alan mentions Enigma, revealing he knows about the top secret program he's being considered for. Alan explains that Enigma is the greatest encryption device in history and if the Allies can crack the code, it will end the war. The Commander says everyone thinks Enigma is unbreakable. Alan says to let him try and they'll know for sure.Alan is welcomed to Enigma alongside five others including Peter Hilton (Matthew Beard), John Cairncross (Allen Leech), Hugh Alexander (Matthew Goode), Keith Furman (Ilan Goodman) and Charles Richards (Jack Tarlton). They have got their hands on an actual Enigma machine smuggled out of Berlin but they don't know the machine's settings to decode messages. Every night at midnight, the Germans refresh the settings; because they intercept their first message every morning at 6 A.M., the code breakers only have 18 hours a day to crack the code before it changes and they must start from scratch. Hugh, a chess champion, is able to calculate that this means there are 159 million million million possibilities every day. Alan is reluctant to work as a team; Stewart Menzies (Mark Strong) , the Chief of MI6, tells them that four men have died in the last few minutes because the code remains uncracked and orders them to begin.Alan tells us that all the messages are floating in the air for anyone to grab; the problem is that they are encrypted and there 159,000,000,000,000,000,000 possibilities. It will take 20 million years to try everything.The team wants to take a lunch break but when they invite Alan, he is cold and off-putting. They go on without him. Alan continues his work alone, on blueprints of a machine.In 1951, Robert Nock (Rory Kinnear), the detective from before, finds out that Alan's records are classified. He doesn't know why a math professor would have classified records and becomes suspicious. He uses a typewriter to falsify a document, allowing him to secure Alan's service records.Back in 1939, Alan complains to Commander Denniston that Hugh Alexander has denied funding for the parts he needs to build a machine. The commander tells him the other code breakers do not get along with him and he should take up the complaint with someone else. Alan suggests firing them all and using the funds for his machine. He says he only needs 100,000 pounds, only a machine can defeat another machine. Alan asks who the Commander's commanding officer is; he is told Winston Churchill. Alan gets a letter to the Prime Minister via Stewart Menzies. Churchill puts Alan in charge, overriding Hugh's authority. Alan immediately fires two of his teammates, Keith and Charles, calling them mediocre linguists and poor code breakers. He is asked if he was popular at school.Flashback to the young Alan (Alex Lawther): as a schoolboy he was picked on for having a form of OCD, keeping the carrots and peas separate during lunch. His classmates pour food on him; bury him under the floorboards. He tells us: \\\"Do you know why people like violence? It is because it feels good. Humans find violence deeply satisfying. But remove the satisfaction and the act becomes hollow.\\\" When Alan is able to remain calm under the floorboards, the other kids leave him alone. He is rescued by a fellow student named Christopher Morcom (Jack Bannon). Christopher says they beat Alan up because he's different. Alan says he's an odd duck. Christopher tells him, \\\"Sometimes its the very people who no one imagines anything of who do the things no one can imagine.\\\"Now short on staff, they decide to find new members of the team by placing a difficult crossword puzzle into newspapers to be mailed in upon completion; anyone who can solve it is a good candidate. The war rages on, with many hiding out in bomb shelters. The handful that managed to solve the puzzle are gathered together to take a test. One young woman, Joan Clarke (Keira Knightley), shows up late because she claims that her bus had a flat tire. They think she is in the wrong room. She tells them that she has solved the crossword puzzle and everyone is skeptical. Alan tells her to take a seat. He has the room solve a very difficult puzzle in six minutes although it will take an expert like Alan eight minutes. Surprising them, Joan solves it in five.Joan and one other man are kept afterwards and told that they are not allowed to share what they are about to be told or they'll be executed for high treason. They are ordered to lie to everyone they know about what they are going to be doing. Joan asks what he is referring to. She is told she will be helping to break an unbreakable Nazi code and win the war.Back in school: the young Alan bonds with Christopher, who shares with him a book on code and ciphers. The awkward Alan compares cryptic messages with how people talk they say one thing, have hidden intentions beneath their words, and he doesn't know how to decipher them.It is now several months later in 1940, Bletchley Park. The supercomputer is being hooked up in a secret hut. Alan is concerned when Joan does not show up. He goes to her home and tries to convince her parents that she's very necessary at the radio factory that wants to employ her. Joan comes home and talks to Alan in private, although her parents are listening in. Joan explains that it is indecorous for her to be working and living among men (according to her parents); Alan loudly suggests she work in the clerical department with women (although she won't really be doing this). Apparently, this is convincing enough, because Joan packs up and leaves with Alan. She wonders why he is so fixated on helping her; he responds that \\\"Sometimes its the very people who no one imagines anything of who do the things no one can imagine.\\\"In 1951, Detective Nock shares with Superintendent Smith (Steven Waddington) that Alan's classified military file is empty. His war records aren't classified; someone has burned and erased them. They suspect he is a Soviet spy.In 1940, Joan arrives at Bletchley Park under the guise of a clerical worker. In narration, Alan tells us that the British were literally starving to death; every week; Americans would send 100,000 tons of food to them and every week, the Germans would send it to the bottom of the ocean. Every night at midnight, a bell sounds, telling them their day's work has been wasted (since the code is reset at midnight). Frustrated, Hugh visits Alan, tinkering with his machine (referred to as Christopher throughout the film, named after Alan's childhood friend). A frustrated Hugh grabs a wrench to destroy the machine, but the others hold him back. Hugh tells him that the machine is useless and there are legitimate ways to help in the war. One of the others, Peter, explains that his brother and cousins are actually fighting in the war while they have nothing to show for all of their work because of the machine. Alan is adamant the machine will work.Later, Alan is in the hut alone. He removes a stack of Enigma messages and stashes them in his socks. They manage to go undetected by the guards at checkpoint. He sneaks over to Joan's home and climbs through her window. He reveals the decrypted Enigma messages, delivered from Nazi high command they read one with the weather report, ending in \\\"Heil Hitler\\\". Joan and Alan talk about Christopher and the concept of a digital computer.The next day, Alan enters the hut to find military police rifling through his desk while the other code breakers watch. Commander Denniston explains that there is a spy in Bletchley Park and they suspect it's one of them. The Commander shows Alan a telegram that was intercepted on its way to Moscow, which is encrypted with a key phrase. They suspect Alan because he's arrogant, has no friends or romantic attachments, and he is a loner. Commander Denniston says he will no longer have to fire him - he can hang him for treason if he's caught.Joan greets Alan, working on Christopher, and tries to cheer him up by taking him to a beer hut. Hugh, John, and Peter enter the hut and Joan is friendly towards them. She tells Alan in private that she's a woman in a man's job and doesn't have the luxury of being an ass. She says it doesn't matter how smart he is; Enigma is smarter and Alan needs all the help he can get. But his team will not help him if they don't like him. The next time he sees them, he brings apples since Joan has suggested he give them something. He then tries to tell a joke.In a flashback to his schooling, Christopher is caught passing a note to Alan. The teacher mocks them for the note being in gibberish (he doesn't know it is encrypted). Alan retrieves it from the garbage and breaks the code later \\\"See you in two long weeks, dearest friend.\\\" The school is going on holiday.In 1941, at Bletchley Park, Joan and Alan are bonding over codes. Hugh Alexander approaches, telling Alan that if they run the wires on Christopher diagonally, they'll eliminate rotor positions 500 times faster. Alan is able to utilize this idea. The machine is turned on; it is the very first digital computer. And it works. They wait to see if it can tell the day's Enigma settings.We see footage of the war. In Denniston's office, he is told that the machine is not producing any results. He surprises Alan at the hut, who barricades the door, trying to keep him out. They force the door open and turn it off. Commander Denniston tells him his machine doesn't work because it hasn't broken Enigma. Denniston's associate from the home office is upset about spending a hundred thousand pounds with nothing to show for it. Alan tries to defend his machine but he has not decrypted a single German message; the Commander fires him. But he is stopped short by Hugh, John, and Peter who say that if he fires Alan, they will have to be fired, too, because they believe his machine can work. Hugh reminds the Commander that they're the best cryptographic minds in Britain and asks to be granted six more moths. Commander Denniston tells them one more month or they're all gone.At the beer hut, Hugh tells Alan that he cracked the encrypted message \\\"Ask and it shall be given you; seek and ye shall find. Matthew 7:7.\\\" He knows that Alan is not the spy because he would not have used a simple Bible quote for his code.In 1951, Detective Nock and Superintendent Smith are told by a sergeant that he has found out that Alan is a \\\"poofter\\\" (British slang for homosexual). He has been caught with a male hustler, who later robbed his house. That was the piece of information that he was hiding from the police, not that he's a spy. The detective is sure Alan is hiding something else so he asks for him to be arrested so he can interrogate him.In 1941, Joan comes home to find Alan there, using her flat to try to solve mathematical equations so Christopher can run through more settings per 18-hour block. She interrupts Alan to tell him that she has to return home; her parents are unhappy with her being 25 years old and unmarried. He suggests she get married. She suspects he is suggesting Hugh or Peter but of course, he means himself. He proposes with a piece of electrical wire, rolled into a ring.An engagement party is thrown at the beer hut. While Joan dances with Hugh, John Cairncross talks to a sullen Alan who admits he is a homosexual. John is sympathetic and tells Alan that he already suspected that for some time. John suggests that Alan keep it a secret because homosexuality is illegal and, on top of that, Denniston is looking for any excuse to put Alan away.Back at school, everyone returns from holiday. A young Alan encrypts the message I LOVE YOU and prepares to give it to Christopher but he never shows up.In 1951, Alan is interrogated by Detective Nock. The detective asks if machines can think. Alan notes that he must have read his published work since he was called in on charges of hiring a man to touch his penis, not on computers. Alan says \\\"machines can never think as humans do, but just because something thinks differently from you, does it mean it's not thinking?\\\" He tells the detective, \\\"We allow for humans to have such divergences from one another. You like strawberries. I hate ice-skating. You cry at sad films. I am allergic to pollen. What does is the point of different tastes, different preferences if not to say that our brains works differently, that we think differently? And if we can say that about one another, then why can't we say the same things for brains made of copper and wire and steel?\\\" The detective asks him about the paper he wrote, The Imitation Game. Alan tells him it is a test to determine whether something is a machine or a human being. The detective asks him what he did during the war and Alan tells him he worked at a radio factory. Detective Nock knows this isn't true.In 1942, Alan and his team wait for Christopher to crack the code but then the midnight buzzer sounds. The machine will never be able to process so many possibilities in an 18-hour time.At the beer hut, Joan's friend, Helen (Tuppence Middleton), is admiring Hugh. Hugh finally approaches her, with Alan by his side. To charm Helen, Hugh tells her that Alan believes men and women should not work together because it will lead to romance although Hugh personally believes that women are smart and should be considered equals. Helen says she agrees with Alan because she has a male co-worker that she has garnered a crush on; upon further inquiry, she reveals she intercepts messages from a German radio tower and she has been assigned one counterpart. She says she has grown fond of him but unfortunately, he has a girlfriend. Hugh steals Helen and they go off to the bar. Alan is lost in thought and then calls out to Helen. He asks her why she thinks he has a girlfriend. Helen says because every message begins with C-I-L-L-Y, which she assumes is the name of his love. Alan tells her the Germans are instructed to choose five letters at random to start each message but because he is in love, he uses the same five letters every time. Alan remarks that love just lost the Germans the whole bloody war.Everyone chases Alan as he rushes across Bletchley Park, past guards and security checkpoints. They get into their hut and Alan pours out previously decrypted messages. He points out that Christopher doesn't have to search through every possible settings; the computer can search for ones that produce words he knows will be in the message. They realize the entire 6 A.M. weather reports end in \\\"Heil Hitler\\\". They can have Christopher search for the words weather, heil, and Hitler to crack the code. They test it on a 6 A.M. message. Christopher comes to a stop. They take the letters it produces and run back to the Enigma machine, typing in the same letters. They are able to decode a message. They've cracked the code!The team works throughout the night. They have decoded messages and translated decrypts, now able to produce a map that represents all of their ships versus the Axis ships. John tells them there are five people in the world who know the position of every ship in the Atlantic. They are all in this room. Joan realizes that they're going to attack a British passenger convoy as they are positioned 20 minutes away. Hugh tries to call Denniston to warn him but Alan stops him, ripping the phone out of the wall. Everyone argues. Alan tells them they have to let the U-Boats sink the convoy or else it will give the Germans a heads up, that they have cracked Enigma. They will stop radio communication and change the design of Enigma immediately. In order to keep their work secret and win the war, they have to allow the lives of hundreds of innocent people to be lost. Peter breaks down, realizing that his brother is on one of the convoys. He demands that they alert Denniston of just that one ship but Alan simply apologizes. Peter tells him they don't decide who lives or who dies; Alan says they do, because no one else can.Alan and Joan ride the train into London. They meet with Stewart Menzies in a teashop. They reveal that they have broken Enigma but ask for Stewart's help in determining how much intelligence to act on, which attacks to stop. He can come up with believable sources of information so the Germans don't suspect Enigma has been cracked.Peter harbours animosity towards Alan for letting his brother be killed despite knowing it in advance. He knocks his books over and while retrieving them on the ground, Alan spots John Cairncross' Bible. He opens it and realizes that it is earmarked to Matthew 7:7. John notices Alan making this discovery, now aware that John is the Soviet spy. In private, John tells Alan that the Soviets and Britain are on the same side; he then threatens Alan that if he tells his secret, he'll reveal that Alan is a homosexual and his work will be destroyed.Alan tries to call Menzies but knows his calls are being intercepted. He returns to Joan's flat and Stewart Menzies is there; Alan is told that Joan is in military prison after discovering that she was the Soviet spy -- they have found Enigma messages in her things. Alan tells him that he gave her the intercepts when they were trying to crack the code. Stewart says Denniston is looking for a spy in their hut and Alan tells them the spy is actually John Cairncross. Stewart admits to knowing this before Cairncross even got to Bletchley; this is exactly why he placed them there so they could leak whatever they wanted to Stalin since Churchill was too paranoid to share information with the Soviets. Cairncross is unaware that he is being used by them. Stewart says he needs Alan's help to know what to leak to John and feed to the Soviets. Alan says he's just a mathematician, not a spy, but demands that Joan is released. Stewart reveals he lied about her being in a military prison but threatens to use the Enigma messages against her if Alan doesn't cooperate.Alan encourages Joan to leave Bletchley, knowing she is in danger, but it is too risky to tell her this explicitly. To get her to go, he reveals that he's a homosexual. Joan responds with indifference. She tells him she had her suspicions about him for some time, but doesn't think they can't love each other in their own way. Joan tells Alan that despite the fact that he only loves her as a friend, that they'll be in a marriage built on companionship and intellectual stimulation rather then love since most married couples that love each other end up divorcing anyway. Alan then lies and tells her he doesn't love or care for her and was only using her to break Enigma. She slaps him and tells him she's not going anywhere, despite all the low expectations placed on her by men and her parents. She calls him a monster.We see more stock footage from World War II. In voice-over, Alan says that every day, they decoded messages and the war wasn't determined by the bombings and fighting but a team of six crossword enthusiasts in a tiny village in England. We see everyone celebrating on V-E Day of May 8, 1945. Menzies tells the group that before they can return to their lives at university, they have to burn all evidence that they cracked Enigma because it may be used again for future wars. They also have to pretend they have never met each other.In 1951, the interrogation of Alan by Detective Nock continues. Alan tells him he has told him his story and now the Detective has to play the Imitation Game and answer if he's a machine, a person. \\\"Am I a war hero?\\\" he asks. \\\"Am I a criminal?\\\" Detective Nock tells Alan he can't judge him. Alan tells him he's no help to him at all (because he doesn't know how to judge himself).In another flashback, Alan is called to the principal's office and asked about his friendship with Christopher Morcom. He vehemently denies being friends with him, afraid they are aware that it is romantic. The teacher tells him he asked because he heard they were close and wanted to inform him that Christopher has died over the holiday break; he had bovine tuberculosis and never told Alan.Six months after his interrogation, the detective is congratulated after Alan has been sentenced for indecency (homosexuality). Joan goes to visit the older Alan at his home. She says that she would have testified on his behalf, to keep him out of jail. Alan is shaky and reveals to her that the judge gave him a choice: two years in prison or two years of weekly experimental estrogen treatments. The hormonal therapy is designed to cure his homosexual predilections. He wouldn't be able to continue his work from prison and if he's taken away, they'll destroy Christopher, despite all the work he's done on him over the last ten years. He has a panic attack and she calms him down. He notices her wedding ring and she tells him about her husband. She asks him to do a crossword puzzle for old times' sake. But he is not able to do it, the hormonal treatment having ravaged his brain. He tells her she got what she wanted: work, husband, a normal life. Joan tells him no one normal could have done what they did. That morning, she was on a train that went through a city that wouldn't have existed if it wasn't for Alan. She bought a ticket from a man who would most likely not be alive if it wasn't for Alan. She's read up on a whole field of scientific study that wouldn't exist if not for Alan. She is glad he wasn't born normal. She tells him, \\\"The world is an infinitely better place precisely because you weren't [normal]\\\". He asks if she really thinks that and she tells him, \\\"I think that sometimes it's the very people who no one imagines anything of, who do the things that no one can imagine.\\\"In 1953, Alan is in his home, alone. He looks longingly at Christopher, at his supercomputer, at the love of his life. He turns off the lights.Cut to a flashback of the six cryptologists burning all the evidence that they cracked Enigma.In a series of final on-screen texts, it is said that Alan killed himself in 1954, after a year of government-mandated hormonal therapy.Between 1885 and 1967, approximately 49,000 homosexual men in the UK were convicted and imprisoned of gross indecency under British law.In 2013, Queen Elizabeth II granted a posthumous royal pardon, honouring Alan Turing for his achievements during the war.Historians estimate that breaking Enigma shortened the war by more than two years, saving over 14 million lives. It remained a government-held secret for more than 50 years. Turing's work inspired generations of research into what scientists called \\\"Turing machines\\\", now known as computers.\"\n        ],\n        \"semantic_type\": \"\",\n        \"description\": \"\"\n      }\n    },\n    {\n      \"column\": \"title\",\n      \"properties\": {\n        \"dtype\": \"string\",\n        \"num_unique_values\": 237,\n        \"samples\": [\n          \"The Tree of Life\",\n          \"Hunger Games: La ragazza di fuoco\",\n          \"Il labirinto del fauno\"\n        ],\n        \"semantic_type\": \"\",\n        \"description\": \"\"\n      }\n    },\n    {\n      \"column\": \"review_date\",\n      \"properties\": {\n        \"dtype\": \"object\",\n        \"num_unique_values\": 226,\n        \"samples\": [\n          \"5 June 2006\",\n          \"12 January 2007\",\n          \"6 June 2009\"\n        ],\n        \"semantic_type\": \"\",\n        \"description\": \"\"\n      }\n    },\n    {\n      \"column\": \"user_id\",\n      \"properties\": {\n        \"dtype\": \"string\",\n        \"num_unique_values\": 202,\n        \"samples\": [\n          \"ur3361091\",\n          \"ur56736535\",\n          \"ur55537503\"\n        ],\n        \"semantic_type\": \"\",\n        \"description\": \"\"\n      }\n    },\n    {\n      \"column\": \"is_spoiler\",\n      \"properties\": {\n        \"dtype\": \"boolean\",\n        \"num_unique_values\": 1,\n        \"samples\": [\n          true\n        ],\n        \"semantic_type\": \"\",\n        \"description\": \"\"\n      }\n    },\n    {\n      \"column\": \"review_text\",\n      \"properties\": {\n        \"dtype\": \"string\",\n        \"num_unique_values\": 237,\n        \"samples\": [\n          \"To be honest, I went to watch Midnight in Paris but arrived 10 minutes  late, so I went to see The Tree of Life.   To be honest again, I don't like Terrence Malick movies that much.  However, I convinced myself to sit through it until the end no matter  what.  It was horrible.  I mean, no matter how abstract a movie is, there must be something the  viewer can cling to, something the viewer cares about. This movie has  nothing like that.   The funny thing is, the set-up is fairly quick: in 10 minutes you know  what the deal is. Sean Penn is a middle-aged man reflecting on the  meaning of life and reminiscing on his somewhat estranged relationship  with his father (Brad Pitt) and the loss of his brother in the Vietnam  war. After those 10 minutes, nothing that happens in the movie changes  that. There's just no development, it s a bunch of short cuts  (honestly, the longest cut might be 10 seconds long) showing the family  life in the 1950s (very much like home movies) mixed with images of  space, Earth in its beginnings, dinosaurs (I'm not kidding) etc.  It beggars belief that the crummy hacks out there calling themselves  critics say this movie is a \\\"masterpiece\\\" and draws comparison with  Kubrick's 2001. Is it because of the slow pace and special effects?  Kubrick used those for a reason: to tell a story, to help advance the  plot and create a sense of expectation and/or suspense. The Tree of  Life is nothing like that, because there's simply no plot. You don't  know who to root for or sympathize with. There's no hero, no challenge,  no arc. It's just a 2 1/2 hour collage of short scenes. I saw several  people leaving the room after just 15 minutes of projection; others  kept checking their watches every few minutes (myself included.)  It's a pity really, because the performances are quite good,  particularly the kids in the 1950s sequence and Brad Pitt as the stern  father discharging his career frustrations on the wife and kids. Sean  Penn is there too, but he's useless: the director gives him nothing to  do, so he just makes ugly faces at the camera as if he's suffering from  terrible heartburn.  In short: save your money.\"\n        ],\n        \"semantic_type\": \"\",\n        \"description\": \"\"\n      }\n    },\n    {\n      \"column\": \"rephrased_review\",\n      \"properties\": {\n        \"dtype\": \"category\",\n        \"num_unique_values\": 93,\n        \"samples\": [\n          \"I was deeply moved and emotional while watching this film. It's a movie that I believe is not just for Christian audiences, but for everyone. I highly recommend it. I found myself reaching for a whole box of tissues, and my eyes were red by the end of the movie. It's a rare gem in a sea of forgettable films that don't leave a lasting impact. The soundtrack is amazing too. I urge you to watch this movie!\"\n        ],\n        \"semantic_type\": \"\",\n        \"description\": \"\"\n      }\n    },\n    {\n      \"column\": \"masked_review\",\n      \"properties\": {\n        \"dtype\": \"category\",\n        \"num_unique_values\": 93,\n        \"samples\": [\n          \"I was in tears and all emotional when I watched this movie. It's not a movie only for Christian people to watch, I think this movie's for anyone and I definitely recommend it. I used a whole box of my Kleenex and my eyes were so red by the end of the movie I freaked out myself. Honestly, people should make more movies like this, because nowadays, it's all movies like where you forget what the movie is really about. #SPOILER# I don't think that really makes sense there. But anyway this movie is really good! I've got the soundtrack and it's really really good, watch the movie !!!\"\n        ],\n        \"semantic_type\": \"\",\n        \"description\": \"\"\n      }\n    },\n    {\n      \"column\": \"non_masked_review\",\n      \"properties\": {\n        \"dtype\": \"category\",\n        \"num_unique_values\": 93,\n        \"samples\": [\n          \"I was in tears and all emotional when I watched this movie. It's not a movie only for Christian people to watch, I think this movie's for anyone and I definitely recommend it. I used a whole box of my Kleenex and my eyes were so red by the end of the movie I freaked out myself. Honestly, people should make more movies like this, because nowadays, it's all movies like where you forget what the movie is really about.  I don't think that really makes sense there. But anyway this movie is really good! I've got the soundtrack and it's really really good, watch the movie !!!\"\n        ],\n        \"semantic_type\": \"\",\n        \"description\": \"\"\n      }\n    }\n  ]\n}"
            }
          },
          "metadata": {},
          "execution_count": 41
        }
      ]
    },
    {
      "cell_type": "code",
      "source": [
        "original_revs = gpt_reviews[gpt_reviews.rephrased_review.isna()].review_text[:93]"
      ],
      "metadata": {
        "id": "0Zuo97GPM4E_"
      },
      "execution_count": null,
      "outputs": []
    },
    {
      "cell_type": "code",
      "source": [
        "gpt_reviews.dropna(subset = 'rephrased_review', inplace = True)"
      ],
      "metadata": {
        "id": "1XrWOcRysqWk"
      },
      "execution_count": null,
      "outputs": []
    },
    {
      "cell_type": "code",
      "source": [
        "gpt_temp = pd.DataFrame(pd.concat([gpt_reviews['rephrased_review'], original_revs],  axis = 0), columns = ['reviews']).reset_index(drop = True)\n",
        "gpt_temp.head()"
      ],
      "metadata": {
        "colab": {
          "base_uri": "https://localhost:8080/",
          "height": 206
        },
        "id": "TP3vpCiVs_dU",
        "outputId": "6e8388a2-23a7-42ee-f2c4-919173ee8365"
      },
      "execution_count": null,
      "outputs": [
        {
          "output_type": "execute_result",
          "data": {
            "text/plain": [
              "                                             reviews\n",
              "0  In the second film adaptation of a Tom Clancy ...\n",
              "1  \"Last Vegas\" is a comedy featuring a star-stud...\n",
              "2  \"Wet Hot American Summer\" is a film that defie...\n",
              "3  John Huston's talent as a director shines thro...\n",
              "4  In this sharp and witty high school comedy, a ..."
            ],
            "text/html": [
              "\n",
              "  <div id=\"df-4c984636-01f2-4709-8e94-28987a3867a4\" class=\"colab-df-container\">\n",
              "    <div>\n",
              "<style scoped>\n",
              "    .dataframe tbody tr th:only-of-type {\n",
              "        vertical-align: middle;\n",
              "    }\n",
              "\n",
              "    .dataframe tbody tr th {\n",
              "        vertical-align: top;\n",
              "    }\n",
              "\n",
              "    .dataframe thead th {\n",
              "        text-align: right;\n",
              "    }\n",
              "</style>\n",
              "<table border=\"1\" class=\"dataframe\">\n",
              "  <thead>\n",
              "    <tr style=\"text-align: right;\">\n",
              "      <th></th>\n",
              "      <th>reviews</th>\n",
              "    </tr>\n",
              "  </thead>\n",
              "  <tbody>\n",
              "    <tr>\n",
              "      <th>0</th>\n",
              "      <td>In the second film adaptation of a Tom Clancy ...</td>\n",
              "    </tr>\n",
              "    <tr>\n",
              "      <th>1</th>\n",
              "      <td>\"Last Vegas\" is a comedy featuring a star-stud...</td>\n",
              "    </tr>\n",
              "    <tr>\n",
              "      <th>2</th>\n",
              "      <td>\"Wet Hot American Summer\" is a film that defie...</td>\n",
              "    </tr>\n",
              "    <tr>\n",
              "      <th>3</th>\n",
              "      <td>John Huston's talent as a director shines thro...</td>\n",
              "    </tr>\n",
              "    <tr>\n",
              "      <th>4</th>\n",
              "      <td>In this sharp and witty high school comedy, a ...</td>\n",
              "    </tr>\n",
              "  </tbody>\n",
              "</table>\n",
              "</div>\n",
              "    <div class=\"colab-df-buttons\">\n",
              "\n",
              "  <div class=\"colab-df-container\">\n",
              "    <button class=\"colab-df-convert\" onclick=\"convertToInteractive('df-4c984636-01f2-4709-8e94-28987a3867a4')\"\n",
              "            title=\"Convert this dataframe to an interactive table.\"\n",
              "            style=\"display:none;\">\n",
              "\n",
              "  <svg xmlns=\"http://www.w3.org/2000/svg\" height=\"24px\" viewBox=\"0 -960 960 960\">\n",
              "    <path d=\"M120-120v-720h720v720H120Zm60-500h600v-160H180v160Zm220 220h160v-160H400v160Zm0 220h160v-160H400v160ZM180-400h160v-160H180v160Zm440 0h160v-160H620v160ZM180-180h160v-160H180v160Zm440 0h160v-160H620v160Z\"/>\n",
              "  </svg>\n",
              "    </button>\n",
              "\n",
              "  <style>\n",
              "    .colab-df-container {\n",
              "      display:flex;\n",
              "      gap: 12px;\n",
              "    }\n",
              "\n",
              "    .colab-df-convert {\n",
              "      background-color: #E8F0FE;\n",
              "      border: none;\n",
              "      border-radius: 50%;\n",
              "      cursor: pointer;\n",
              "      display: none;\n",
              "      fill: #1967D2;\n",
              "      height: 32px;\n",
              "      padding: 0 0 0 0;\n",
              "      width: 32px;\n",
              "    }\n",
              "\n",
              "    .colab-df-convert:hover {\n",
              "      background-color: #E2EBFA;\n",
              "      box-shadow: 0px 1px 2px rgba(60, 64, 67, 0.3), 0px 1px 3px 1px rgba(60, 64, 67, 0.15);\n",
              "      fill: #174EA6;\n",
              "    }\n",
              "\n",
              "    .colab-df-buttons div {\n",
              "      margin-bottom: 4px;\n",
              "    }\n",
              "\n",
              "    [theme=dark] .colab-df-convert {\n",
              "      background-color: #3B4455;\n",
              "      fill: #D2E3FC;\n",
              "    }\n",
              "\n",
              "    [theme=dark] .colab-df-convert:hover {\n",
              "      background-color: #434B5C;\n",
              "      box-shadow: 0px 1px 3px 1px rgba(0, 0, 0, 0.15);\n",
              "      filter: drop-shadow(0px 1px 2px rgba(0, 0, 0, 0.3));\n",
              "      fill: #FFFFFF;\n",
              "    }\n",
              "  </style>\n",
              "\n",
              "    <script>\n",
              "      const buttonEl =\n",
              "        document.querySelector('#df-4c984636-01f2-4709-8e94-28987a3867a4 button.colab-df-convert');\n",
              "      buttonEl.style.display =\n",
              "        google.colab.kernel.accessAllowed ? 'block' : 'none';\n",
              "\n",
              "      async function convertToInteractive(key) {\n",
              "        const element = document.querySelector('#df-4c984636-01f2-4709-8e94-28987a3867a4');\n",
              "        const dataTable =\n",
              "          await google.colab.kernel.invokeFunction('convertToInteractive',\n",
              "                                                    [key], {});\n",
              "        if (!dataTable) return;\n",
              "\n",
              "        const docLinkHtml = 'Like what you see? Visit the ' +\n",
              "          '<a target=\"_blank\" href=https://colab.research.google.com/notebooks/data_table.ipynb>data table notebook</a>'\n",
              "          + ' to learn more about interactive tables.';\n",
              "        element.innerHTML = '';\n",
              "        dataTable['output_type'] = 'display_data';\n",
              "        await google.colab.output.renderOutput(dataTable, element);\n",
              "        const docLink = document.createElement('div');\n",
              "        docLink.innerHTML = docLinkHtml;\n",
              "        element.appendChild(docLink);\n",
              "      }\n",
              "    </script>\n",
              "  </div>\n",
              "\n",
              "\n",
              "<div id=\"df-a2a833a1-0c87-4798-be5f-e39ee438df9c\">\n",
              "  <button class=\"colab-df-quickchart\" onclick=\"quickchart('df-a2a833a1-0c87-4798-be5f-e39ee438df9c')\"\n",
              "            title=\"Suggest charts\"\n",
              "            style=\"display:none;\">\n",
              "\n",
              "<svg xmlns=\"http://www.w3.org/2000/svg\" height=\"24px\"viewBox=\"0 0 24 24\"\n",
              "     width=\"24px\">\n",
              "    <g>\n",
              "        <path d=\"M19 3H5c-1.1 0-2 .9-2 2v14c0 1.1.9 2 2 2h14c1.1 0 2-.9 2-2V5c0-1.1-.9-2-2-2zM9 17H7v-7h2v7zm4 0h-2V7h2v10zm4 0h-2v-4h2v4z\"/>\n",
              "    </g>\n",
              "</svg>\n",
              "  </button>\n",
              "\n",
              "<style>\n",
              "  .colab-df-quickchart {\n",
              "      --bg-color: #E8F0FE;\n",
              "      --fill-color: #1967D2;\n",
              "      --hover-bg-color: #E2EBFA;\n",
              "      --hover-fill-color: #174EA6;\n",
              "      --disabled-fill-color: #AAA;\n",
              "      --disabled-bg-color: #DDD;\n",
              "  }\n",
              "\n",
              "  [theme=dark] .colab-df-quickchart {\n",
              "      --bg-color: #3B4455;\n",
              "      --fill-color: #D2E3FC;\n",
              "      --hover-bg-color: #434B5C;\n",
              "      --hover-fill-color: #FFFFFF;\n",
              "      --disabled-bg-color: #3B4455;\n",
              "      --disabled-fill-color: #666;\n",
              "  }\n",
              "\n",
              "  .colab-df-quickchart {\n",
              "    background-color: var(--bg-color);\n",
              "    border: none;\n",
              "    border-radius: 50%;\n",
              "    cursor: pointer;\n",
              "    display: none;\n",
              "    fill: var(--fill-color);\n",
              "    height: 32px;\n",
              "    padding: 0;\n",
              "    width: 32px;\n",
              "  }\n",
              "\n",
              "  .colab-df-quickchart:hover {\n",
              "    background-color: var(--hover-bg-color);\n",
              "    box-shadow: 0 1px 2px rgba(60, 64, 67, 0.3), 0 1px 3px 1px rgba(60, 64, 67, 0.15);\n",
              "    fill: var(--button-hover-fill-color);\n",
              "  }\n",
              "\n",
              "  .colab-df-quickchart-complete:disabled,\n",
              "  .colab-df-quickchart-complete:disabled:hover {\n",
              "    background-color: var(--disabled-bg-color);\n",
              "    fill: var(--disabled-fill-color);\n",
              "    box-shadow: none;\n",
              "  }\n",
              "\n",
              "  .colab-df-spinner {\n",
              "    border: 2px solid var(--fill-color);\n",
              "    border-color: transparent;\n",
              "    border-bottom-color: var(--fill-color);\n",
              "    animation:\n",
              "      spin 1s steps(1) infinite;\n",
              "  }\n",
              "\n",
              "  @keyframes spin {\n",
              "    0% {\n",
              "      border-color: transparent;\n",
              "      border-bottom-color: var(--fill-color);\n",
              "      border-left-color: var(--fill-color);\n",
              "    }\n",
              "    20% {\n",
              "      border-color: transparent;\n",
              "      border-left-color: var(--fill-color);\n",
              "      border-top-color: var(--fill-color);\n",
              "    }\n",
              "    30% {\n",
              "      border-color: transparent;\n",
              "      border-left-color: var(--fill-color);\n",
              "      border-top-color: var(--fill-color);\n",
              "      border-right-color: var(--fill-color);\n",
              "    }\n",
              "    40% {\n",
              "      border-color: transparent;\n",
              "      border-right-color: var(--fill-color);\n",
              "      border-top-color: var(--fill-color);\n",
              "    }\n",
              "    60% {\n",
              "      border-color: transparent;\n",
              "      border-right-color: var(--fill-color);\n",
              "    }\n",
              "    80% {\n",
              "      border-color: transparent;\n",
              "      border-right-color: var(--fill-color);\n",
              "      border-bottom-color: var(--fill-color);\n",
              "    }\n",
              "    90% {\n",
              "      border-color: transparent;\n",
              "      border-bottom-color: var(--fill-color);\n",
              "    }\n",
              "  }\n",
              "</style>\n",
              "\n",
              "  <script>\n",
              "    async function quickchart(key) {\n",
              "      const quickchartButtonEl =\n",
              "        document.querySelector('#' + key + ' button');\n",
              "      quickchartButtonEl.disabled = true;  // To prevent multiple clicks.\n",
              "      quickchartButtonEl.classList.add('colab-df-spinner');\n",
              "      try {\n",
              "        const charts = await google.colab.kernel.invokeFunction(\n",
              "            'suggestCharts', [key], {});\n",
              "      } catch (error) {\n",
              "        console.error('Error during call to suggestCharts:', error);\n",
              "      }\n",
              "      quickchartButtonEl.classList.remove('colab-df-spinner');\n",
              "      quickchartButtonEl.classList.add('colab-df-quickchart-complete');\n",
              "    }\n",
              "    (() => {\n",
              "      let quickchartButtonEl =\n",
              "        document.querySelector('#df-a2a833a1-0c87-4798-be5f-e39ee438df9c button');\n",
              "      quickchartButtonEl.style.display =\n",
              "        google.colab.kernel.accessAllowed ? 'block' : 'none';\n",
              "    })();\n",
              "  </script>\n",
              "</div>\n",
              "    </div>\n",
              "  </div>\n"
            ],
            "application/vnd.google.colaboratory.intrinsic+json": {
              "type": "dataframe",
              "variable_name": "gpt_temp",
              "summary": "{\n  \"name\": \"gpt_temp\",\n  \"rows\": 186,\n  \"fields\": [\n    {\n      \"column\": \"reviews\",\n      \"properties\": {\n        \"dtype\": \"string\",\n        \"num_unique_values\": 186,\n        \"samples\": [\n          \"Nightmare Before Christmas is such a classic movie that will always hold a special place in my heart, even if the new emo generation is claiming hold of it, they do realize that this film was made years before, right? Moving on, this is one of my favorite movies of all time, it's a wonderful and charming movie that is original, funny, and moving. I think the reason this movie still stands the test of time is because this was a personal treasure of Tim Burton's. You can tell the love that was put into this film, it's incredible the way that it was made and the soundtrack is one of the best albums of all time. All the characters are lovable and a pleasure to watch as they bring this dark comedic tale to life.Halloween Town is a dream world filled with citizens such as deformed monsters, ghosts, ghouls, goblins, vampires, werewolves, and witches. Jack Skellington leads them in a frightful celebration every Halloween, but he has grown tired of the same routine year after year. Wandering in the forest outside the town center, he accidentally opens a portal to \\\"Christmas Town\\\". Impressed by the feeling and style of Christmas, Jack presents his findings and his understanding of the holiday to the Halloween Town residents. They fail to grasp his meaning and compare everything he says to their idea of Halloween. He reluctantly decides to play along and announces that they will take over Christmas. Every resident is assigned a task, while Sally, a rag doll woman who is created by the town's mad scientist, begins to feel a romantic attraction towards Jack. However, she alone fears that his plans will become disastrous. Christmas Eve he begins to deliver presents to children around the world, but the gifts: shrunken heads, Christmas tree-eating snakes, only terrify the recipients. Realizing what damage he did Jack attempts to fix what he has done, but has to make sure to make Santa safe and happy again.People who do not enjoy this movie, I don't understand how you could not honestly. It's such a charming movie and very unforgettable, I was 10 years old when I first saw this in the theater in 1995, I still watch it every year for Halloween and even Christmas. My sister and I are grown women, but if I slip in the soundtrack, we become kids again and start singing to The Boogey Song. I do admit that Spencer's Gifts and Hot Topic have over blown on the Nightmare Before Christmas memorabilia, but everyone wants something from this movie because it's just that memorable and you can't help but fall in love with it. It's positively magical, Jack Skeleton is awesome and can steal any holiday any time, I loved his ideas personally, Easter is next! 10/10\",\n          \"Based on the thorough thrashing this movie has received from other reviewers, I came with few expectations. Movies based on novels are, after all, often difficult to put together in a way that is satisfying to readers yet visually engaging. On this note I must disagree with the negative reviews and nay-sayers: Jackson has succeeded in both stunning me visually (hard to do, as I'm an artist and therefore picky) and thoroughly tugging my heartstrings. I found myself in tears during easily one third of the movie. Although I am an emotional person, I strongly disagree that The Lovely Bones bears much resemblance to a made-for-TV melodrama.I gave it a 9/10 because it is not perfect. There are a few elements that could have been better developed, such as the relationship that grows between Susie's younger brother Buckley and their bereaved father. However, Jackson chose to focus almost completely on Susie's dilemma in the afterlife as she watches her family grieve and her killer become maddeningly arrogant in his ability to duck and cover.It is this reviewer's opinion that if you came to The Lovely Bones expecting a gruesome rape scene along the lines of A Time to Kill, you were disappointed. (Jackson expressed dismay that his viewers would even WANT to witness a 14-year-old girl being raped and murdered, stating that he had no desire to portray such and never will.) This movie will not appeal to males in general, particularly under the age of twenty-five, for what should be obvious reasons. It is about a young girl whose life was stolen from her. She therefore has a young girl's feelings, hopes, and fantasies. If you can't relate to those emotions, then you probably won't like this movie. If you can't be touched by the powerful imagery the CGI in the movie provides, you probably won't like this movie. There are straightforward, A to Z movies that tell their stories step-by-step from beginning to end (plot-driven), and then there are movies that weave a tale around the emotions and struggles of their characters (character-driven). This movie is one of the latter, and if you don't like that kind, then you probably won't enjoy it. Furthermore, a character-driven tale based on a novel in which every character receives as much screen time as it did page time ends up becoming epic in length. I marathon-read the book in one day. How long does a movie based on it need to be in order to accurately establish the core plot?In summary, if you can allow Jackson's special effects to blow you away, as was intended, and if you can approach it with an open heart, then you're in for a real treat in The Lovely Bones. It was elegantly done and very entertaining -- to the right person.\",\n          \"David Lean's \\\"The Bridge on the River Kwai\\\" like Jean Renoir's \\\"Grand Illusion\\\" is an anti-heroic war film, set in a prisoner of war camp environment... But there, the point of resemblance came to an end... \\\"The Bridge on the River Kwai\\\" is an adventure film in which the nature of World War II is explored... And if in \\\"Grand Illusion\\\" the characters were described by a great artist who treasures their common humanity, in \\\"The Bridge on the River Kwai\\\" they are forced to carry out their destinies by an officer who cannot bear to see his bridge blown up...Escape is almost impossible from the Japanese camp located near the Kwai River in Burma... The prisoners are badly treated by cruel guards... The camp commander is a rigid psychopath... Conditions are hard to bear... Psychological state of the war British prisoners in constant alteration...Into the presumptuous situation comes Colonel Nicholson (Alec Guinness in a fascinating performance), a strict, serene, dedicated British Officer, deeply concerned for the welfare of his men...Nicholson is under severe pressure from the stubborn Japanese Colonel Saito (Sessue Hayakawa) for insisting on his attachment to the Geneva convention and refusing to allow his officers to be used on the construction of the strategic bridge...Nichilson survives the oppressive punishment imposed on him, but his obsession has risen to near-madness... He agrees to help the Japanese build their bridge, and in his determination to find victory in defeat, he ignores that the bridge, which he insists must be a 'proper bridge,' will serve the Japanese objectives against the British troops...In addition to the powerful rules of a prison camp picture, captors against captives and an interesting moral respect to a military code, a third element, in the story, is introduced: a small commando team led by Major Warden (Jack Hawkins) and an American sailor (William Holden) whose mission is to destroy the strategic bridge..The film leads swiftly to a suspenseful climax: a Japanese train and a Commando force directed to a same goal, the Brige of the River Kwai...Each character, in the motion picture, has a valid reason for what he is doing, and each elaborates a relationship to the bridge revealed to be obsession and insane...\\\"The Bridge on the River Kwai\\\" hits with 'war' in a compelling logic of events, the indulgence of self-destruction.With a great visual beauty and terrific whistling tune March, \\\"The Bridge on the River Kwai\\\" is a great dramatic entertainment of the wills of men...\"\n        ],\n        \"semantic_type\": \"\",\n        \"description\": \"\"\n      }\n    }\n  ]\n}"
            }
          },
          "metadata": {},
          "execution_count": 44
        }
      ]
    },
    {
      "cell_type": "code",
      "source": [
        "labels = np.ones(186, dtype = bool)\n",
        "labels[:93] = 0\n",
        "gpt_temp['is_spoiler'] = labels"
      ],
      "metadata": {
        "id": "xtBelZz_to69"
      },
      "execution_count": null,
      "outputs": []
    },
    {
      "cell_type": "code",
      "source": [
        "gpt_temp"
      ],
      "metadata": {
        "colab": {
          "base_uri": "https://localhost:8080/",
          "height": 424
        },
        "id": "lA60tJpDubRc",
        "outputId": "2393a4b1-c01d-4d87-9fef-e695ac41037b"
      },
      "execution_count": null,
      "outputs": [
        {
          "output_type": "execute_result",
          "data": {
            "text/plain": [
              "                                               reviews  is_spoiler\n",
              "0    In the second film adaptation of a Tom Clancy ...       False\n",
              "1    \"Last Vegas\" is a comedy featuring a star-stud...       False\n",
              "2    \"Wet Hot American Summer\" is a film that defie...       False\n",
              "3    John Huston's talent as a director shines thro...       False\n",
              "4    In this sharp and witty high school comedy, a ...       False\n",
              "..                                                 ...         ...\n",
              "181  **Warning! Mild Spoilers Ahead!!**The premise ...        True\n",
              "182  'The Pianist' is definitively an inspiring epi...        True\n",
              "183  Stand By Me is without a doubt one of the fine...        True\n",
              "184  Minor SpoilersPredator 2 is a great sequel.The...        True\n",
              "185  The first scene lets you know what kinda film ...        True\n",
              "\n",
              "[186 rows x 2 columns]"
            ],
            "text/html": [
              "\n",
              "  <div id=\"df-a7560c94-c7a1-495b-af17-3a0663e021d8\" class=\"colab-df-container\">\n",
              "    <div>\n",
              "<style scoped>\n",
              "    .dataframe tbody tr th:only-of-type {\n",
              "        vertical-align: middle;\n",
              "    }\n",
              "\n",
              "    .dataframe tbody tr th {\n",
              "        vertical-align: top;\n",
              "    }\n",
              "\n",
              "    .dataframe thead th {\n",
              "        text-align: right;\n",
              "    }\n",
              "</style>\n",
              "<table border=\"1\" class=\"dataframe\">\n",
              "  <thead>\n",
              "    <tr style=\"text-align: right;\">\n",
              "      <th></th>\n",
              "      <th>reviews</th>\n",
              "      <th>is_spoiler</th>\n",
              "    </tr>\n",
              "  </thead>\n",
              "  <tbody>\n",
              "    <tr>\n",
              "      <th>0</th>\n",
              "      <td>In the second film adaptation of a Tom Clancy ...</td>\n",
              "      <td>False</td>\n",
              "    </tr>\n",
              "    <tr>\n",
              "      <th>1</th>\n",
              "      <td>\"Last Vegas\" is a comedy featuring a star-stud...</td>\n",
              "      <td>False</td>\n",
              "    </tr>\n",
              "    <tr>\n",
              "      <th>2</th>\n",
              "      <td>\"Wet Hot American Summer\" is a film that defie...</td>\n",
              "      <td>False</td>\n",
              "    </tr>\n",
              "    <tr>\n",
              "      <th>3</th>\n",
              "      <td>John Huston's talent as a director shines thro...</td>\n",
              "      <td>False</td>\n",
              "    </tr>\n",
              "    <tr>\n",
              "      <th>4</th>\n",
              "      <td>In this sharp and witty high school comedy, a ...</td>\n",
              "      <td>False</td>\n",
              "    </tr>\n",
              "    <tr>\n",
              "      <th>...</th>\n",
              "      <td>...</td>\n",
              "      <td>...</td>\n",
              "    </tr>\n",
              "    <tr>\n",
              "      <th>181</th>\n",
              "      <td>**Warning! Mild Spoilers Ahead!!**The premise ...</td>\n",
              "      <td>True</td>\n",
              "    </tr>\n",
              "    <tr>\n",
              "      <th>182</th>\n",
              "      <td>'The Pianist' is definitively an inspiring epi...</td>\n",
              "      <td>True</td>\n",
              "    </tr>\n",
              "    <tr>\n",
              "      <th>183</th>\n",
              "      <td>Stand By Me is without a doubt one of the fine...</td>\n",
              "      <td>True</td>\n",
              "    </tr>\n",
              "    <tr>\n",
              "      <th>184</th>\n",
              "      <td>Minor SpoilersPredator 2 is a great sequel.The...</td>\n",
              "      <td>True</td>\n",
              "    </tr>\n",
              "    <tr>\n",
              "      <th>185</th>\n",
              "      <td>The first scene lets you know what kinda film ...</td>\n",
              "      <td>True</td>\n",
              "    </tr>\n",
              "  </tbody>\n",
              "</table>\n",
              "<p>186 rows × 2 columns</p>\n",
              "</div>\n",
              "    <div class=\"colab-df-buttons\">\n",
              "\n",
              "  <div class=\"colab-df-container\">\n",
              "    <button class=\"colab-df-convert\" onclick=\"convertToInteractive('df-a7560c94-c7a1-495b-af17-3a0663e021d8')\"\n",
              "            title=\"Convert this dataframe to an interactive table.\"\n",
              "            style=\"display:none;\">\n",
              "\n",
              "  <svg xmlns=\"http://www.w3.org/2000/svg\" height=\"24px\" viewBox=\"0 -960 960 960\">\n",
              "    <path d=\"M120-120v-720h720v720H120Zm60-500h600v-160H180v160Zm220 220h160v-160H400v160Zm0 220h160v-160H400v160ZM180-400h160v-160H180v160Zm440 0h160v-160H620v160ZM180-180h160v-160H180v160Zm440 0h160v-160H620v160Z\"/>\n",
              "  </svg>\n",
              "    </button>\n",
              "\n",
              "  <style>\n",
              "    .colab-df-container {\n",
              "      display:flex;\n",
              "      gap: 12px;\n",
              "    }\n",
              "\n",
              "    .colab-df-convert {\n",
              "      background-color: #E8F0FE;\n",
              "      border: none;\n",
              "      border-radius: 50%;\n",
              "      cursor: pointer;\n",
              "      display: none;\n",
              "      fill: #1967D2;\n",
              "      height: 32px;\n",
              "      padding: 0 0 0 0;\n",
              "      width: 32px;\n",
              "    }\n",
              "\n",
              "    .colab-df-convert:hover {\n",
              "      background-color: #E2EBFA;\n",
              "      box-shadow: 0px 1px 2px rgba(60, 64, 67, 0.3), 0px 1px 3px 1px rgba(60, 64, 67, 0.15);\n",
              "      fill: #174EA6;\n",
              "    }\n",
              "\n",
              "    .colab-df-buttons div {\n",
              "      margin-bottom: 4px;\n",
              "    }\n",
              "\n",
              "    [theme=dark] .colab-df-convert {\n",
              "      background-color: #3B4455;\n",
              "      fill: #D2E3FC;\n",
              "    }\n",
              "\n",
              "    [theme=dark] .colab-df-convert:hover {\n",
              "      background-color: #434B5C;\n",
              "      box-shadow: 0px 1px 3px 1px rgba(0, 0, 0, 0.15);\n",
              "      filter: drop-shadow(0px 1px 2px rgba(0, 0, 0, 0.3));\n",
              "      fill: #FFFFFF;\n",
              "    }\n",
              "  </style>\n",
              "\n",
              "    <script>\n",
              "      const buttonEl =\n",
              "        document.querySelector('#df-a7560c94-c7a1-495b-af17-3a0663e021d8 button.colab-df-convert');\n",
              "      buttonEl.style.display =\n",
              "        google.colab.kernel.accessAllowed ? 'block' : 'none';\n",
              "\n",
              "      async function convertToInteractive(key) {\n",
              "        const element = document.querySelector('#df-a7560c94-c7a1-495b-af17-3a0663e021d8');\n",
              "        const dataTable =\n",
              "          await google.colab.kernel.invokeFunction('convertToInteractive',\n",
              "                                                    [key], {});\n",
              "        if (!dataTable) return;\n",
              "\n",
              "        const docLinkHtml = 'Like what you see? Visit the ' +\n",
              "          '<a target=\"_blank\" href=https://colab.research.google.com/notebooks/data_table.ipynb>data table notebook</a>'\n",
              "          + ' to learn more about interactive tables.';\n",
              "        element.innerHTML = '';\n",
              "        dataTable['output_type'] = 'display_data';\n",
              "        await google.colab.output.renderOutput(dataTable, element);\n",
              "        const docLink = document.createElement('div');\n",
              "        docLink.innerHTML = docLinkHtml;\n",
              "        element.appendChild(docLink);\n",
              "      }\n",
              "    </script>\n",
              "  </div>\n",
              "\n",
              "\n",
              "<div id=\"df-7b4ecff3-7770-47a8-90c8-b61005005bbb\">\n",
              "  <button class=\"colab-df-quickchart\" onclick=\"quickchart('df-7b4ecff3-7770-47a8-90c8-b61005005bbb')\"\n",
              "            title=\"Suggest charts\"\n",
              "            style=\"display:none;\">\n",
              "\n",
              "<svg xmlns=\"http://www.w3.org/2000/svg\" height=\"24px\"viewBox=\"0 0 24 24\"\n",
              "     width=\"24px\">\n",
              "    <g>\n",
              "        <path d=\"M19 3H5c-1.1 0-2 .9-2 2v14c0 1.1.9 2 2 2h14c1.1 0 2-.9 2-2V5c0-1.1-.9-2-2-2zM9 17H7v-7h2v7zm4 0h-2V7h2v10zm4 0h-2v-4h2v4z\"/>\n",
              "    </g>\n",
              "</svg>\n",
              "  </button>\n",
              "\n",
              "<style>\n",
              "  .colab-df-quickchart {\n",
              "      --bg-color: #E8F0FE;\n",
              "      --fill-color: #1967D2;\n",
              "      --hover-bg-color: #E2EBFA;\n",
              "      --hover-fill-color: #174EA6;\n",
              "      --disabled-fill-color: #AAA;\n",
              "      --disabled-bg-color: #DDD;\n",
              "  }\n",
              "\n",
              "  [theme=dark] .colab-df-quickchart {\n",
              "      --bg-color: #3B4455;\n",
              "      --fill-color: #D2E3FC;\n",
              "      --hover-bg-color: #434B5C;\n",
              "      --hover-fill-color: #FFFFFF;\n",
              "      --disabled-bg-color: #3B4455;\n",
              "      --disabled-fill-color: #666;\n",
              "  }\n",
              "\n",
              "  .colab-df-quickchart {\n",
              "    background-color: var(--bg-color);\n",
              "    border: none;\n",
              "    border-radius: 50%;\n",
              "    cursor: pointer;\n",
              "    display: none;\n",
              "    fill: var(--fill-color);\n",
              "    height: 32px;\n",
              "    padding: 0;\n",
              "    width: 32px;\n",
              "  }\n",
              "\n",
              "  .colab-df-quickchart:hover {\n",
              "    background-color: var(--hover-bg-color);\n",
              "    box-shadow: 0 1px 2px rgba(60, 64, 67, 0.3), 0 1px 3px 1px rgba(60, 64, 67, 0.15);\n",
              "    fill: var(--button-hover-fill-color);\n",
              "  }\n",
              "\n",
              "  .colab-df-quickchart-complete:disabled,\n",
              "  .colab-df-quickchart-complete:disabled:hover {\n",
              "    background-color: var(--disabled-bg-color);\n",
              "    fill: var(--disabled-fill-color);\n",
              "    box-shadow: none;\n",
              "  }\n",
              "\n",
              "  .colab-df-spinner {\n",
              "    border: 2px solid var(--fill-color);\n",
              "    border-color: transparent;\n",
              "    border-bottom-color: var(--fill-color);\n",
              "    animation:\n",
              "      spin 1s steps(1) infinite;\n",
              "  }\n",
              "\n",
              "  @keyframes spin {\n",
              "    0% {\n",
              "      border-color: transparent;\n",
              "      border-bottom-color: var(--fill-color);\n",
              "      border-left-color: var(--fill-color);\n",
              "    }\n",
              "    20% {\n",
              "      border-color: transparent;\n",
              "      border-left-color: var(--fill-color);\n",
              "      border-top-color: var(--fill-color);\n",
              "    }\n",
              "    30% {\n",
              "      border-color: transparent;\n",
              "      border-left-color: var(--fill-color);\n",
              "      border-top-color: var(--fill-color);\n",
              "      border-right-color: var(--fill-color);\n",
              "    }\n",
              "    40% {\n",
              "      border-color: transparent;\n",
              "      border-right-color: var(--fill-color);\n",
              "      border-top-color: var(--fill-color);\n",
              "    }\n",
              "    60% {\n",
              "      border-color: transparent;\n",
              "      border-right-color: var(--fill-color);\n",
              "    }\n",
              "    80% {\n",
              "      border-color: transparent;\n",
              "      border-right-color: var(--fill-color);\n",
              "      border-bottom-color: var(--fill-color);\n",
              "    }\n",
              "    90% {\n",
              "      border-color: transparent;\n",
              "      border-bottom-color: var(--fill-color);\n",
              "    }\n",
              "  }\n",
              "</style>\n",
              "\n",
              "  <script>\n",
              "    async function quickchart(key) {\n",
              "      const quickchartButtonEl =\n",
              "        document.querySelector('#' + key + ' button');\n",
              "      quickchartButtonEl.disabled = true;  // To prevent multiple clicks.\n",
              "      quickchartButtonEl.classList.add('colab-df-spinner');\n",
              "      try {\n",
              "        const charts = await google.colab.kernel.invokeFunction(\n",
              "            'suggestCharts', [key], {});\n",
              "      } catch (error) {\n",
              "        console.error('Error during call to suggestCharts:', error);\n",
              "      }\n",
              "      quickchartButtonEl.classList.remove('colab-df-spinner');\n",
              "      quickchartButtonEl.classList.add('colab-df-quickchart-complete');\n",
              "    }\n",
              "    (() => {\n",
              "      let quickchartButtonEl =\n",
              "        document.querySelector('#df-7b4ecff3-7770-47a8-90c8-b61005005bbb button');\n",
              "      quickchartButtonEl.style.display =\n",
              "        google.colab.kernel.accessAllowed ? 'block' : 'none';\n",
              "    })();\n",
              "  </script>\n",
              "</div>\n",
              "    </div>\n",
              "  </div>\n"
            ],
            "application/vnd.google.colaboratory.intrinsic+json": {
              "type": "dataframe",
              "variable_name": "gpt_temp",
              "summary": "{\n  \"name\": \"gpt_temp\",\n  \"rows\": 186,\n  \"fields\": [\n    {\n      \"column\": \"reviews\",\n      \"properties\": {\n        \"dtype\": \"string\",\n        \"num_unique_values\": 186,\n        \"samples\": [\n          \"Nightmare Before Christmas is such a classic movie that will always hold a special place in my heart, even if the new emo generation is claiming hold of it, they do realize that this film was made years before, right? Moving on, this is one of my favorite movies of all time, it's a wonderful and charming movie that is original, funny, and moving. I think the reason this movie still stands the test of time is because this was a personal treasure of Tim Burton's. You can tell the love that was put into this film, it's incredible the way that it was made and the soundtrack is one of the best albums of all time. All the characters are lovable and a pleasure to watch as they bring this dark comedic tale to life.Halloween Town is a dream world filled with citizens such as deformed monsters, ghosts, ghouls, goblins, vampires, werewolves, and witches. Jack Skellington leads them in a frightful celebration every Halloween, but he has grown tired of the same routine year after year. Wandering in the forest outside the town center, he accidentally opens a portal to \\\"Christmas Town\\\". Impressed by the feeling and style of Christmas, Jack presents his findings and his understanding of the holiday to the Halloween Town residents. They fail to grasp his meaning and compare everything he says to their idea of Halloween. He reluctantly decides to play along and announces that they will take over Christmas. Every resident is assigned a task, while Sally, a rag doll woman who is created by the town's mad scientist, begins to feel a romantic attraction towards Jack. However, she alone fears that his plans will become disastrous. Christmas Eve he begins to deliver presents to children around the world, but the gifts: shrunken heads, Christmas tree-eating snakes, only terrify the recipients. Realizing what damage he did Jack attempts to fix what he has done, but has to make sure to make Santa safe and happy again.People who do not enjoy this movie, I don't understand how you could not honestly. It's such a charming movie and very unforgettable, I was 10 years old when I first saw this in the theater in 1995, I still watch it every year for Halloween and even Christmas. My sister and I are grown women, but if I slip in the soundtrack, we become kids again and start singing to The Boogey Song. I do admit that Spencer's Gifts and Hot Topic have over blown on the Nightmare Before Christmas memorabilia, but everyone wants something from this movie because it's just that memorable and you can't help but fall in love with it. It's positively magical, Jack Skeleton is awesome and can steal any holiday any time, I loved his ideas personally, Easter is next! 10/10\",\n          \"Based on the thorough thrashing this movie has received from other reviewers, I came with few expectations. Movies based on novels are, after all, often difficult to put together in a way that is satisfying to readers yet visually engaging. On this note I must disagree with the negative reviews and nay-sayers: Jackson has succeeded in both stunning me visually (hard to do, as I'm an artist and therefore picky) and thoroughly tugging my heartstrings. I found myself in tears during easily one third of the movie. Although I am an emotional person, I strongly disagree that The Lovely Bones bears much resemblance to a made-for-TV melodrama.I gave it a 9/10 because it is not perfect. There are a few elements that could have been better developed, such as the relationship that grows between Susie's younger brother Buckley and their bereaved father. However, Jackson chose to focus almost completely on Susie's dilemma in the afterlife as she watches her family grieve and her killer become maddeningly arrogant in his ability to duck and cover.It is this reviewer's opinion that if you came to The Lovely Bones expecting a gruesome rape scene along the lines of A Time to Kill, you were disappointed. (Jackson expressed dismay that his viewers would even WANT to witness a 14-year-old girl being raped and murdered, stating that he had no desire to portray such and never will.) This movie will not appeal to males in general, particularly under the age of twenty-five, for what should be obvious reasons. It is about a young girl whose life was stolen from her. She therefore has a young girl's feelings, hopes, and fantasies. If you can't relate to those emotions, then you probably won't like this movie. If you can't be touched by the powerful imagery the CGI in the movie provides, you probably won't like this movie. There are straightforward, A to Z movies that tell their stories step-by-step from beginning to end (plot-driven), and then there are movies that weave a tale around the emotions and struggles of their characters (character-driven). This movie is one of the latter, and if you don't like that kind, then you probably won't enjoy it. Furthermore, a character-driven tale based on a novel in which every character receives as much screen time as it did page time ends up becoming epic in length. I marathon-read the book in one day. How long does a movie based on it need to be in order to accurately establish the core plot?In summary, if you can allow Jackson's special effects to blow you away, as was intended, and if you can approach it with an open heart, then you're in for a real treat in The Lovely Bones. It was elegantly done and very entertaining -- to the right person.\",\n          \"David Lean's \\\"The Bridge on the River Kwai\\\" like Jean Renoir's \\\"Grand Illusion\\\" is an anti-heroic war film, set in a prisoner of war camp environment... But there, the point of resemblance came to an end... \\\"The Bridge on the River Kwai\\\" is an adventure film in which the nature of World War II is explored... And if in \\\"Grand Illusion\\\" the characters were described by a great artist who treasures their common humanity, in \\\"The Bridge on the River Kwai\\\" they are forced to carry out their destinies by an officer who cannot bear to see his bridge blown up...Escape is almost impossible from the Japanese camp located near the Kwai River in Burma... The prisoners are badly treated by cruel guards... The camp commander is a rigid psychopath... Conditions are hard to bear... Psychological state of the war British prisoners in constant alteration...Into the presumptuous situation comes Colonel Nicholson (Alec Guinness in a fascinating performance), a strict, serene, dedicated British Officer, deeply concerned for the welfare of his men...Nicholson is under severe pressure from the stubborn Japanese Colonel Saito (Sessue Hayakawa) for insisting on his attachment to the Geneva convention and refusing to allow his officers to be used on the construction of the strategic bridge...Nichilson survives the oppressive punishment imposed on him, but his obsession has risen to near-madness... He agrees to help the Japanese build their bridge, and in his determination to find victory in defeat, he ignores that the bridge, which he insists must be a 'proper bridge,' will serve the Japanese objectives against the British troops...In addition to the powerful rules of a prison camp picture, captors against captives and an interesting moral respect to a military code, a third element, in the story, is introduced: a small commando team led by Major Warden (Jack Hawkins) and an American sailor (William Holden) whose mission is to destroy the strategic bridge..The film leads swiftly to a suspenseful climax: a Japanese train and a Commando force directed to a same goal, the Brige of the River Kwai...Each character, in the motion picture, has a valid reason for what he is doing, and each elaborates a relationship to the bridge revealed to be obsession and insane...\\\"The Bridge on the River Kwai\\\" hits with 'war' in a compelling logic of events, the indulgence of self-destruction.With a great visual beauty and terrific whistling tune March, \\\"The Bridge on the River Kwai\\\" is a great dramatic entertainment of the wills of men...\"\n        ],\n        \"semantic_type\": \"\",\n        \"description\": \"\"\n      }\n    },\n    {\n      \"column\": \"is_spoiler\",\n      \"properties\": {\n        \"dtype\": \"boolean\",\n        \"num_unique_values\": 2,\n        \"samples\": [\n          true,\n          false\n        ],\n        \"semantic_type\": \"\",\n        \"description\": \"\"\n      }\n    }\n  ]\n}"
            }
          },
          "metadata": {},
          "execution_count": 46
        }
      ]
    },
    {
      "cell_type": "markdown",
      "source": [
        "## Meta features"
      ],
      "metadata": {
        "id": "uRD3nUNe9Oiy"
      }
    },
    {
      "cell_type": "markdown",
      "source": [
        "### Resources NLTK"
      ],
      "metadata": {
        "id": "dQ0Df4sW9Oiz"
      }
    },
    {
      "cell_type": "code",
      "source": [
        "import nltk\n",
        "nltk.download('averaged_perceptron_tagger')"
      ],
      "metadata": {
        "colab": {
          "base_uri": "https://localhost:8080/"
        },
        "outputId": "f60058c0-091f-4274-bd8d-1262aed4feb1",
        "id": "6YkXlI9e9Oiz"
      },
      "execution_count": null,
      "outputs": [
        {
          "output_type": "stream",
          "name": "stderr",
          "text": [
            "[nltk_data] Downloading package averaged_perceptron_tagger to\n",
            "[nltk_data]     /root/nltk_data...\n",
            "[nltk_data]   Unzipping taggers/averaged_perceptron_tagger.zip.\n"
          ]
        },
        {
          "output_type": "execute_result",
          "data": {
            "text/plain": [
              "True"
            ]
          },
          "metadata": {},
          "execution_count": 47
        }
      ]
    },
    {
      "cell_type": "code",
      "source": [
        "nltk.download('maxent_ne_chunker')"
      ],
      "metadata": {
        "colab": {
          "base_uri": "https://localhost:8080/"
        },
        "outputId": "924e7f84-c5b3-47e5-eff5-ef4c48e06477",
        "id": "NmAFLRc29Oi0"
      },
      "execution_count": null,
      "outputs": [
        {
          "output_type": "stream",
          "name": "stderr",
          "text": [
            "[nltk_data] Downloading package maxent_ne_chunker to\n",
            "[nltk_data]     /root/nltk_data...\n",
            "[nltk_data]   Unzipping chunkers/maxent_ne_chunker.zip.\n"
          ]
        },
        {
          "output_type": "execute_result",
          "data": {
            "text/plain": [
              "True"
            ]
          },
          "metadata": {},
          "execution_count": 48
        }
      ]
    },
    {
      "cell_type": "code",
      "source": [
        "nltk.download('words')"
      ],
      "metadata": {
        "colab": {
          "base_uri": "https://localhost:8080/"
        },
        "outputId": "332a4021-5b68-446b-8dca-36ceb62280e0",
        "id": "Ljso7gKQ9Oi0"
      },
      "execution_count": null,
      "outputs": [
        {
          "output_type": "stream",
          "name": "stderr",
          "text": [
            "[nltk_data] Downloading package words to /root/nltk_data...\n",
            "[nltk_data]   Unzipping corpora/words.zip.\n"
          ]
        },
        {
          "output_type": "execute_result",
          "data": {
            "text/plain": [
              "True"
            ]
          },
          "metadata": {},
          "execution_count": 49
        }
      ]
    },
    {
      "cell_type": "code",
      "source": [
        "nltk.download('punkt')"
      ],
      "metadata": {
        "colab": {
          "base_uri": "https://localhost:8080/"
        },
        "outputId": "b039f79c-f1c5-4f4a-c02a-dfc61716832a",
        "id": "W1KKga919Oi0"
      },
      "execution_count": null,
      "outputs": [
        {
          "output_type": "stream",
          "name": "stderr",
          "text": [
            "[nltk_data] Downloading package punkt to /root/nltk_data...\n",
            "[nltk_data]   Unzipping tokenizers/punkt.zip.\n"
          ]
        },
        {
          "output_type": "execute_result",
          "data": {
            "text/plain": [
              "True"
            ]
          },
          "metadata": {},
          "execution_count": 50
        }
      ]
    },
    {
      "cell_type": "markdown",
      "source": [
        "### Features"
      ],
      "metadata": {
        "id": "Ajc7Xsy39Oi0"
      }
    },
    {
      "cell_type": "markdown",
      "source": [
        "Review length"
      ],
      "metadata": {
        "id": "KzjGuBWQ9Oi0"
      }
    },
    {
      "cell_type": "code",
      "source": [
        "# Review length (number of words and characters)\n",
        "gpt_temp['review_length_words'] = np.nan\n",
        "gpt_temp['review_length_chars'] = np.nan\n",
        "for i in range(len(gpt_temp)):\n",
        "    review = gpt_temp['reviews'][i]\n",
        "    words = word_tokenize(review)\n",
        "    gpt_temp.iloc[i, gpt_temp.columns.get_loc('review_length_words')] = len(words)\n",
        "    gpt_temp.iloc[i, gpt_temp.columns.get_loc('review_length_chars')] = len(review)"
      ],
      "metadata": {
        "id": "f1ZWub3r9Oi0"
      },
      "execution_count": null,
      "outputs": []
    },
    {
      "cell_type": "markdown",
      "source": [
        "Sentiment score"
      ],
      "metadata": {
        "id": "FjUrTLgD9Oi0"
      }
    },
    {
      "cell_type": "code",
      "source": [
        "# Sentiment score\n",
        "gpt_temp['sentiment_polarity'] = np.nan\n",
        "gpt_temp['sentiment_subjectivity'] = np.nan\n",
        "for i in range(len(gpt_temp)):\n",
        "    review = gpt_temp['reviews'][i]\n",
        "    sentiment = TextBlob(review).sentiment\n",
        "    gpt_temp.iloc[i, gpt_temp.columns.get_loc('sentiment_polarity')] = sentiment.polarity\n",
        "    gpt_temp.iloc[i, gpt_temp.columns.get_loc('sentiment_subjectivity')] = sentiment.subjectivity"
      ],
      "metadata": {
        "id": "ebIVbjO_9Oi0"
      },
      "execution_count": null,
      "outputs": []
    },
    {
      "cell_type": "markdown",
      "source": [
        "Keywords"
      ],
      "metadata": {
        "id": "9SNkog5_9Oi0"
      }
    },
    {
      "cell_type": "code",
      "source": [
        "# Presence of keywords\n",
        "keywords = [\"plot twist\", \"ending\", \"finale\"]\n",
        "for keyword in keywords:\n",
        "    gpt_temp[f'keyword_{keyword.replace(\" \", \"_\")}'] = np.nan\n",
        "for i in range(len(gpt_temp)):\n",
        "    review = gpt_temp['reviews'][i]\n",
        "    for keyword in keywords:\n",
        "        gpt_temp.iloc[i, gpt_temp.columns.get_loc(f'keyword_{keyword.replace(\" \", \"_\")}')] = int(keyword in review.lower())"
      ],
      "metadata": {
        "id": "tMVCk-929Oi0"
      },
      "execution_count": null,
      "outputs": []
    },
    {
      "cell_type": "markdown",
      "source": [
        "NER"
      ],
      "metadata": {
        "id": "ry0QYtH89Oi0"
      }
    },
    {
      "cell_type": "code",
      "source": [
        "from nltk import tree2conlltags\n",
        "\n",
        "# Named Entity Recognition (NER)\n",
        "gpt_temp['ner_count'] = np.nan\n",
        "\n",
        "for i in range(len(gpt_temp)):\n",
        "    review = gpt_temp['reviews'][i]\n",
        "    words = word_tokenize(review)\n",
        "    entities = nltk.ne_chunk(nltk.pos_tag(words))\n",
        "    iob_tagged = tree2conlltags(entities)\n",
        "    tagged_text = []\n",
        "    for word, pos, ne_tag in iob_tagged:\n",
        "        if ne_tag != 'O':  # If the word is part of a named entity\n",
        "            tagged_word = f\"{word}_{ne_tag[2:]}\"\n",
        "        else:\n",
        "            tagged_word = word\n",
        "        tagged_text.append(tagged_word)\n",
        "\n",
        "    # Join the tagged words into a single string\n",
        "    tagged_text_str = ' '.join(tagged_text)\n",
        "    gpt_temp.loc[i, 'ner_count'] = sum(1 for chunk in entities if hasattr(chunk, 'label'))\n",
        "    gpt_temp.loc[i, 'ner_text'] = tagged_text_str"
      ],
      "metadata": {
        "id": "GTn7putk9Oi0"
      },
      "execution_count": null,
      "outputs": []
    },
    {
      "cell_type": "code",
      "source": [
        "gpt_temp.to_csv(f'{path}/data/openai_reviews_meta_features_NER.csv')"
      ],
      "metadata": {
        "id": "ouTjoftF9Oi0"
      },
      "execution_count": null,
      "outputs": []
    },
    {
      "cell_type": "markdown",
      "source": [
        "## Prediction"
      ],
      "metadata": {
        "id": "yH4qZl9iHSmG"
      }
    },
    {
      "cell_type": "code",
      "source": [
        "gpt_temp = pd.read_csv(f'{path}/data/openai_reviews_meta_features_NER.csv')"
      ],
      "metadata": {
        "id": "wE-1QTSzFDpr"
      },
      "execution_count": null,
      "outputs": []
    },
    {
      "cell_type": "code",
      "source": [
        "from sentence_transformers import SentenceTransformer\n",
        "\n",
        "gpt_model = SentenceTransformer('sentence-transformers/sentence-t5-base')\n",
        "gpt_embeddings = model.encode(gpt_temp['reviews'], show_progress_bar = True)"
      ],
      "metadata": {
        "colab": {
          "base_uri": "https://localhost:8080/",
          "height": 105,
          "referenced_widgets": [
            "5388a101722c40fbb42996759b2b701d",
            "bdb0ac76b8ef4961975442dd38b9b8d2",
            "54b0aa2d88124a6e8d68f5e74de549e5",
            "5406422795f4462bb9f3c53061485f06",
            "ba762f769ae04e26afc1e58a090613b1",
            "ff9ed53c27f844dab4ed3fdccc48168b",
            "15b73daa213e4636b8c9e79b016b1d8b",
            "5f5b4edc5eba4837ba502eab3498b66e",
            "c2e4f78ccf3c4656a36ecd81c02d47be",
            "8a86258ef73347229201eadb6ead5408",
            "a0288ec1f06748819bfe0ee16e4871ac"
          ]
        },
        "id": "-C2VefrCFASZ",
        "outputId": "e1fb8e5b-a11f-4611-a8af-8b1c58a50b51"
      },
      "execution_count": null,
      "outputs": [
        {
          "output_type": "stream",
          "name": "stderr",
          "text": [
            "/usr/local/lib/python3.10/dist-packages/huggingface_hub/file_download.py:1132: FutureWarning: `resume_download` is deprecated and will be removed in version 1.0.0. Downloads always resume when possible. If you want to force a new download, use `force_download=True`.\n",
            "  warnings.warn(\n"
          ]
        },
        {
          "output_type": "display_data",
          "data": {
            "text/plain": [
              "Batches:   0%|          | 0/6 [00:00<?, ?it/s]"
            ],
            "application/vnd.jupyter.widget-view+json": {
              "version_major": 2,
              "version_minor": 0,
              "model_id": "5388a101722c40fbb42996759b2b701d"
            }
          },
          "metadata": {}
        }
      ]
    },
    {
      "cell_type": "code",
      "source": [
        "te = gpt_temp[['review_length_words', 'review_length_chars',\n",
        "            'sentiment_polarity', 'sentiment_subjectivity', 'keyword_plot_twist',\n",
        "            'keyword_ending', 'keyword_finale', 'ner_count']].to_numpy()\n",
        "\n",
        "\n",
        "X_test_gpt = np.hstack((te, gpt_embeddings))\n",
        "\n",
        "y_test_gpt = gpt_temp['is_spoiler'].to_numpy()\n",
        "\n",
        "#scaling features\n",
        "X_test_gpt = scaler.transform(X_test_gpt)\n",
        "\n",
        "\n",
        "predictions = cls.predict(X_test_gpt)\n",
        "\n",
        "# performance report\n",
        "print('Dev performance:')\n",
        "print(classification_report(y_test_gpt, predictions))\n",
        "print(f1_score(y_test_gpt, predictions, average='macro'))"
      ],
      "metadata": {
        "colab": {
          "base_uri": "https://localhost:8080/"
        },
        "id": "dailgr8pF7Fe",
        "outputId": "e2b10abd-2c49-41b1-8ecd-865b827ad3e5"
      },
      "execution_count": null,
      "outputs": [
        {
          "output_type": "stream",
          "name": "stdout",
          "text": [
            "Dev performance:\n",
            "              precision    recall  f1-score   support\n",
            "\n",
            "       False       0.74      0.65      0.69        93\n",
            "        True       0.69      0.77      0.73        93\n",
            "\n",
            "    accuracy                           0.71       186\n",
            "   macro avg       0.71      0.71      0.71       186\n",
            "weighted avg       0.71      0.71      0.71       186\n",
            "\n",
            "0.7084639498432601\n"
          ]
        }
      ]
    }
  ]
}